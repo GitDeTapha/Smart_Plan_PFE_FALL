{
 "cells": [
  {
   "cell_type": "markdown",
   "id": "d75f8099",
   "metadata": {},
   "source": [
    "# Data mining (Serivce Time complément)\n",
    "## Phases 4 & 5 CRISP - DM : Modélisation\n",
    "## Outline\n",
    "- [Préliminaire](#1)\n",
    "- [4 - Modeling and Evaluation ](#4)\n",
    "  - [4.1 - Random Forest](#4.1)\n",
    "      - [4.1.1 - Training model](#4.1.1)\n",
    "      - [4.1.2 - Evaluation ](#4.1.2)\n",
    "  - [4.2 - BOOSTING](#4.2)    \n",
    "      - [4.2.1 - Training model](#4.2.1)\n",
    "      - [4.2.2 - Evaluation ](#4.2.2)\n",
    "  - [4.3 - AdaBoost ](#4.3)    \n",
    "      - [4.3.1 - Training model](#4.3.1)\n",
    "      - [4.3.2 - Evaluation ](#4.3.2)"
   ]
  },
  {
   "cell_type": "code",
   "execution_count": 1,
   "id": "cb2f780e",
   "metadata": {},
   "outputs": [],
   "source": [
    "#Load our local fonctions\n",
    "from utils_st import *\n",
    "# load librairies\n",
    "import pandas as pd\n",
    "import numpy as np\n",
    "import matplotlib.pyplot as plt\n",
    "import seaborn as sns\n",
    "sns.set_style(\"whitegrid\")\n",
    "import scipy.stats as stats\n",
    "\n",
    "import warnings\n",
    "warnings.filterwarnings('ignore')"
   ]
  },
  {
   "cell_type": "code",
   "execution_count": 95,
   "id": "68e64720-736b-4aba-a5ab-b343b6bc19d3",
   "metadata": {},
   "outputs": [],
   "source": [
    "data = pd.read_csv('data/data_prep.csv')"
   ]
  },
  {
   "cell_type": "code",
   "execution_count": 103,
   "id": "d512731e-7f8d-494c-9c3b-f6d0a95ed81c",
   "metadata": {},
   "outputs": [],
   "source": [
    "data = data[data['NoShow']==0]"
   ]
  },
  {
   "cell_type": "code",
   "execution_count": 104,
   "id": "2d835fc7-5b49-414b-a35c-1c80d4d774af",
   "metadata": {},
   "outputs": [],
   "source": [
    "data.drop('NoShow', axis=1, inplace=True)"
   ]
  },
  {
   "cell_type": "markdown",
   "id": "e8430ad1",
   "metadata": {},
   "source": [
    "Traitement des outliers"
   ]
  },
  {
   "cell_type": "code",
   "execution_count": 11,
   "id": "e78df5fc-8e81-4856-8b1a-6c8a34d55d64",
   "metadata": {},
   "outputs": [
    {
     "data": {
      "text/html": [
       "<div>\n",
       "<style scoped>\n",
       "    .dataframe tbody tr th:only-of-type {\n",
       "        vertical-align: middle;\n",
       "    }\n",
       "\n",
       "    .dataframe tbody tr th {\n",
       "        vertical-align: top;\n",
       "    }\n",
       "\n",
       "    .dataframe thead th {\n",
       "        text-align: right;\n",
       "    }\n",
       "</style>\n",
       "<table border=\"1\" class=\"dataframe\">\n",
       "  <thead>\n",
       "    <tr style=\"text-align: right;\">\n",
       "      <th></th>\n",
       "      <th>sta3n</th>\n",
       "      <th>stopcode</th>\n",
       "      <th>dta</th>\n",
       "      <th>dtc</th>\n",
       "      <th>non_va</th>\n",
       "      <th>zip</th>\n",
       "      <th>state</th>\n",
       "      <th>discontinued</th>\n",
       "      <th>NoShow</th>\n",
       "      <th>service_time</th>\n",
       "      <th>day_of_week</th>\n",
       "      <th>day_of_month</th>\n",
       "      <th>month</th>\n",
       "      <th>hour</th>\n",
       "      <th>visit_count</th>\n",
       "      <th>has_already_not_shown</th>\n",
       "    </tr>\n",
       "  </thead>\n",
       "  <tbody>\n",
       "    <tr>\n",
       "      <th>0</th>\n",
       "      <td>-3.506489</td>\n",
       "      <td>1.738750</td>\n",
       "      <td>-0.732499</td>\n",
       "      <td>-0.741437</td>\n",
       "      <td>0.0</td>\n",
       "      <td>1.569981</td>\n",
       "      <td>-1.397075</td>\n",
       "      <td>0.0</td>\n",
       "      <td>0.0</td>\n",
       "      <td>-0.324099</td>\n",
       "      <td>-0.075621</td>\n",
       "      <td>0.942814</td>\n",
       "      <td>-1.014095</td>\n",
       "      <td>0.561814</td>\n",
       "      <td>-0.369306</td>\n",
       "      <td>-0.188026</td>\n",
       "    </tr>\n",
       "    <tr>\n",
       "      <th>1</th>\n",
       "      <td>-3.506489</td>\n",
       "      <td>0.002965</td>\n",
       "      <td>0.045992</td>\n",
       "      <td>-1.154930</td>\n",
       "      <td>0.0</td>\n",
       "      <td>1.569981</td>\n",
       "      <td>-1.397075</td>\n",
       "      <td>0.0</td>\n",
       "      <td>0.0</td>\n",
       "      <td>-0.825176</td>\n",
       "      <td>-1.432588</td>\n",
       "      <td>0.144372</td>\n",
       "      <td>-0.425733</td>\n",
       "      <td>-0.684605</td>\n",
       "      <td>-0.369306</td>\n",
       "      <td>-0.188026</td>\n",
       "    </tr>\n",
       "    <tr>\n",
       "      <th>2</th>\n",
       "      <td>-3.506489</td>\n",
       "      <td>-0.748457</td>\n",
       "      <td>-0.732499</td>\n",
       "      <td>1.503242</td>\n",
       "      <td>0.0</td>\n",
       "      <td>1.569981</td>\n",
       "      <td>-1.397075</td>\n",
       "      <td>0.0</td>\n",
       "      <td>0.0</td>\n",
       "      <td>1.322298</td>\n",
       "      <td>1.281347</td>\n",
       "      <td>-0.311880</td>\n",
       "      <td>1.339354</td>\n",
       "      <td>-0.061396</td>\n",
       "      <td>-0.369306</td>\n",
       "      <td>-0.188026</td>\n",
       "    </tr>\n",
       "    <tr>\n",
       "      <th>3</th>\n",
       "      <td>-3.506489</td>\n",
       "      <td>0.093136</td>\n",
       "      <td>-0.732499</td>\n",
       "      <td>1.266960</td>\n",
       "      <td>0.0</td>\n",
       "      <td>1.478099</td>\n",
       "      <td>-1.342597</td>\n",
       "      <td>0.0</td>\n",
       "      <td>0.0</td>\n",
       "      <td>-0.825176</td>\n",
       "      <td>-0.754104</td>\n",
       "      <td>-0.083754</td>\n",
       "      <td>1.045173</td>\n",
       "      <td>0.561814</td>\n",
       "      <td>-0.369306</td>\n",
       "      <td>-0.188026</td>\n",
       "    </tr>\n",
       "    <tr>\n",
       "      <th>4</th>\n",
       "      <td>-3.506489</td>\n",
       "      <td>0.002965</td>\n",
       "      <td>-0.732499</td>\n",
       "      <td>0.735326</td>\n",
       "      <td>0.0</td>\n",
       "      <td>1.569981</td>\n",
       "      <td>-1.397075</td>\n",
       "      <td>0.0</td>\n",
       "      <td>0.0</td>\n",
       "      <td>-0.252516</td>\n",
       "      <td>1.281347</td>\n",
       "      <td>1.399066</td>\n",
       "      <td>-0.131551</td>\n",
       "      <td>-0.373001</td>\n",
       "      <td>-0.369306</td>\n",
       "      <td>-0.188026</td>\n",
       "    </tr>\n",
       "    <tr>\n",
       "      <th>...</th>\n",
       "      <td>...</td>\n",
       "      <td>...</td>\n",
       "      <td>...</td>\n",
       "      <td>...</td>\n",
       "      <td>...</td>\n",
       "      <td>...</td>\n",
       "      <td>...</td>\n",
       "      <td>...</td>\n",
       "      <td>...</td>\n",
       "      <td>...</td>\n",
       "      <td>...</td>\n",
       "      <td>...</td>\n",
       "      <td>...</td>\n",
       "      <td>...</td>\n",
       "      <td>...</td>\n",
       "      <td>...</td>\n",
       "    </tr>\n",
       "    <tr>\n",
       "      <th>28652024</th>\n",
       "      <td>-1.133873</td>\n",
       "      <td>0.153250</td>\n",
       "      <td>-0.732499</td>\n",
       "      <td>0.853467</td>\n",
       "      <td>1.0</td>\n",
       "      <td>-0.699106</td>\n",
       "      <td>-1.015730</td>\n",
       "      <td>0.0</td>\n",
       "      <td>1.0</td>\n",
       "      <td>0.463309</td>\n",
       "      <td>-0.075621</td>\n",
       "      <td>1.627192</td>\n",
       "      <td>0.456811</td>\n",
       "      <td>-0.996210</td>\n",
       "      <td>-0.369306</td>\n",
       "      <td>-0.188026</td>\n",
       "    </tr>\n",
       "    <tr>\n",
       "      <th>28652025</th>\n",
       "      <td>-0.782374</td>\n",
       "      <td>-0.725914</td>\n",
       "      <td>-0.732499</td>\n",
       "      <td>-0.268873</td>\n",
       "      <td>0.0</td>\n",
       "      <td>-0.830936</td>\n",
       "      <td>1.054434</td>\n",
       "      <td>0.0</td>\n",
       "      <td>0.0</td>\n",
       "      <td>0.033814</td>\n",
       "      <td>1.281347</td>\n",
       "      <td>0.942814</td>\n",
       "      <td>-1.308276</td>\n",
       "      <td>0.873419</td>\n",
       "      <td>-0.369306</td>\n",
       "      <td>-0.188026</td>\n",
       "    </tr>\n",
       "    <tr>\n",
       "      <th>28652026</th>\n",
       "      <td>-0.782374</td>\n",
       "      <td>1.498295</td>\n",
       "      <td>0.045992</td>\n",
       "      <td>-0.091661</td>\n",
       "      <td>0.0</td>\n",
       "      <td>-0.830936</td>\n",
       "      <td>1.054434</td>\n",
       "      <td>0.0</td>\n",
       "      <td>0.0</td>\n",
       "      <td>0.248561</td>\n",
       "      <td>-1.432588</td>\n",
       "      <td>1.285003</td>\n",
       "      <td>-1.308276</td>\n",
       "      <td>-0.373001</td>\n",
       "      <td>-0.369306</td>\n",
       "      <td>-0.188026</td>\n",
       "    </tr>\n",
       "    <tr>\n",
       "      <th>28652027</th>\n",
       "      <td>-0.782374</td>\n",
       "      <td>-0.733428</td>\n",
       "      <td>0.045992</td>\n",
       "      <td>0.558114</td>\n",
       "      <td>0.0</td>\n",
       "      <td>-0.830936</td>\n",
       "      <td>1.054434</td>\n",
       "      <td>0.0</td>\n",
       "      <td>0.0</td>\n",
       "      <td>1.250716</td>\n",
       "      <td>1.281347</td>\n",
       "      <td>-0.996259</td>\n",
       "      <td>-0.719914</td>\n",
       "      <td>0.250209</td>\n",
       "      <td>-0.369306</td>\n",
       "      <td>-0.188026</td>\n",
       "    </tr>\n",
       "    <tr>\n",
       "      <th>28652028</th>\n",
       "      <td>-0.782374</td>\n",
       "      <td>-0.733428</td>\n",
       "      <td>0.045992</td>\n",
       "      <td>0.144621</td>\n",
       "      <td>0.0</td>\n",
       "      <td>-0.826942</td>\n",
       "      <td>1.054434</td>\n",
       "      <td>0.0</td>\n",
       "      <td>0.0</td>\n",
       "      <td>0.749638</td>\n",
       "      <td>-1.432588</td>\n",
       "      <td>1.513129</td>\n",
       "      <td>0.162630</td>\n",
       "      <td>0.873419</td>\n",
       "      <td>-0.369306</td>\n",
       "      <td>-0.188026</td>\n",
       "    </tr>\n",
       "  </tbody>\n",
       "</table>\n",
       "<p>28652029 rows × 16 columns</p>\n",
       "</div>"
      ],
      "text/plain": [
       "             sta3n  stopcode       dta       dtc  non_va       zip     state  \\\n",
       "0        -3.506489  1.738750 -0.732499 -0.741437     0.0  1.569981 -1.397075   \n",
       "1        -3.506489  0.002965  0.045992 -1.154930     0.0  1.569981 -1.397075   \n",
       "2        -3.506489 -0.748457 -0.732499  1.503242     0.0  1.569981 -1.397075   \n",
       "3        -3.506489  0.093136 -0.732499  1.266960     0.0  1.478099 -1.342597   \n",
       "4        -3.506489  0.002965 -0.732499  0.735326     0.0  1.569981 -1.397075   \n",
       "...            ...       ...       ...       ...     ...       ...       ...   \n",
       "28652024 -1.133873  0.153250 -0.732499  0.853467     1.0 -0.699106 -1.015730   \n",
       "28652025 -0.782374 -0.725914 -0.732499 -0.268873     0.0 -0.830936  1.054434   \n",
       "28652026 -0.782374  1.498295  0.045992 -0.091661     0.0 -0.830936  1.054434   \n",
       "28652027 -0.782374 -0.733428  0.045992  0.558114     0.0 -0.830936  1.054434   \n",
       "28652028 -0.782374 -0.733428  0.045992  0.144621     0.0 -0.826942  1.054434   \n",
       "\n",
       "          discontinued  NoShow  service_time  day_of_week  day_of_month  \\\n",
       "0                  0.0     0.0     -0.324099    -0.075621      0.942814   \n",
       "1                  0.0     0.0     -0.825176    -1.432588      0.144372   \n",
       "2                  0.0     0.0      1.322298     1.281347     -0.311880   \n",
       "3                  0.0     0.0     -0.825176    -0.754104     -0.083754   \n",
       "4                  0.0     0.0     -0.252516     1.281347      1.399066   \n",
       "...                ...     ...           ...          ...           ...   \n",
       "28652024           0.0     1.0      0.463309    -0.075621      1.627192   \n",
       "28652025           0.0     0.0      0.033814     1.281347      0.942814   \n",
       "28652026           0.0     0.0      0.248561    -1.432588      1.285003   \n",
       "28652027           0.0     0.0      1.250716     1.281347     -0.996259   \n",
       "28652028           0.0     0.0      0.749638    -1.432588      1.513129   \n",
       "\n",
       "             month      hour  visit_count  has_already_not_shown  \n",
       "0        -1.014095  0.561814    -0.369306              -0.188026  \n",
       "1        -0.425733 -0.684605    -0.369306              -0.188026  \n",
       "2         1.339354 -0.061396    -0.369306              -0.188026  \n",
       "3         1.045173  0.561814    -0.369306              -0.188026  \n",
       "4        -0.131551 -0.373001    -0.369306              -0.188026  \n",
       "...            ...       ...          ...                    ...  \n",
       "28652024  0.456811 -0.996210    -0.369306              -0.188026  \n",
       "28652025 -1.308276  0.873419    -0.369306              -0.188026  \n",
       "28652026 -1.308276 -0.373001    -0.369306              -0.188026  \n",
       "28652027 -0.719914  0.250209    -0.369306              -0.188026  \n",
       "28652028  0.162630  0.873419    -0.369306              -0.188026  \n",
       "\n",
       "[28652029 rows x 16 columns]"
      ]
     },
     "execution_count": 11,
     "metadata": {},
     "output_type": "execute_result"
    }
   ],
   "source": [
    "data"
   ]
  },
  {
   "cell_type": "code",
   "execution_count": 3,
   "id": "919203a7-69a0-4fb6-8bc1-3e3e4aeee129",
   "metadata": {},
   "outputs": [],
   "source": [
    "#data.drop(['day_of_week_name','week_segment','day_in_week_segment'], axis = 1, inplace = True)"
   ]
  },
  {
   "cell_type": "code",
   "execution_count": 5,
   "id": "3da87e56-485d-4c56-8875-7c39ca767161",
   "metadata": {},
   "outputs": [],
   "source": [
    "data  = data[data['NoShow'] == 0.0]"
   ]
  },
  {
   "cell_type": "code",
   "execution_count": 6,
   "id": "a23f759c-90a2-4209-8ca7-54919cf18010",
   "metadata": {},
   "outputs": [],
   "source": [
    "data.drop('NoShow', axis = 1, inplace = True)"
   ]
  },
  {
   "cell_type": "markdown",
   "id": "e728cebc-9bc4-4fb2-837e-f3843984a507",
   "metadata": {},
   "source": [
    "from sklearn.preprocessing import LabelEncoder, OneHotEncoder\n",
    "label_encoder = LabelEncoder()\n",
    "data['state'] = label_encoder.fit_transform(data['state'])"
   ]
  },
  {
   "cell_type": "code",
   "execution_count": 121,
   "id": "e4e66ca4",
   "metadata": {},
   "outputs": [],
   "source": [
    "from sklearn.model_selection import train_test_split\n",
    "\n",
    "# Assuming 'data' is your DataFrame and 'service_time' is the column you want to predict\n",
    "X = data.drop('service_time', axis=1)  # Features: Drop the target variable column from the dataset\n",
    "y = data['service_time']"
   ]
  },
  {
   "cell_type": "code",
   "execution_count": 119,
   "id": "57ecce76-a846-41e1-8ba3-f66e89b9ef78",
   "metadata": {},
   "outputs": [],
   "source": [
    "save_dataframe(data, 'data_st')"
   ]
  },
  {
   "cell_type": "code",
   "execution_count": 88,
   "id": "3d69e18a-1cfe-419b-be03-673b7e4737a8",
   "metadata": {},
   "outputs": [],
   "source": [
    "X_train, X_test, y_train, y_test = train_test_split(X, y, test_size=0.3, random_state=0, shuffle=True)"
   ]
  },
  {
   "cell_type": "code",
   "execution_count": 99,
   "id": "e8eb5ae1",
   "metadata": {},
   "outputs": [],
   "source": [
    "# Fonction pour enregistrer un DataFrame en CSV dans le répertoire 'preprocessed'\n",
    "def save_dataframe(df, name):\n",
    "    filename = f'data_st/{name}.csv'\n",
    "    df.to_csv(filename, index=False)"
   ]
  },
  {
   "cell_type": "code",
   "execution_count": 123,
   "id": "745d6d52-52a9-4430-aba7-ded02160bd60",
   "metadata": {},
   "outputs": [],
   "source": [
    "save_dataframe(X_train, 'X_train')\n",
    "save_dataframe(y_train, 'y_train')"
   ]
  },
  {
   "cell_type": "code",
   "execution_count": 124,
   "id": "54a1452e-c1bb-4a15-aa49-a0bbfa9ba86c",
   "metadata": {},
   "outputs": [],
   "source": [
    "save_dataframe(X_test, 'X_test')\n",
    "save_dataframe(y_test, 'y_test')"
   ]
  },
  {
   "cell_type": "code",
   "execution_count": 49,
   "id": "63fe5a17-580e-4c87-8a5d-87e446aaa9c9",
   "metadata": {},
   "outputs": [],
   "source": [
    "from sklearn.preprocessing import StandardScaler\n",
    "# Initialiser le scaler\n",
    "scaler = StandardScaler()\n",
    "\n",
    "# Ajuster le scaler sur l'ensemble d'entraînement\n",
    "X_train = scaler.fit_transform(X_train)\n",
    "\n",
    "# Transformer l'ensemble de test avec les paramètres du scaler appris à partir de l'ensemble d'entraînement\n",
    "X_test = scaler.fit_transform(X_test)\n"
   ]
  },
  {
   "cell_type": "code",
   "execution_count": 89,
   "id": "cfcd7f6a-716f-4adb-9a28-9e164d743dc8",
   "metadata": {},
   "outputs": [],
   "source": [
    "from sklearn.preprocessing import MinMaxScaler\n",
    "\n",
    "# Initialiser le MinMaxScaler\n",
    "# Normalisation des données après le sampling\n",
    "scaler = MinMaxScaler()\n",
    "X_train = scaler.fit_transform(X_train)\n",
    "X_test = scaler.transform(X_test)"
   ]
  },
  {
   "cell_type": "code",
   "execution_count": 129,
   "id": "3d919bbc",
   "metadata": {},
   "outputs": [
    {
     "data": {
      "text/plain": [
       "5887"
      ]
     },
     "execution_count": 129,
     "metadata": {},
     "output_type": "execute_result"
    }
   ],
   "source": [
    "import gc \n",
    "# Pour des soucis de mémoire, on libère la variable data\n",
    "del data, X, y\n",
    "gc.collect()  # vider le garbage collector Explicitly"
   ]
  },
  {
   "cell_type": "markdown",
   "id": "0216008a",
   "metadata": {},
   "source": [
    "<a name=\"4\"></a>\n",
    "## 4 - Modeling"
   ]
  },
  {
   "cell_type": "code",
   "execution_count": 3,
   "id": "d8dcf60f",
   "metadata": {},
   "outputs": [],
   "source": [
    "import numpy as np\n",
    "from sklearn.utils import shuffle\n",
    "from sklearn.metrics import mean_squared_error"
   ]
  },
  {
   "cell_type": "code",
   "execution_count": 20,
   "id": "0ba0a437-3cee-4171-9515-55ff5ea7e8ac",
   "metadata": {},
   "outputs": [],
   "source": [
    "from sklearn.utils import resample\n",
    "# Définition de la fonction plot_feature_importances_bootstrap\n",
    "def plot_feature_importances_bootstrap(model, X_train, y_train, feature_names, title, top_n=15, n_iterations=10):\n",
    "    \"\"\"\n",
    "    Plot the top n feature importances of the given model using bootstrapping.\n",
    "\n",
    "    Args:\n",
    "        model: The trained model, e.g., an instance of RandomForestRegressor or XGBRegressor.\n",
    "        X_train (DataFrame or ndarray): The training data.\n",
    "        y_train (Series or ndarray): The target values.\n",
    "        feature_names (list): A list of names corresponding to the features in the training data.\n",
    "        top_n (int): The number of top features to display.\n",
    "        n_iterations (int): The number of bootstrap iterations.\n",
    "    \"\"\"\n",
    "    # Initialize an array to store importances from each iteration\n",
    "    all_importances = np.zeros((n_iterations + 1, X_train.shape[1]))\n",
    "\n",
    "    # Store the feature importances of the pre-trained model\n",
    "    all_importances[0] = model.feature_importances_\n",
    "\n",
    "    for i in range(1, n_iterations + 1):\n",
    "        # Create a bootstrap sample\n",
    "        X_resampled, y_resampled = resample(X_train, y_train)\n",
    "        \n",
    "        # Fit the model on the resampled data\n",
    "        model.fit(X_resampled, y_resampled)\n",
    "        \n",
    "        # Store the feature importances\n",
    "        all_importances[i] = model.feature_importances_\n",
    "    \n",
    "    # Compute the mean and standard deviation of feature importances\n",
    "    mean_importances = np.mean(all_importances, axis=0)\n",
    "    std_importances = np.std(all_importances, axis=0)\n",
    "\n",
    "    # Create a DataFrame for easier handling\n",
    "    feature_importances = pd.DataFrame({\n",
    "        'feature': feature_names,\n",
    "        'importance_mean': mean_importances,\n",
    "        'importance_std': std_importances\n",
    "    })\n",
    "\n",
    "    # Sort features according to the mean importance\n",
    "    feature_importances = feature_importances.sort_values(by='importance_mean', ascending=False)\n",
    "\n",
    "    # Select top n features\n",
    "    feature_importances = feature_importances.head(top_n)\n",
    "\n",
    "    # Ensure xerr is the same shape as x\n",
    "    xerr = feature_importances['importance_std'].values\n",
    "\n",
    "    # Plotting\n",
    "    plt.figure(figsize=(10, 6))\n",
    "    sns.barplot(x='importance_mean', y='feature', data=feature_importances)\n",
    "    plt.errorbar(x=feature_importances['importance_mean'], y=feature_importances['feature'], \n",
    "                 xerr=xerr, fmt='none', c='black', capsize=3)\n",
    "    plt.title(title)\n",
    "    plt.xlabel('Importance (mean)')\n",
    "    plt.ylabel('Features')\n",
    "    plt.show()"
   ]
  },
  {
   "cell_type": "markdown",
   "id": "a7a26c40",
   "metadata": {},
   "source": [
    "<a name=\"4.1\"></a>\n",
    "###  4.1 - Random Forest Regressor"
   ]
  },
  {
   "cell_type": "code",
   "execution_count": 4,
   "id": "33f8c71e",
   "metadata": {},
   "outputs": [],
   "source": [
    "from sklearn.ensemble import RandomForestRegressor\n",
    "from sklearn.model_selection import train_test_split\n",
    "from sklearn.metrics import mean_squared_error, r2_score"
   ]
  },
  {
   "cell_type": "markdown",
   "id": "44569bf5",
   "metadata": {},
   "source": [
    "<a name=\"4.1.1\"></a>\n",
    "### 4.1.1 - Training model"
   ]
  },
  {
   "cell_type": "code",
   "execution_count": null,
   "id": "7265e4d3-a476-4b4d-ad7d-45068a1d88e8",
   "metadata": {},
   "outputs": [],
   "source": [
    "# Chargement du modèle\n",
    "from joblib import load\n",
    "best_rf_regressor = load('best_rf_regressor.joblib')\n",
    "print(\"Paramètres du modèle de best_rf_regressor:\")\n",
    "print(best_rf_regressor.get_params())"
   ]
  },
  {
   "cell_type": "code",
   "execution_count": 29,
   "id": "760faf29-1a48-4741-b391-911d13c27001",
   "metadata": {},
   "outputs": [
    {
     "name": "stdout",
     "output_type": "stream",
     "text": [
      "Fitting 3 folds for each of 4 candidates, totalling 12 fits\n",
      "Best parameters found:  {'max_depth': 10, 'min_samples_leaf': 1, 'min_samples_split': 2, 'n_estimators': 500}\n",
      "Best base estimator:  RandomForestRegressor(max_depth=10, n_estimators=500, n_jobs=2, random_state=0)\n"
     ]
    }
   ],
   "source": [
    "from sklearn.ensemble import RandomForestRegressor\n",
    "from sklearn.model_selection import GridSearchCV\n",
    "\n",
    "# Initialize the Random Forest Regressor with a baseline configuration\n",
    "rf_regressor = RandomForestRegressor(random_state=0, n_jobs = 2)\n",
    "\n",
    "# Define a parameter grid to search over\n",
    "param_grid = {\n",
    "    'n_estimators': [100, 500],  # Number of trees in the forest\n",
    "    'max_depth': [20],        # Maximum number of levels in each tree\n",
    "    'min_samples_split': [2],  # Minimum number of samples required to split a node\n",
    "    'min_samples_leaf': [1]     # Minimum number of samples required at each leaf node\n",
    "}\n",
    "\n",
    "# Initialize GridSearchCV with the model, parameter grid, and number of folds for cross-validation\n",
    "grid_search = GridSearchCV(estimator=rf_regressor, param_grid=param_grid, cv=3, verbose=2, n_jobs=4, scoring='neg_mean_squared_error')\n",
    "\n",
    "# Fit GridSearchCV to the training data\n",
    "grid_search.fit(X_train, y_train)\n",
    "\n",
    "# Get the best parameters and the best model\n",
    "best_params = grid_search.best_params_\n",
    "best_rf_regressor = grid_search.best_estimator_\n",
    "\n",
    "print(\"Best parameters found: \", best_params)\n",
    "print(\"Best base estimator: \", best_rf_regressor)\n"
   ]
  },
  {
   "cell_type": "code",
   "execution_count": 21,
   "id": "7f871672",
   "metadata": {},
   "outputs": [
    {
     "name": "stdout",
     "output_type": "stream",
     "text": [
      "Fitting 2 folds for each of 1 candidates, totalling 2 fits\n",
      "Best parameters found:  {'max_depth': 20, 'min_samples_leaf': 1, 'min_samples_split': 2, 'n_estimators': 500}\n",
      "Best base estimator:  RandomForestRegressor(max_depth=20, n_estimators=500, n_jobs=-1, random_state=0)\n"
     ]
    }
   ],
   "source": [
    "from sklearn.ensemble import RandomForestRegressor\n",
    "from sklearn.model_selection import GridSearchCV\n",
    "\n",
    "# Initialize the Random Forest Regressor with a baseline configuration\n",
    "rf_regressor = RandomForestRegressor(random_state=0, n_jobs = -1)\n",
    "\n",
    "# Define a parameter grid to search over\n",
    "param_grid = {\n",
    "    'n_estimators': [500],  # Number of trees in the forest\n",
    "    'max_depth': [20],        # Maximum number of levels in each tree\n",
    "    'min_samples_split': [2],  # Minimum number of samples required to split a node\n",
    "    'min_samples_leaf': [1]     # Minimum number of samples required at each leaf node\n",
    "}\n",
    "\n",
    "# Initialize GridSearchCV with the model, parameter grid, and number of folds for cross-validation\n",
    "grid_search = GridSearchCV(estimator=rf_regressor, param_grid=param_grid, cv=2, verbose=2, n_jobs=-1, scoring='neg_mean_squared_error')\n",
    "\n",
    "# Fit GridSearchCV to the training data\n",
    "grid_search.fit(X_train, y_train)\n",
    "\n",
    "# Get the best parameters and the best model\n",
    "best_params = grid_search.best_params_\n",
    "best_rf_regressor = grid_search.best_estimator_\n",
    "\n",
    "print(\"Best parameters found: \", best_params)\n",
    "print(\"Best base estimator: \", best_rf_regressor)\n"
   ]
  },
  {
   "cell_type": "code",
   "execution_count": 17,
   "id": "865abb63",
   "metadata": {},
   "outputs": [
    {
     "name": "stdout",
     "output_type": "stream",
     "text": [
      "Modèle enregistré avec succès.\n"
     ]
    }
   ],
   "source": [
    "from joblib import dump\n",
    "dump(best_rf_regressor, 'best_rf_regressor_.joblib')\n",
    "print(\"Modèle enregistré avec succès.\")"
   ]
  },
  {
   "cell_type": "code",
   "execution_count": 31,
   "id": "651e11bc-7ca2-408e-99f2-ab4f1b9a9af6",
   "metadata": {},
   "outputs": [],
   "source": [
    "best_rf_regressor = grid_search.best_estimator_"
   ]
  },
  {
   "cell_type": "code",
   "execution_count": 32,
   "id": "7bb0ac20",
   "metadata": {},
   "outputs": [],
   "source": [
    "# Predict on the training set and the test set\n",
    "y_pred_rf_train = best_rf_regressor.predict(X_train)\n",
    "y_pred_rf_test = best_rf_regressor.predict(X_test)"
   ]
  },
  {
   "cell_type": "markdown",
   "id": "837f8cb1",
   "metadata": {},
   "source": [
    "<a name=\"4.1.2\"></a>\n",
    "### 4.1.2 - Evaluation"
   ]
  },
  {
   "cell_type": "code",
   "execution_count": 15,
   "id": "8bc5cf3e-628a-4372-bebf-26d0ad5bfa07",
   "metadata": {},
   "outputs": [
    {
     "name": "stdout",
     "output_type": "stream",
     "text": [
      "Training Metrics:\n",
      "R-squared: 0.3488509790458292\n",
      "Mean Absolute Error (MAE): 13.808799490689259\n",
      "Mean Squared Error (MSE): 414.4767311890051\n",
      "Root Mean Squared Error (RMSE): 20.358701608624383\n",
      "\n",
      "Testing Metrics:\n",
      "R-squared: 0.2087774251846486\n",
      "Mean Absolute Error (MAE): 14.906843931511263\n",
      "Mean Squared Error (MSE): 502.7150611754343\n",
      "Root Mean Squared Error (RMSE): 22.4213081950058\n"
     ]
    }
   ],
   "source": [
    "# Now call the function with actual and predicted values\n",
    "evaluate_model_performance(y_train, y_test, y_pred_rf_train, y_pred_rf_test)"
   ]
  },
  {
   "cell_type": "code",
   "execution_count": 34,
   "id": "c3179a21",
   "metadata": {},
   "outputs": [
    {
     "name": "stdout",
     "output_type": "stream",
     "text": [
      "Training Metrics:\n",
      "R-squared: 0.11335950242330672\n",
      "Mean Absolute Error (MAE): 16.003479658223057\n",
      "Mean Squared Error (MSE): 564.3744263592245\n",
      "Root Mean Squared Error (RMSE): 23.75656596310217\n",
      "\n",
      "Testing Metrics:\n",
      "R-squared: 0.11181591711935857\n",
      "Mean Absolute Error (MAE): 15.99790178980408\n",
      "Mean Squared Error (MSE): 564.3210011602484\n",
      "Root Mean Squared Error (RMSE): 23.75544150632121\n"
     ]
    }
   ],
   "source": [
    "# Now call the function with actual and predicted values\n",
    "evaluate_model_performance(y_train, y_test, y_pred_rf_train, y_pred_rf_test)"
   ]
  },
  {
   "cell_type": "code",
   "execution_count": 60,
   "id": "c5b157a3-eb1b-4531-8656-1a938cb67efa",
   "metadata": {},
   "outputs": [],
   "source": [
    "# Si y_test est un DataFrame, assurez-vous que y_pred_xgb_test a la même forme\n",
    "if isinstance(y_test, pd.DataFrame):\n",
    "    y_pred_rf_test = pd.DataFrame(y_pred_rf_test, index=y_test.index, columns=y_test.columns)\n",
    "elif isinstance(y_test, pd.Series):\n",
    "    y_pred_rf_test = pd.Series(y_pred_rf_test, index=y_test.index)\n"
   ]
  },
  {
   "cell_type": "code",
   "execution_count": 61,
   "id": "5750a82a",
   "metadata": {},
   "outputs": [],
   "source": [
    "# calculate residuals\n",
    "residuals_rf = y_test - y_pred_rf_test"
   ]
  },
  {
   "cell_type": "code",
   "execution_count": 63,
   "id": "52956a5f-1bab-4d48-ba74-b83c8c8e098b",
   "metadata": {},
   "outputs": [],
   "source": [
    "if isinstance(residuals_rf, pd.DataFrame):\n",
    "    residuals_rf = residuals_rf.squeeze()"
   ]
  },
  {
   "cell_type": "code",
   "execution_count": 64,
   "id": "fd3684a1",
   "metadata": {},
   "outputs": [
    {
     "data": {
      "image/png": "[encoded data removed]",
      "text/plain": [
       "<Figure size 1000x600 with 1 Axes>"
      ]
     },
     "metadata": {},
     "output_type": "display_data"
    }
   ],
   "source": [
    "plot_residuals_histogram(best_rf_regressor, residuals_rf)"
   ]
  },
  {
   "cell_type": "code",
   "execution_count": 65,
   "id": "28ec0b0c",
   "metadata": {},
   "outputs": [
    {
     "data": {
      "image/png": "[encoded data removed]",
      "text/plain": [
       "<Figure size 800x600 with 1 Axes>"
      ]
     },
     "metadata": {},
     "output_type": "display_data"
    }
   ],
   "source": [
    "plot_residuals_boxplot(rf_regressor, residuals_rf)"
   ]
  },
  {
   "cell_type": "code",
   "execution_count": 77,
   "id": "9c392d28",
   "metadata": {
    "scrolled": true
   },
   "outputs": [
    {
     "data": {
      "text/plain": [
       "16"
      ]
     },
     "execution_count": 77,
     "metadata": {},
     "output_type": "execute_result"
    }
   ],
   "source": [
    "feature_imporatnce = X_train.columns.tolist()\n",
    "len(feature_imporatnce)"
   ]
  },
  {
   "cell_type": "code",
   "execution_count": 72,
   "id": "dacf7a4a-a7ac-43c7-b41f-c48f57cc0655",
   "metadata": {},
   "outputs": [
    {
     "data": {
      "text/plain": [
       "['sta3n',\n",
       " 'stopcode',\n",
       " 'dta',\n",
       " 'dts',\n",
       " 'non_va',\n",
       " 'zip',\n",
       " 'state',\n",
       " 'NoShow',\n",
       " 'discontinued',\n",
       " 'typecare',\n",
       " 'day_of_week',\n",
       " 'day_of_month',\n",
       " 'month',\n",
       " 'hour',\n",
       " 'prior_noShow_rate',\n",
       " 'prior_service_time_avg']"
      ]
     },
     "execution_count": 72,
     "metadata": {},
     "output_type": "execute_result"
    }
   ],
   "source": [
    "feature_imporatnce"
   ]
  },
  {
   "cell_type": "code",
   "execution_count": 109,
   "id": "aff8b4b5-0899-4966-8ce0-c470686f5095",
   "metadata": {},
   "outputs": [],
   "source": [
    "def plot_feature_importances(model, feature_names, title ,top_n=15):\n",
    "    \"\"\"\n",
    "    Plot the top n feature importances of the given model.\n",
    "\n",
    "    Args:\n",
    "        model: The trained model, e.g., an instance of RandomForestRegressor or XGBRegressor.\n",
    "        feature_names (list): A list of names corresponding to the features in the training data.\n",
    "        top_n (int): The number of top features to display.\n",
    "    \"\"\"\n",
    "    # Extract feature importances from the model\n",
    "    importances = model.feature_importances_\n",
    "\n",
    "    # Create a DataFrame for easier handling\n",
    "    feature_importances = pd.DataFrame({'feature': feature_names, 'importance': importances})\n",
    "\n",
    "    # Sort features according to importance\n",
    "    feature_importances = feature_importances.sort_values(by='importance', ascending=False)\n",
    "\n",
    "    # Select top n features\n",
    "    feature_importances = feature_importances.head(top_n)\n",
    "\n",
    "    # Plotting\n",
    "    plt.figure(figsize=(10, 6))\n",
    "    sns.barplot(x='importance', y='feature', data=feature_importances)\n",
    "    plt.title(title)\n",
    "    plt.xlabel('Importance')\n",
    "    plt.ylabel('Features')\n",
    "    plt.show()"
   ]
  },
  {
   "cell_type": "code",
   "execution_count": 29,
   "id": "3d7c8bba-fb93-40bb-851e-c7b239a79947",
   "metadata": {},
   "outputs": [],
   "source": [
    "X_test_ = pd.read_csv('data_st/X_test.csv')"
   ]
  },
  {
   "cell_type": "code",
   "execution_count": 30,
   "id": "babec258-995b-4823-b17b-cb29687a20a8",
   "metadata": {},
   "outputs": [],
   "source": [
    "feature_names = X_test_.columns.tolist()"
   ]
  },
  {
   "cell_type": "code",
   "execution_count": 31,
   "id": "673f4d05-1086-4694-b724-06d3c72047ae",
   "metadata": {},
   "outputs": [
    {
     "data": {
      "text/plain": [
       "['sta3n',\n",
       " 'stopcode',\n",
       " 'dta',\n",
       " 'dts',\n",
       " 'non_va',\n",
       " 'zip',\n",
       " 'state',\n",
       " 'discontinued',\n",
       " 'typecare',\n",
       " 'day_of_week',\n",
       " 'day_of_month',\n",
       " 'month',\n",
       " 'hour',\n",
       " 'prior_noShow_rate',\n",
       " 'prior_service_time_avg']"
      ]
     },
     "execution_count": 31,
     "metadata": {},
     "output_type": "execute_result"
    }
   ],
   "source": [
    "feature_names"
   ]
  },
  {
   "cell_type": "code",
   "execution_count": 18,
   "id": "ecf5ad50-96ff-49c8-bbc9-d5ac5ab0342a",
   "metadata": {},
   "outputs": [],
   "source": [
    "title_rf = \"Random Forest\""
   ]
  },
  {
   "cell_type": "code",
   "execution_count": 27,
   "id": "e1012e04-02e6-4bd6-9d7c-c0b1d6cb6860",
   "metadata": {},
   "outputs": [
    {
     "data": {
      "image/png": "[encoded data removed]",
      "text/plain": [
       "<Figure size 1000x600 with 1 Axes>"
      ]
     },
     "metadata": {},
     "output_type": "display_data"
    }
   ],
   "source": [
    "plot_feature_importances_bootstrap(best_rf_regressor, X_train, y_train, feature_name, title_rf, top_n=16, n_iterations=2)"
   ]
  },
  {
   "cell_type": "markdown",
   "id": "6186e88d",
   "metadata": {},
   "source": [
    "<a name=\"4.2\"></a>\n",
    "###  4.2 - XGBoosting Regressor"
   ]
  },
  {
   "cell_type": "markdown",
   "id": "9981af94",
   "metadata": {},
   "source": [
    "<a name=\"4.2.1\"></a>\n",
    "### 4.2.1 - Training model"
   ]
  },
  {
   "cell_type": "code",
   "execution_count": null,
   "id": "98cf2f6e",
   "metadata": {},
   "outputs": [],
   "source": [
    "import xgboost as xgb\n",
    "from sklearn.model_selection import train_test_split\n",
    "from sklearn.metrics import mean_squared_error, r2_score"
   ]
  },
  {
   "cell_type": "code",
   "execution_count": 2,
   "id": "3c753338-26d9-4a77-9032-e3ba9564bd2a",
   "metadata": {},
   "outputs": [
    {
     "name": "stdout",
     "output_type": "stream",
     "text": [
      "Paramètres du modèle de modele_rf_regressor:\n",
      "{'objective': 'reg:squarederror', 'base_score': None, 'booster': None, 'callbacks': None, 'colsample_bylevel': None, 'colsample_bynode': None, 'colsample_bytree': 0.3, 'device': None, 'early_stopping_rounds': None, 'enable_categorical': False, 'eval_metric': None, 'feature_types': None, 'gamma': None, 'grow_policy': None, 'importance_type': None, 'interaction_constraints': None, 'learning_rate': 0.1, 'max_bin': None, 'max_cat_threshold': None, 'max_cat_to_onehot': None, 'max_delta_step': None, 'max_depth': 15, 'max_leaves': None, 'min_child_weight': None, 'missing': nan, 'monotone_constraints': None, 'multi_strategy': None, 'n_estimators': 1000, 'n_jobs': 2, 'num_parallel_tree': None, 'random_state': None, 'reg_alpha': None, 'reg_lambda': None, 'sampling_method': None, 'scale_pos_weight': None, 'subsample': None, 'tree_method': None, 'validate_parameters': None, 'verbosity': None, 'alpha': 10, 'random_stae': 0}\n"
     ]
    }
   ],
   "source": [
    "# Chargement du modèle\n",
    "from joblib import load\n",
    "best_xgb_model = load('best_xgb_model_v7.joblib')\n",
    "print(\"Paramètres du modèle de modele_rf_regressor:\")\n",
    "print(best_xgb_model.get_params())"
   ]
  },
  {
   "cell_type": "code",
   "execution_count": 37,
   "id": "ee99b416",
   "metadata": {},
   "outputs": [],
   "source": [
    "# Initialize the XGBoost Regressor\n",
    "xg_reg = xgb.XGBRegressor(colsample_bytree = 0.3, alpha = 10, random_stae = 0, n_jobs = 2)"
   ]
  },
  {
   "cell_type": "code",
   "execution_count": 39,
   "id": "6a47b01b",
   "metadata": {},
   "outputs": [
    {
     "name": "stdout",
     "output_type": "stream",
     "text": [
      "Fitting 2 folds for each of 8 candidates, totalling 16 fits\n",
      "Best parameters found:  {'learning_rate': 0.1, 'max_depth': 15, 'n_estimators': 1000}\n",
      "Lowest RMSE found:  22.639993120022787\n"
     ]
    }
   ],
   "source": [
    "from sklearn.model_selection import GridSearchCV\n",
    "\n",
    "# Define the parameter grid\n",
    "param_grid = {\n",
    "    'max_depth': [5, 15],\n",
    "    'n_estimators': [10, 1000],\n",
    "    'learning_rate': [0.05, 0.1]\n",
    "}\n",
    "\n",
    "# Initialize the GridSearchCV object\n",
    "grid_search = GridSearchCV(estimator=xg_reg, param_grid=param_grid, scoring='neg_mean_squared_error', cv=2, verbose=1, n_jobs=4)\n",
    "\n",
    "# Fit to the data\n",
    "grid_search.fit(X_train, y_train)\n",
    "\n",
    "# Best parameters and best score\n",
    "print(\"Best parameters found: \", grid_search.best_params_)\n",
    "print(\"Lowest RMSE found: \", np.sqrt(np.abs(grid_search.best_score_)))\n"
   ]
  },
  {
   "cell_type": "code",
   "execution_count": 40,
   "id": "5eefdc89-66cf-4b43-9baa-b0d959f1a056",
   "metadata": {},
   "outputs": [],
   "source": [
    "best_xgb_model = grid_search.best_estimator_"
   ]
  },
  {
   "cell_type": "code",
   "execution_count": 41,
   "id": "402d4986-9364-40f8-87bc-3d21da42c599",
   "metadata": {},
   "outputs": [
    {
     "name": "stdout",
     "output_type": "stream",
     "text": [
      "Modèle enregistré avec succès.\n"
     ]
    }
   ],
   "source": [
    "from joblib import dump\n",
    "dump(best_xgb_model, 'best_xgb_model_v7.joblib')\n",
    "print(\"Modèle enregistré avec succès.\")"
   ]
  },
  {
   "cell_type": "markdown",
   "id": "0bd170ea",
   "metadata": {},
   "source": [
    "<a name=\"4.2.2\"></a>\n",
    "### 4.2.2 - Evaluation"
   ]
  },
  {
   "cell_type": "code",
   "execution_count": 7,
   "id": "e1173544",
   "metadata": {},
   "outputs": [],
   "source": [
    "# Predict on the training set and the test set\n",
    "y_pred_xgb_train = best_xgb_model.predict(X_train)\n",
    "y_pred_xgb_test = best_xgb_model.predict(X_test)"
   ]
  },
  {
   "cell_type": "code",
   "execution_count": 44,
   "id": "f22bd5e8-581b-4692-9c4c-e62ad05dd0ec",
   "metadata": {},
   "outputs": [
    {
     "name": "stdout",
     "output_type": "stream",
     "text": [
      "Training Metrics:\n",
      "R-squared: 0.4009519805266253\n",
      "Mean Absolute Error (MAE): 13.054066632333233\n",
      "Mean Squared Error (MSE): 381.31281311416893\n",
      "Root Mean Squared Error (RMSE): 19.52723260255198\n",
      "Mean Absolute Percentage Error (MAPE): 4056857127583178.0\n",
      "\n",
      "Testing Metrics:\n",
      "R-squared: 0.21119723979349647\n",
      "Mean Absolute Error (MAE): 14.936986722727726\n",
      "Mean Squared Error (MSE): 501.1775958807869\n",
      "Root Mean Squared Error (RMSE): 22.386996133487557\n",
      "Mean Absolute Percentage Error (MAPE): 4681402106769810.0\n"
     ]
    }
   ],
   "source": [
    "# Now call the function with actual and predicted values\n",
    "evaluate_model_performance(y_train, y_pred_xgb_train, y_test,y_pred_xgb_test)"
   ]
  },
  {
   "cell_type": "code",
   "execution_count": 45,
   "id": "8527420b-3102-4854-8e44-c3bd1391eaa2",
   "metadata": {},
   "outputs": [],
   "source": [
    "# Si y_test est un DataFrame, assurez-vous que y_pred_xgb_test a la même forme\n",
    "if isinstance(y_test, pd.DataFrame):\n",
    "    y_pred_xgb_test = pd.DataFrame(y_pred_xgb_test, index=y_test.index, columns=y_test.columns)\n",
    "elif isinstance(y_test, pd.Series):\n",
    "    y_pred_xgb_test = pd.Series(y_pred_xgb_test, index=y_test.index)\n",
    "\n",
    "if isinstance(residuals_xgb, pd.DataFrame):\n",
    "    residuals_xgb = residuals_xgb.squeeze()"
   ]
  },
  {
   "cell_type": "code",
   "execution_count": 46,
   "id": "66f14756",
   "metadata": {},
   "outputs": [],
   "source": [
    "# calculate residuals\n",
    "residuals_xgb = y_test - y_pred_xgb_test"
   ]
  },
  {
   "cell_type": "code",
   "execution_count": 47,
   "id": "6d0dd997",
   "metadata": {},
   "outputs": [
    {
     "data": {
      "image/png": "[encoded data removed]",
      "text/plain": [
       "<Figure size 1000x600 with 1 Axes>"
      ]
     },
     "metadata": {},
     "output_type": "display_data"
    }
   ],
   "source": [
    "plot_residuals_histogram(best_xgb_model, residuals_xgb)"
   ]
  },
  {
   "cell_type": "code",
   "execution_count": 51,
   "id": "b5145cf1-b126-475f-bf3b-a8f85d46858e",
   "metadata": {},
   "outputs": [
    {
     "data": {
      "text/plain": [
       "(3297073, 1)"
      ]
     },
     "execution_count": 51,
     "metadata": {},
     "output_type": "execute_result"
    }
   ],
   "source": [
    "residuals_xgb.shape"
   ]
  },
  {
   "cell_type": "code",
   "execution_count": 56,
   "id": "669b334e",
   "metadata": {},
   "outputs": [
    {
     "data": {
      "image/png": "[encoded data removed]",
      "text/plain": [
       "<Figure size 800x600 with 1 Axes>"
      ]
     },
     "metadata": {},
     "output_type": "display_data"
    }
   ],
   "source": [
    "plot_residuals_boxplot(best_xgb_model, residuals_xgb)"
   ]
  },
  {
   "cell_type": "code",
   "execution_count": 18,
   "id": "0daec16b-6941-4065-96ba-933b8d0a561a",
   "metadata": {},
   "outputs": [
    {
     "data": {
      "image/png": "[encoded data removed]",
      "text/plain": [
       "<Figure size 1000x600 with 1 Axes>"
      ]
     },
     "metadata": {},
     "output_type": "display_data"
    }
   ],
   "source": [
    "plot_feature_importances_bootstrap(best_xgb_model, X_train, y_train, feature_name, 'XGBoost', top_n=16, n_iterations=2)"
   ]
  },
  {
   "cell_type": "markdown",
   "id": "7c495a18",
   "metadata": {},
   "source": [
    "<a name=\"4.3\"></a>\n",
    "###  4.3 - AdaBoosting"
   ]
  },
  {
   "cell_type": "markdown",
   "id": "d60ea20e",
   "metadata": {},
   "source": [
    "<a name=\"4.3.1\"></a>\n",
    "### 4.3.1 - Training model"
   ]
  },
  {
   "cell_type": "code",
   "execution_count": 5,
   "id": "ef8f2567",
   "metadata": {},
   "outputs": [],
   "source": [
    "from sklearn.ensemble import AdaBoostRegressor\n",
    "from sklearn.tree import DecisionTreeRegressor\n",
    "from sklearn.model_selection import GridSearchCV\n",
    "from sklearn.metrics import make_scorer, mean_squared_error"
   ]
  },
  {
   "cell_type": "code",
   "execution_count": 23,
   "id": "8b137810-82ce-4848-9a7e-56454499979b",
   "metadata": {},
   "outputs": [
    {
     "name": "stdout",
     "output_type": "stream",
     "text": [
      "Paramètres du modèle de ada_reg:\n",
      "{'estimator': None, 'learning_rate': 0.05, 'loss': 'linear', 'n_estimators': 100, 'random_state': 0}\n"
     ]
    }
   ],
   "source": [
    "# Chargement du modèle\n",
    "from joblib import load\n",
    "ada_reg = load('ada_model_st_v5.joblib')\n",
    "print(\"Paramètres du modèle de ada_reg:\")\n",
    "print(ada_reg.get_params())"
   ]
  },
  {
   "cell_type": "code",
   "execution_count": 6,
   "id": "89ee2142-e8bf-42e4-b3a5-71d054af6780",
   "metadata": {},
   "outputs": [],
   "source": [
    "# Initialize AdaBoost with the DecisionTreeRegressor as the base estimator\n",
    "ada_reg = AdaBoostRegressor(n_estimators=50, random_state=0)"
   ]
  },
  {
   "cell_type": "code",
   "execution_count": 7,
   "id": "130e630a",
   "metadata": {},
   "outputs": [
    {
     "name": "stdout",
     "output_type": "stream",
     "text": [
      "Fitting 3 folds for each of 6 candidates, totalling 18 fits\n",
      "Best parameters found:  {'learning_rate': 0.005, 'loss': 'square'}\n",
      "Lowest RMSE found:  24.715835235763134\n"
     ]
    }
   ],
   "source": [
    "from sklearn.model_selection import GridSearchCV\n",
    "\n",
    "# Define the parameter grid\n",
    "param_grid = {\n",
    "    'learning_rate': [0.005, 0.01],\n",
    "    'loss': ['linear', 'square', 'exponential']\n",
    "}\n",
    "\n",
    "# Initialize the GridSearchCV object\n",
    "grid_search = GridSearchCV(estimator=ada_reg, param_grid=param_grid, scoring='neg_mean_squared_error', cv=3, verbose=1, n_jobs = -1)\n",
    "\n",
    "# Fit to the data\n",
    "grid_search.fit(X_train, y_train)\n",
    "\n",
    "# Best parameters and best score\n",
    "print(\"Best parameters found: \", grid_search.best_params_)\n",
    "print(\"Lowest RMSE found: \", np.sqrt(np.abs(grid_search.best_score_)))\n"
   ]
  },
  {
   "cell_type": "code",
   "execution_count": 8,
   "id": "0a663a04-7c54-4472-8597-e6029baad29a",
   "metadata": {},
   "outputs": [],
   "source": [
    "ada_reg = grid_search.best_estimator_"
   ]
  },
  {
   "cell_type": "code",
   "execution_count": 9,
   "id": "bc798db4-faab-495e-85cc-7500a90b2ce3",
   "metadata": {},
   "outputs": [
    {
     "name": "stdout",
     "output_type": "stream",
     "text": [
      "Modèle enregistré avec succès.\n"
     ]
    }
   ],
   "source": [
    "from joblib import dump\n",
    "dump(ada_reg, 'ada_model_st_v6.joblib')\n",
    "print(\"Modèle enregistré avec succès.\")"
   ]
  },
  {
   "cell_type": "code",
   "execution_count": 10,
   "id": "bac92c35-b976-4691-be4a-d04011c54a39",
   "metadata": {},
   "outputs": [],
   "source": [
    "title_ada = \"Adaboost\""
   ]
  },
  {
   "cell_type": "code",
   "execution_count": 36,
   "id": "e198bec9-68e9-4e12-871c-ee6ba985c881",
   "metadata": {},
   "outputs": [],
   "source": [
    "# Predict on the training set and the test set\n",
    "y_pred_ada_train = ada_reg.predict(X_train)\n",
    "y_pred_ada_test = ada_reg.predict(X_test)"
   ]
  },
  {
   "cell_type": "code",
   "execution_count": null,
   "id": "a8816f96-5afc-4eb3-a3d9-9d2cd21d6edd",
   "metadata": {},
   "outputs": [],
   "source": [
    "X_train"
   ]
  },
  {
   "cell_type": "markdown",
   "id": "30428a41",
   "metadata": {},
   "source": [
    "<a name=\"4.3.1\"></a>\n",
    "### 4.3.2 - Evaluation"
   ]
  },
  {
   "cell_type": "code",
   "execution_count": 12,
   "id": "7a8cb9fd-10a9-4045-98a1-0a5cdcdc33ab",
   "metadata": {},
   "outputs": [],
   "source": [
    "def evaluate_model_performance_test(y_test, y_pred_test):\n",
    "    # Calculate metrics for the test set\n",
    "    mse_test = mean_squared_error(y_test, y_pred_test)\n",
    "    rmse_test = np.sqrt(mse_test)\n",
    "    mae_test = mean_absolute_error(y_test, y_pred_test)\n",
    "    r2_test = r2_score(y_test, y_pred_test)\n",
    "    mape_test = mean_absolute_percentage_error(y_test, y_pred_test)\n",
    "\n",
    "    print(\"Testing Metrics:\")\n",
    "    print(f\"R-squared: {r2_test}\")\n",
    "    print(f\"Mean Absolute Error (MAE): {mae_test}\")\n",
    "    print(f\"Mean Squared Error (MSE): {mse_test}\")\n",
    "    print(f\"Root Mean Squared Error (RMSE): {rmse_test}\")\n",
    "    \n"
   ]
  },
  {
   "cell_type": "code",
   "execution_count": 13,
   "id": "d1ef1468-6692-481e-9ade-1f106c67d3e0",
   "metadata": {},
   "outputs": [
    {
     "name": "stdout",
     "output_type": "stream",
     "text": [
      "Testing Metrics:\n",
      "R-squared: 0.040284880749194785\n",
      "Mean Absolute Error (MAE): 16.886433913626014\n",
      "Mean Squared Error (MSE): 609.7693117486579\n",
      "Root Mean Squared Error (RMSE): 24.69350748169765\n"
     ]
    }
   ],
   "source": [
    "# Now call the function with actual and predicted values\n",
    "evaluate_model_performance_test(y_test, y_pred_ada_test)"
   ]
  },
  {
   "cell_type": "code",
   "execution_count": 21,
   "id": "69152b95-322f-4723-93ce-957085532389",
   "metadata": {},
   "outputs": [],
   "source": [
    "# Si y_test est un DataFrame, assurez-vous que y_pred_xgb_test a la même forme\n",
    "if isinstance(y_test, pd.DataFrame):\n",
    "    y_pred_ada_test = pd.DataFrame(y_pred_ada_test, index=y_test.index, columns=y_test.columns)\n",
    "elif isinstance(y_test, pd.Series):\n",
    "    y_pred_ada_test = pd.Series(y_pred_ada_test, index=y_test.index)"
   ]
  },
  {
   "cell_type": "code",
   "execution_count": 16,
   "id": "69e5f9fa",
   "metadata": {
    "scrolled": true
   },
   "outputs": [],
   "source": [
    "# calculate residuals\n",
    "residuals_ada = y_test - y_pred_ada_test"
   ]
  },
  {
   "cell_type": "code",
   "execution_count": 23,
   "id": "d3c5ab2c-fe9e-45dc-9fc4-a409c45fd16a",
   "metadata": {},
   "outputs": [],
   "source": [
    "if isinstance(residuals_ada, pd.DataFrame):\n",
    "    residuals_ada = residuals_ada.squeeze()"
   ]
  },
  {
   "cell_type": "code",
   "execution_count": 22,
   "id": "c3e78bae",
   "metadata": {},
   "outputs": [
    {
     "data": {
      "image/png": "[encoded data removed]",
      "text/plain": [
       "<Figure size 1000x600 with 1 Axes>"
      ]
     },
     "metadata": {},
     "output_type": "display_data"
    }
   ],
   "source": [
    "plot_residuals_histogram(ada_reg, residuals_ada)"
   ]
  },
  {
   "cell_type": "code",
   "execution_count": 24,
   "id": "885f27bf-ee91-48a6-af2e-94c8e87f069e",
   "metadata": {},
   "outputs": [
    {
     "data": {
      "image/png": "[encoded data removed]",
      "text/plain": [
       "<Figure size 800x600 with 1 Axes>"
      ]
     },
     "metadata": {},
     "output_type": "display_data"
    }
   ],
   "source": [
    "plot_residuals_boxplot(ada_reg, residuals_ada)"
   ]
  },
  {
   "cell_type": "code",
   "execution_count": null,
   "id": "7b074712-ae60-4d8c-b1a6-7889fb6b7bcb",
   "metadata": {},
   "outputs": [],
   "source": [
    "feature_names = X_train.columns.tolist()\n",
    "len(feature_names)"
   ]
  },
  {
   "cell_type": "code",
   "execution_count": 45,
   "id": "00ad8e12-8e8c-43a3-8444-0b7cfe6e1adf",
   "metadata": {
    "scrolled": true
   },
   "outputs": [
    {
     "data": {
      "image/png": "[encoded data removed]",
      "text/plain": [
       "<Figure size 1000x600 with 1 Axes>"
      ]
     },
     "metadata": {},
     "output_type": "display_data"
    }
   ],
   "source": [
    "plot_feature_importances(ada_reg, feature_names, \"Random Forest Regressor\" , top_n=16)"
   ]
  },
  {
   "cell_type": "code",
   "execution_count": 21,
   "id": "a3451462-576e-4379-8355-f2fa10117a26",
   "metadata": {},
   "outputs": [
    {
     "data": {
      "image/png": "[encoded data removed]",
      "text/plain": [
       "<Figure size 1000x600 with 1 Axes>"
      ]
     },
     "metadata": {},
     "output_type": "display_data"
    }
   ],
   "source": [
    "plot_feature_importances_bootstrap(ada_reg, X_train, y_train, feature_name, title_ada, top_n=16, n_iterations=2)"
   ]
  },
  {
   "cell_type": "markdown",
   "id": "a0ec3834",
   "metadata": {},
   "source": [
    "<a name=\"4.4\"></a>\n",
    "###  4.4 - ANN (MLP)"
   ]
  },
  {
   "cell_type": "markdown",
   "id": "b4fcdf27-47b5-49df-9e45-d73f9d257f78",
   "metadata": {},
   "source": [
    "Voir fichier \"Prediction_Service_Time_Complement\" "
   ]
  },
  {
   "cell_type": "markdown",
   "id": "5cdcb38e-c9d8-465b-a3d6-051349a48bd7",
   "metadata": {},
   "source": [
    "## ANNEXE"
   ]
  },
  {
   "cell_type": "markdown",
   "id": "a44993db-6497-4d23-8a41-cf7c53c135a3",
   "metadata": {},
   "source": [
    "### Mean Absolute Error (MAE)\n",
    "\n",
    "**Concept:**\n",
    "MAE measures the average magnitude of the errors in a set of predictions, without considering their direction. It's the average over the test sample of the absolute differences between prediction and actual observation where all individual differences have equal weight.\n",
    "\n",
    "**Utility:**\n",
    "MAE is particularly useful when you need a robust measure that can provide error magnitudes that are directly interpretable in the same units as the data.\n",
    "\n",
    "**Mathematical Formula:**\n",
    "$$ \\text{MAE} = \\frac{1}{n} \\sum_{i=1}^n |y_i - \\hat{y}_i| $$\n",
    "\n",
    "### R-squared (Coefficient of Determination)\n",
    "\n",
    "**Concept:**\n",
    "R-squared is a statistical measure that represents the proportion of the variance for the dependent variable that's predicted from the independent variables. It provides an indication of goodness of fit and therefore a measure of how well unseen samples are likely to be predicted by the model, relative to the mean of the dependent variable.\n",
    "\n",
    "**Utility:**\n",
    "R-squared values range from 0 to 1, where a higher value generally indicates a better fit to the data provided. A model with a high R-squared value is capable of better capturing the variance in the input data.\n",
    "\n",
    "**Mathematical Formula:**\n",
    "$$ R^2 = 1 - \\frac{\\sum_{i=1}^n (y_i - \\hat{y}_i)^2}{\\sum_{i=1}^n (y_i - \\bar{y})^2} $$\n",
    "Where:\n",
    "- \\( y_i \\) is the actual value,\n",
    "- \\( \\hat{y}_i \\) is the predicted value,\n",
    "- \\( \\bar{y} \\) is the mean of the actual values.\n",
    "\n",
    "\n",
    "### Mean Squared Error (MSE)\n",
    "\n",
    "**Concept:**\n",
    "MSE is the average of the squares of the errors—that is, the average squared difference between the estimated values and the actual value.\n",
    "\n",
    "**Utility:**\n",
    "MSE is very useful when large errors are particularly undesirable. It is more sensitive to outliers than MAE as it squares the differences.\n",
    "\n",
    "**Mathematical Formula:**\n",
    "$$ \\text{MSE} = \\frac{1}{n} \\sum_{i=1}^n (y_i - \\hat{y}_i)^2 $$\n",
    "\n",
    "\n",
    "### Root Mean Squared Error (RMSE)\n",
    "\n",
    "**Concept:**\n",
    "RMSE is the square root of the mean of the square of all of the error. RMSE is very similar to MSE, but RMSE is more interpretable in the same units as the response variable.\n",
    "\n",
    "**Utility:**\n",
    "Like MSE, RMSE gives a relatively high weight to large errors. This means the RMSE should be more useful when large errors are particularly undesirable. Being in the same units as the response variable makes it easier for interpretation than MSE.\n",
    "\n",
    "**Mathematical Formula:**\n",
    "$$ \\text{RMSE} = \\sqrt{\\frac{1}{n} \\sum_{i=1}^n (y_i - \\hat{y}_i)^2} $$\n",
    "\n",
    "\n",
    "\n"
   ]
  },
  {
   "cell_type": "markdown",
   "id": "8e56ae0d-6bed-45b0-a87a-6703a5be2aa0",
   "metadata": {},
   "source": [
    "<a name=\"5\"></a>\n",
    "### 4.1 - Serie Temporelle \n",
    "\n",
    "hypothèses : \n",
    "-  $y_{t+1} = f(y_t, y_{t-1}, \\ldots)$, avec y : time service et t:date_activitity et y depends on X(features)\n",
    "-  Complexes and Non linear relationships between y and X (features)\n"
   ]
  }
 ],
 "metadata": {
  "kernelspec": {
   "display_name": "Python 3 (ipykernel)",
   "language": "python",
   "name": "python3"
  },
  "language_info": {
   "codemirror_mode": {
    "name": "ipython",
    "version": 3
   },
   "file_extension": ".py",
   "mimetype": "text/x-python",
   "name": "python",
   "nbconvert_exporter": "python",
   "pygments_lexer": "ipython3",
   "version": "3.9.19"
  }
 },
 "nbformat": 4,
 "nbformat_minor": 5
}
