{
 "cells": [
  {
   "cell_type": "markdown",
   "id": "d75f8099",
   "metadata": {
    "id": "d75f8099"
   },
   "source": [
    "# Smart Data mining\n",
    " phase 1 to phase 3 of CRISP-DM\n",
    " \n",
    "## Outline\n",
    "- [1 - Business Understanding](#1)\n",
    "- [2 - Data Understanding](#2)\n",
    "  - [2.1 - Initial Data Collection](#2.1)\n",
    "  - [2.2 - Data Description](#2.2)\n",
    "  - [2.3 - Data Exploration](#2.3)\n",
    "- [3 - Data Preparation](#3)\n",
    "  - [3.1 - Data Cleaning](#3.1)\n",
    "    - [3.1.1 - Missing Values](#3.1.1)\n",
    "    - [3.1.2 - Outliers](#3.1.2)\n",
    "  - [3.2 - Data Transformation](#3.2)\n",
    "    - [3.2.1 - Feature Selection](#3.2.1)\n",
    "    - [3.2.2 - Feature engeenering](#3.2.2)\n",
    "    - [3.2.3 - Data Standardization](#3.2.3)"
   ]
  },
  {
   "cell_type": "markdown",
   "id": "396017b6",
   "metadata": {
    "id": "396017b6",
    "jp-MarkdownHeadingCollapsed": true
   },
   "source": [
    "<a name=\"1\"></a>\n",
    "## 1 - Business Understanding"
   ]
  },
  {
   "cell_type": "markdown",
   "id": "337194e5",
   "metadata": {
    "id": "337194e5"
   },
   "source": [
    "<a name=\"1.1\"></a>\n",
    "## 1.1 Business Objectives\n",
    "- Minimize the average waiting time and the average idle time in outpatient clinic\n",
    "\n",
    "## 1.2 Current Situation\n",
    "- See literature review in the lecture.\n",
    "\n",
    "## 1.3 Data Mining Goals\n",
    "-  Predict the proability of no-show and service time variation"
   ]
  },
  {
   "cell_type": "markdown",
   "id": "8ae9b219",
   "metadata": {
    "id": "8ae9b219"
   },
   "source": [
    "<a name=\"2\"></a>\n",
    "## 2 - Data Understanding"
   ]
  },
  {
   "cell_type": "markdown",
   "id": "c951e738",
   "metadata": {
    "id": "c951e738"
   },
   "source": [
    "<a name=\"2.1\"></a>\n",
    "## 2.1 - Initial Data Collection"
   ]
  },
  {
   "cell_type": "code",
   "execution_count": 1,
   "id": "cb2f780e",
   "metadata": {
    "id": "cb2f780e"
   },
   "outputs": [],
   "source": [
    "#Load our local fonctions\n",
    "from utils_exploration_optimised import *\n",
    "# load librairies\n",
    "import pandas as pd\n",
    "import numpy as np\n",
    "import matplotlib.pyplot as plt\n",
    "import seaborn as sns\n",
    "sns.set_style(\"whitegrid\")\n",
    "import scipy.stats as stats\n",
    "\n",
    "import warnings\n",
    "warnings.filterwarnings('ignore')"
   ]
  },
  {
   "cell_type": "code",
   "execution_count": 2,
   "id": "134b1721-5a71-4a22-8aab-c857ce59eee6",
   "metadata": {},
   "outputs": [],
   "source": [
    "# Paths\n",
    "path_data = \"data/consult_waits_2024_03_25.csv\"\n",
    "pdf_path = 'type_stop_code.pdf'"
   ]
  },
  {
   "cell_type": "code",
   "execution_count": 3,
   "id": "0b7dae94",
   "metadata": {},
   "outputs": [],
   "source": [
    "data = pd.read_csv(path_data, on_bad_lines='skip')"
   ]
  },
  {
   "cell_type": "markdown",
   "id": "10ce4e0b",
   "metadata": {
    "id": "10ce4e0b"
   },
   "source": [
    "<a name=\"2.2\"></a>\n",
    "### 2.2 - Data description"
   ]
  },
  {
   "cell_type": "markdown",
   "id": "b71db71a",
   "metadata": {
    "id": "b71db71a"
   },
   "source": [
    "<div style=\"display: flex; justify-content: space-between;\">\n",
    "\n",
    "<div style=\"width: 45%;\">\n",
    "<strong>Objectives</strong> : Understanding the form of our data\n",
    "</div>\n",
    "\n",
    "<div style=\"width: 45%;\">\n",
    "<strong>CheckList</strong>:\n",
    "<ul>\n",
    "    <li>[x] Variables target : <code>no-show & service time</code></li>\n",
    "    <li>[x] Lines et columns : 51861064, 15</li>\n",
    "    <li>[x] Variables Description </li>\n",
    "</ul>\n",
    "</div>\n",
    "\n",
    "</div>\n"
   ]
  },
  {
   "cell_type": "code",
   "execution_count": 4,
   "id": "ff071c3f",
   "metadata": {
    "id": "ff071c3f",
    "scrolled": true
   },
   "outputs": [
    {
     "name": "stdout",
     "output_type": "stream",
     "text": [
      "<class 'pandas.core.frame.DataFrame'>\n",
      "RangeIndex: 51861064 entries, 0 to 51861063\n",
      "Data columns (total 15 columns):\n",
      " #   Column              Dtype  \n",
      "---  ------              -----  \n",
      " 0   patientsid          int64  \n",
      " 1   activitydatetime    object \n",
      " 2   year                int64  \n",
      " 3   month               int64  \n",
      " 4   sta3n               int64  \n",
      " 5   stopcode            int64  \n",
      " 6   dta                 float64\n",
      " 7   dts                 int64  \n",
      " 8   dtc                 int64  \n",
      " 9   dtot                float64\n",
      " 10  non_va              int64  \n",
      " 11  zip                 float64\n",
      " 12  state               object \n",
      " 13  disp                object \n",
      " 14  AdministrativeFlag  object \n",
      "dtypes: float64(3), int64(8), object(4)\n",
      "memory usage: 16.6 GB\n"
     ]
    }
   ],
   "source": [
    "data.info(memory_usage='deep')"
   ]
  },
  {
   "cell_type": "markdown",
   "id": "1f6d0b7b",
   "metadata": {
    "id": "1f6d0b7b"
   },
   "source": [
    "We are going to optimize our memomry usage by ... in the following input"
   ]
  },
  {
   "cell_type": "code",
   "execution_count": 5,
   "id": "e67d1d9a",
   "metadata": {
    "id": "e67d1d9a"
   },
   "outputs": [],
   "source": [
    "data.drop([\"dtot\", \"year\", \"month\"], axis = 1, inplace = True)\n",
    "data_types = {\n",
    "    'patientsid': 'uint32',\n",
    "    'activitydatetime' : object,\n",
    "    'sta3n': 'category',\n",
    "    'stopcode': 'category',\n",
    "    'dta': 'float32',\n",
    "    'dts': 'uint16',\n",
    "    'dtc': 'uint16',\n",
    "    'non_va': 'category',\n",
    "    'zip': 'category',\n",
    "    'state': 'category',\n",
    "    'disp': 'category',\n",
    "    'AdministrativeFlag': 'category'\n",
    "}\n",
    "data = data.astype(data_types)"
   ]
  },
  {
   "cell_type": "code",
   "execution_count": 6,
   "id": "f2f2e3a2",
   "metadata": {
    "id": "f2f2e3a2"
   },
   "outputs": [
    {
     "name": "stdout",
     "output_type": "stream",
     "text": [
      "<class 'pandas.core.frame.DataFrame'>\n",
      "RangeIndex: 51861064 entries, 0 to 51861063\n",
      "Data columns (total 12 columns):\n",
      " #   Column              Dtype   \n",
      "---  ------              -----   \n",
      " 0   patientsid          uint32  \n",
      " 1   activitydatetime    object  \n",
      " 2   sta3n               category\n",
      " 3   stopcode            category\n",
      " 4   dta                 float32 \n",
      " 5   dts                 uint16  \n",
      " 6   dtc                 uint16  \n",
      " 7   non_va              category\n",
      " 8   zip                 category\n",
      " 9   state               category\n",
      " 10  disp                category\n",
      " 11  AdministrativeFlag  category\n",
      "dtypes: category(7), float32(1), object(1), uint16(2), uint32(1)\n",
      "memory usage: 4.7 GB\n"
     ]
    }
   ],
   "source": [
    "data.info(memory_usage='deep')"
   ]
  },
  {
   "cell_type": "code",
   "execution_count": 7,
   "id": "b38e6522",
   "metadata": {
    "id": "b38e6522"
   },
   "outputs": [
    {
     "data": {
      "text/html": [
       "<div>\n",
       "<style scoped>\n",
       "    .dataframe tbody tr th:only-of-type {\n",
       "        vertical-align: middle;\n",
       "    }\n",
       "\n",
       "    .dataframe tbody tr th {\n",
       "        vertical-align: top;\n",
       "    }\n",
       "\n",
       "    .dataframe thead th {\n",
       "        text-align: right;\n",
       "    }\n",
       "</style>\n",
       "<table border=\"1\" class=\"dataframe\">\n",
       "  <thead>\n",
       "    <tr style=\"text-align: right;\">\n",
       "      <th></th>\n",
       "      <th>patientsid</th>\n",
       "      <th>activitydatetime</th>\n",
       "      <th>sta3n</th>\n",
       "      <th>stopcode</th>\n",
       "      <th>dta</th>\n",
       "      <th>dts</th>\n",
       "      <th>dtc</th>\n",
       "      <th>non_va</th>\n",
       "      <th>zip</th>\n",
       "      <th>state</th>\n",
       "      <th>disp</th>\n",
       "      <th>AdministrativeFlag</th>\n",
       "    </tr>\n",
       "  </thead>\n",
       "  <tbody>\n",
       "    <tr>\n",
       "      <th>0</th>\n",
       "      <td>9204541</td>\n",
       "      <td>2023-06-15 14:43:56</td>\n",
       "      <td>573</td>\n",
       "      <td>354</td>\n",
       "      <td>5.0</td>\n",
       "      <td>3</td>\n",
       "      <td>0</td>\n",
       "      <td>1</td>\n",
       "      <td>315.0</td>\n",
       "      <td>GEORGIA</td>\n",
       "      <td>COMPLETE/UPDATE</td>\n",
       "      <td>Y</td>\n",
       "    </tr>\n",
       "    <tr>\n",
       "      <th>1</th>\n",
       "      <td>9204541</td>\n",
       "      <td>2017-02-01 10:20:10</td>\n",
       "      <td>573</td>\n",
       "      <td>403</td>\n",
       "      <td>0.0</td>\n",
       "      <td>30</td>\n",
       "      <td>64</td>\n",
       "      <td>0</td>\n",
       "      <td>315.0</td>\n",
       "      <td>GEORGIA</td>\n",
       "      <td>COMPLETE/UPDATE</td>\n",
       "      <td>NaN</td>\n",
       "    </tr>\n",
       "    <tr>\n",
       "      <th>2</th>\n",
       "      <td>9204541</td>\n",
       "      <td>2021-11-03 09:32:28</td>\n",
       "      <td>573</td>\n",
       "      <td>407</td>\n",
       "      <td>2.0</td>\n",
       "      <td>54</td>\n",
       "      <td>48</td>\n",
       "      <td>1</td>\n",
       "      <td>315.0</td>\n",
       "      <td>GEORGIA</td>\n",
       "      <td>COMPLETE/UPDATE</td>\n",
       "      <td>Y</td>\n",
       "    </tr>\n",
       "    <tr>\n",
       "      <th>3</th>\n",
       "      <td>9204541</td>\n",
       "      <td>2015-03-26 14:30:45</td>\n",
       "      <td>573</td>\n",
       "      <td>408</td>\n",
       "      <td>1.0</td>\n",
       "      <td>134</td>\n",
       "      <td>149</td>\n",
       "      <td>0</td>\n",
       "      <td>315.0</td>\n",
       "      <td>GEORGIA</td>\n",
       "      <td>COMPLETE/UPDATE</td>\n",
       "      <td>NaN</td>\n",
       "    </tr>\n",
       "    <tr>\n",
       "      <th>4</th>\n",
       "      <td>9204541</td>\n",
       "      <td>2019-02-08 12:41:00</td>\n",
       "      <td>573</td>\n",
       "      <td>409</td>\n",
       "      <td>0.0</td>\n",
       "      <td>28</td>\n",
       "      <td>44</td>\n",
       "      <td>0</td>\n",
       "      <td>315.0</td>\n",
       "      <td>GEORGIA</td>\n",
       "      <td>COMPLETE/UPDATE</td>\n",
       "      <td>NaN</td>\n",
       "    </tr>\n",
       "  </tbody>\n",
       "</table>\n",
       "</div>"
      ],
      "text/plain": [
       "   patientsid     activitydatetime sta3n stopcode  dta  dts  dtc non_va  \\\n",
       "0     9204541  2023-06-15 14:43:56   573      354  5.0    3    0      1   \n",
       "1     9204541  2017-02-01 10:20:10   573      403  0.0   30   64      0   \n",
       "2     9204541  2021-11-03 09:32:28   573      407  2.0   54   48      1   \n",
       "3     9204541  2015-03-26 14:30:45   573      408  1.0  134  149      0   \n",
       "4     9204541  2019-02-08 12:41:00   573      409  0.0   28   44      0   \n",
       "\n",
       "     zip    state             disp AdministrativeFlag  \n",
       "0  315.0  GEORGIA  COMPLETE/UPDATE                  Y  \n",
       "1  315.0  GEORGIA  COMPLETE/UPDATE                NaN  \n",
       "2  315.0  GEORGIA  COMPLETE/UPDATE                  Y  \n",
       "3  315.0  GEORGIA  COMPLETE/UPDATE                NaN  \n",
       "4  315.0  GEORGIA  COMPLETE/UPDATE                NaN  "
      ]
     },
     "execution_count": 7,
     "metadata": {},
     "output_type": "execute_result"
    }
   ],
   "source": [
    "data.head()"
   ]
  },
  {
   "cell_type": "markdown",
   "id": "3ef6945f",
   "metadata": {
    "id": "3ef6945f"
   },
   "source": [
    "*Numeric Data Summary*:"
   ]
  },
  {
   "cell_type": "code",
   "execution_count": 8,
   "id": "f3203c85",
   "metadata": {
    "id": "f3203c85"
   },
   "outputs": [
    {
     "data": {
      "text/html": [
       "<div>\n",
       "<style scoped>\n",
       "    .dataframe tbody tr th:only-of-type {\n",
       "        vertical-align: middle;\n",
       "    }\n",
       "\n",
       "    .dataframe tbody tr th {\n",
       "        vertical-align: top;\n",
       "    }\n",
       "\n",
       "    .dataframe thead th {\n",
       "        text-align: right;\n",
       "    }\n",
       "</style>\n",
       "<table border=\"1\" class=\"dataframe\">\n",
       "  <thead>\n",
       "    <tr style=\"text-align: right;\">\n",
       "      <th></th>\n",
       "      <th>patientsid</th>\n",
       "      <th>dta</th>\n",
       "      <th>dts</th>\n",
       "      <th>dtc</th>\n",
       "    </tr>\n",
       "  </thead>\n",
       "  <tbody>\n",
       "    <tr>\n",
       "      <th>count</th>\n",
       "      <td>5.186106e+07</td>\n",
       "      <td>5.186106e+07</td>\n",
       "      <td>5.186106e+07</td>\n",
       "      <td>5.186106e+07</td>\n",
       "    </tr>\n",
       "    <tr>\n",
       "      <th>mean</th>\n",
       "      <td>4.983169e+08</td>\n",
       "      <td>2.999511e+00</td>\n",
       "      <td>1.702302e+01</td>\n",
       "      <td>3.565651e+01</td>\n",
       "    </tr>\n",
       "    <tr>\n",
       "      <th>std</th>\n",
       "      <td>5.770695e+08</td>\n",
       "      <td>1.062992e+01</td>\n",
       "      <td>3.019883e+01</td>\n",
       "      <td>3.668734e+01</td>\n",
       "    </tr>\n",
       "    <tr>\n",
       "      <th>min</th>\n",
       "      <td>1.306000e+03</td>\n",
       "      <td>0.000000e+00</td>\n",
       "      <td>0.000000e+00</td>\n",
       "      <td>0.000000e+00</td>\n",
       "    </tr>\n",
       "    <tr>\n",
       "      <th>25%</th>\n",
       "      <td>1.353048e+07</td>\n",
       "      <td>0.000000e+00</td>\n",
       "      <td>1.000000e+00</td>\n",
       "      <td>1.300000e+01</td>\n",
       "    </tr>\n",
       "    <tr>\n",
       "      <th>50%</th>\n",
       "      <td>2.601912e+07</td>\n",
       "      <td>1.000000e+00</td>\n",
       "      <td>6.000000e+00</td>\n",
       "      <td>2.600000e+01</td>\n",
       "    </tr>\n",
       "    <tr>\n",
       "      <th>75%</th>\n",
       "      <td>1.007934e+09</td>\n",
       "      <td>2.000000e+00</td>\n",
       "      <td>2.000000e+01</td>\n",
       "      <td>4.600000e+01</td>\n",
       "    </tr>\n",
       "    <tr>\n",
       "      <th>max</th>\n",
       "      <td>1.605574e+09</td>\n",
       "      <td>3.650000e+02</td>\n",
       "      <td>1.367000e+03</td>\n",
       "      <td>3.650000e+02</td>\n",
       "    </tr>\n",
       "  </tbody>\n",
       "</table>\n",
       "</div>"
      ],
      "text/plain": [
       "         patientsid           dta           dts           dtc\n",
       "count  5.186106e+07  5.186106e+07  5.186106e+07  5.186106e+07\n",
       "mean   4.983169e+08  2.999511e+00  1.702302e+01  3.565651e+01\n",
       "std    5.770695e+08  1.062992e+01  3.019883e+01  3.668734e+01\n",
       "min    1.306000e+03  0.000000e+00  0.000000e+00  0.000000e+00\n",
       "25%    1.353048e+07  0.000000e+00  1.000000e+00  1.300000e+01\n",
       "50%    2.601912e+07  1.000000e+00  6.000000e+00  2.600000e+01\n",
       "75%    1.007934e+09  2.000000e+00  2.000000e+01  4.600000e+01\n",
       "max    1.605574e+09  3.650000e+02  1.367000e+03  3.650000e+02"
      ]
     },
     "execution_count": 8,
     "metadata": {},
     "output_type": "execute_result"
    }
   ],
   "source": [
    "data.describe()"
   ]
  },
  {
   "cell_type": "markdown",
   "id": "77bbef18",
   "metadata": {
    "id": "77bbef18"
   },
   "source": [
    "*Categorical Data Summary*:"
   ]
  },
  {
   "cell_type": "code",
   "execution_count": 9,
   "id": "c5bb7910",
   "metadata": {
    "colab": {
     "base_uri": "https://localhost:8080/",
     "height": 228
    },
    "id": "c5bb7910",
    "outputId": "6d77b778-3b82-4c6f-abe4-aabaa0c43ab4",
    "scrolled": true
   },
   "outputs": [
    {
     "name": "stdout",
     "output_type": "stream",
     "text": [
      "Index(['sta3n', 'stopcode', 'non_va', 'zip', 'state', 'disp',\n",
      "       'AdministrativeFlag'],\n",
      "      dtype='object')\n"
     ]
    },
    {
     "data": {
      "text/html": [
       "<div>\n",
       "<style scoped>\n",
       "    .dataframe tbody tr th:only-of-type {\n",
       "        vertical-align: middle;\n",
       "    }\n",
       "\n",
       "    .dataframe tbody tr th {\n",
       "        vertical-align: top;\n",
       "    }\n",
       "\n",
       "    .dataframe thead th {\n",
       "        text-align: right;\n",
       "    }\n",
       "</style>\n",
       "<table border=\"1\" class=\"dataframe\">\n",
       "  <thead>\n",
       "    <tr style=\"text-align: right;\">\n",
       "      <th></th>\n",
       "      <th>sta3n</th>\n",
       "      <th>stopcode</th>\n",
       "      <th>non_va</th>\n",
       "      <th>zip</th>\n",
       "      <th>state</th>\n",
       "      <th>disp</th>\n",
       "      <th>AdministrativeFlag</th>\n",
       "    </tr>\n",
       "  </thead>\n",
       "  <tbody>\n",
       "    <tr>\n",
       "      <th>count</th>\n",
       "      <td>51861064</td>\n",
       "      <td>51861064</td>\n",
       "      <td>51861064</td>\n",
       "      <td>51860214.0</td>\n",
       "      <td>51861064</td>\n",
       "      <td>51861064</td>\n",
       "      <td>20169629</td>\n",
       "    </tr>\n",
       "    <tr>\n",
       "      <th>unique</th>\n",
       "      <td>130</td>\n",
       "      <td>365</td>\n",
       "      <td>2</td>\n",
       "      <td>914.0</td>\n",
       "      <td>66</td>\n",
       "      <td>3</td>\n",
       "      <td>2</td>\n",
       "    </tr>\n",
       "    <tr>\n",
       "      <th>top</th>\n",
       "      <td>589</td>\n",
       "      <td>205</td>\n",
       "      <td>0</td>\n",
       "      <td>782.0</td>\n",
       "      <td>FLORIDA</td>\n",
       "      <td>COMPLETE/UPDATE</td>\n",
       "      <td>Y</td>\n",
       "    </tr>\n",
       "    <tr>\n",
       "      <th>freq</th>\n",
       "      <td>1066226</td>\n",
       "      <td>2869776</td>\n",
       "      <td>36748066</td>\n",
       "      <td>520511.0</td>\n",
       "      <td>4708517</td>\n",
       "      <td>49443083</td>\n",
       "      <td>16487037</td>\n",
       "    </tr>\n",
       "  </tbody>\n",
       "</table>\n",
       "</div>"
      ],
      "text/plain": [
       "           sta3n  stopcode    non_va         zip     state             disp  \\\n",
       "count   51861064  51861064  51861064  51860214.0  51861064         51861064   \n",
       "unique       130       365         2       914.0        66                3   \n",
       "top          589       205         0       782.0   FLORIDA  COMPLETE/UPDATE   \n",
       "freq     1066226   2869776  36748066    520511.0   4708517         49443083   \n",
       "\n",
       "       AdministrativeFlag  \n",
       "count            20169629  \n",
       "unique                  2  \n",
       "top                     Y  \n",
       "freq             16487037  "
      ]
     },
     "execution_count": 9,
     "metadata": {},
     "output_type": "execute_result"
    }
   ],
   "source": [
    "categorical = data.dtypes[data.dtypes == \"category\"].index\n",
    "print(categorical)\n",
    "data[categorical].describe()"
   ]
  },
  {
   "cell_type": "code",
   "execution_count": 10,
   "id": "18a87984",
   "metadata": {
    "colab": {
     "base_uri": "https://localhost:8080/"
    },
    "id": "18a87984",
    "outputId": "c64a912a-3f00-4aca-8063-4038a40a898d",
    "scrolled": true
   },
   "outputs": [
    {
     "name": "stdout",
     "output_type": "stream",
     "text": [
      "sta3n--------------------------------------------- [573, 508, 568, 570, 659, ..., 515, 630, 526, 358, 620]\n",
      "Length: 130\n",
      "Categories (130, int64): [358, 402, 405, 436, ..., 695, 740, 756, 757]\n",
      "stopcode------------------------------------------ [354, 403, 407, 408, 409, ..., 136, 715, 168, 670, 447]\n",
      "Length: 365\n",
      "Categories (365, int64): [102, 103, 104, 105, ..., 903, 904, 907, 999]\n",
      "non_va-------------------------------------------- [1, 0]\n",
      "Categories (2, int64): [0, 1]\n",
      "zip----------------------------------------------- [315.0, 461.0, 322.0, 316.0, 317.0, ..., 0.0, 854.0, 91.0, 868.0, 858.0]\n",
      "Length: 915\n",
      "Categories (914, float64): [0.0, 6.0, 7.0, 8.0, ..., 996.0, 997.0, 998.0, 999.0]\n",
      "state--------------------------------------------- ['GEORGIA', 'INDIANA', 'FLORIDA', 'SOUTH CAROLINA', 'SOUTH DAKOTA', ..., 'MARSHALL ISLANDS', 'FOREIGN COUNTRY', 'UNKNOWN', 'EUROPE', 'PHILIPPINES']\n",
      "Length: 66\n",
      "Categories (66, object): ['*Missing*', 'ALABAMA', 'ALASKA', 'AMERICAN SAMOA', ..., 'WASHINGTON', 'WEST VIRGINIA', 'WISCONSIN', 'WYOMING']\n",
      "disp---------------------------------------------- ['COMPLETE/UPDATE', 'DISCONTINUED', 'CANCELLED']\n",
      "Categories (3, object): ['CANCELLED', 'COMPLETE/UPDATE', 'DISCONTINUED']\n",
      "AdministrativeFlag-------------------------------- ['Y', NaN, 'N']\n",
      "Categories (2, object): ['N', 'Y']\n"
     ]
    }
   ],
   "source": [
    "for col in data.select_dtypes(\"category\"):\n",
    "    print(f'{col :-<50} {data[col].unique()}')"
   ]
  },
  {
   "cell_type": "markdown",
   "id": "38a59792-ff58-4bb3-b532-4540f7141d67",
   "metadata": {},
   "source": [
    "##### Assumptions about Dispositions (`disp`)\n",
    "\n",
    "###### Decomposing the 'disp' Column into 'discontinued' and 'NoShow'\n",
    "\n",
    "In this step, we decompose the `disp` column, which contains three categories: `'COMPLETE/UPDATE'`, `'DISCONTINUED'`, and `'CANCELLED'`, into two new binary columns: `discontinued` and `NoShow`.\n",
    "\n",
    "- The `discontinued` column will be set to 1 if the original `disp` value is `'DISCONTINUED'` and 0 otherwise.\n",
    "- The `NoShow` column will be set to 1 if the original `disp` value is `'CANCELLED'` and 0 otherwise.\n",
    "\n",
    "This transformation allows us to clearly identify and separate cases where services were discontinued or cancelled from those that were completed or updated successfully (`'COMPLETE/UPDATE'`).\n",
    "\n",
    "For instance:\n",
    "- A `0` in both `discontinued` and `NoShow` indicates the event was `'COMPLETE/UPDATE'`.\n",
    "- A `1` in `discontinued` indicates the event was `'DISCONTINUED'`.\n",
    "- A `1` in `NoShow` indicates the event was `'CANCELLED'`.\n",
    "\n",
    "We have expressly retained the information on service interruptions because ignoring them could bias our model. Indeed, a patient experiencing interruptions on visit \\(v_t\\) might not show up for the subsequent visit \\(v_{t+k}\\)."
   ]
  },
  {
   "cell_type": "markdown",
   "id": "57b2301b",
   "metadata": {
    "id": "57b2301b"
   },
   "source": [
    "<a name=\"2.3\"></a>\n",
    "### 2.3 - Data Exploration"
   ]
  },
  {
   "cell_type": "markdown",
   "id": "a671e62a",
   "metadata": {
    "id": "a671e62a"
   },
   "source": [
    "Explore the data to uncover patterns, relationships, and potential anomalies. This step includes visualizing distributions of numeric and categorical data and examining relationships between variables."
   ]
  },
  {
   "cell_type": "code",
   "execution_count": 11,
   "id": "1026e916",
   "metadata": {
    "id": "1026e916"
   },
   "outputs": [
    {
     "data": {
      "image/png": "[encoded data removed]",
      "text/plain": [
       "<Figure size 432x576 with 3 Axes>"
      ]
     },
     "metadata": {},
     "output_type": "display_data"
    }
   ],
   "source": [
    "plot_histograms_numeric(data)"
   ]
  },
  {
   "cell_type": "code",
   "execution_count": 12,
   "id": "eff461fd",
   "metadata": {
    "id": "eff461fd",
    "outputId": "4d16ab75-2dd9-451d-a5bd-4c17891f1cd8"
   },
   "outputs": [
    {
     "data": {
      "image/png": "[encoded data removed]",
      "text/plain": [
       "<Figure size 2000x1000 with 1 Axes>"
      ]
     },
     "metadata": {},
     "output_type": "display_data"
    }
   ],
   "source": [
    "## Boxplots for numeric variables to spot outliers\n",
    "fig, ax = plt.subplots(figsize=(20, 10))\n",
    "data[[\"dta\", \"dts\", \"dtc\", \"non_va\"]].boxplot(ax=ax)\n",
    "plt.title('Boxplot of Numeric Variables')\n",
    "plt.xticks(rotation=45)\n",
    "plt.show()"
   ]
  },
  {
   "cell_type": "code",
   "execution_count": 13,
   "id": "4af165e0",
   "metadata": {
    "id": "4af165e0"
   },
   "outputs": [],
   "source": [
    "#plot_top_category_counts(data)"
   ]
  },
  {
   "cell_type": "code",
   "execution_count": 14,
   "id": "e1736426",
   "metadata": {
    "id": "e1736426"
   },
   "outputs": [
    {
     "data": {
      "image/png": "[encoded data removed]",
      "text/plain": [
       "<Figure size 1200x1000 with 2 Axes>"
      ]
     },
     "metadata": {},
     "output_type": "display_data"
    }
   ],
   "source": [
    "## Correlation Heatmap of Numeric Variables\n",
    "plt.figure(figsize=(12, 10))\n",
    "sns.heatmap(data.select_dtypes(include=[np.number]).corr(), annot=True, fmt=\".2f\", cmap='coolwarm')\n",
    "plt.title('Correlation Heatmap of Numeric Variables')\n",
    "plt.show()"
   ]
  },
  {
   "cell_type": "markdown",
   "id": "47356f65",
   "metadata": {
    "id": "47356f65"
   },
   "source": [
    "Corélation entre dts et dtc qui corobore bien notre choix de résumer ces deux information en une seule, le temps de service"
   ]
  },
  {
   "cell_type": "code",
   "execution_count": 15,
   "id": "7d6597f0",
   "metadata": {
    "id": "7d6597f0"
   },
   "outputs": [
    {
     "data": {
      "image/png": "[encoded data removed]",
      "text/plain": [
       "<Figure size 432x288 with 1 Axes>"
      ]
     },
     "metadata": {},
     "output_type": "display_data"
    },
    {
     "data": {
      "image/png": "[encoded data removed]",
      "text/plain": [
       "<Figure size 432x288 with 1 Axes>"
      ]
     },
     "metadata": {},
     "output_type": "display_data"
    }
   ],
   "source": [
    "analyze_working_patterns(data)"
   ]
  },
  {
   "cell_type": "code",
   "execution_count": 16,
   "id": "f602956b",
   "metadata": {
    "id": "f602956b",
    "outputId": "664480ea-90a1-44ca-b188-ab1f4bcd8d9a"
   },
   "outputs": [
    {
     "data": {
      "text/plain": [
       "<Axes: xlabel='non_va', ylabel='disp'>"
      ]
     },
     "execution_count": 16,
     "metadata": {},
     "output_type": "execute_result"
    },
    {
     "data": {
      "image/png": "[encoded data removed]",
      "text/plain": [
       "<Figure size 640x480 with 2 Axes>"
      ]
     },
     "metadata": {},
     "output_type": "display_data"
    }
   ],
   "source": [
    "sns.heatmap(pd.crosstab(data['disp'], data['non_va']), annot=True, fmt='d')"
   ]
  },
  {
   "cell_type": "code",
   "execution_count": 17,
   "id": "0fd69a56",
   "metadata": {},
   "outputs": [],
   "source": [
    "data = decompose_disp_column(data)"
   ]
  },
  {
   "cell_type": "code",
   "execution_count": 18,
   "id": "978e353d",
   "metadata": {},
   "outputs": [
    {
     "data": {
      "image/png": "[encoded data removed]",
      "text/plain": [
       "<Figure size 288x288 with 1 Axes>"
      ]
     },
     "metadata": {},
     "output_type": "display_data"
    }
   ],
   "source": [
    "plot_consultation_counts(data)"
   ]
  },
  {
   "cell_type": "code",
   "execution_count": 19,
   "id": "5f3d3270",
   "metadata": {},
   "outputs": [
    {
     "name": "stdout",
     "output_type": "stream",
     "text": [
      "Primary Care Stop Codes: ['322', '301', '318', '177', '348', '323']\n",
      "Mental Health Stop Codes: ['502', '533', '509', '538', '510']\n",
      "All Other Specialties Stop Codes: ['190', '302', '392', '317', '203', '487', '333', '391', '334', '402', '231', '303', '436', '311', '159', '160', '150', '180', '304', '106', '130', '212', '305', '369', '307']\n"
     ]
    }
   ],
   "source": [
    "primary_care_codes, mental_health_codes, all_other_specialties_codes = extract_stop_codes(pdf_path)\n",
    "\n",
    "print(\"Primary Care Stop Codes:\", primary_care_codes)\n",
    "print(\"Mental Health Stop Codes:\", mental_health_codes)\n",
    "print(\"All Other Specialties Stop Codes:\", all_other_specialties_codes)\n"
   ]
  },
  {
   "cell_type": "code",
   "execution_count": 20,
   "id": "c997654b",
   "metadata": {},
   "outputs": [
    {
     "name": "stdout",
     "output_type": "stream",
     "text": [
      "Filtered DataFrame:\n"
     ]
    },
    {
     "data": {
      "text/plain": [
       "(14691060, 13)"
      ]
     },
     "execution_count": 20,
     "metadata": {},
     "output_type": "execute_result"
    }
   ],
   "source": [
    "# Filter the DataFrame\n",
    "data = filter_stop_codes(data, primary_care_codes, mental_health_codes, all_other_specialties_codes)\n",
    "print(\"Filtered DataFrame:\")\n",
    "data.shape"
   ]
  },
  {
   "cell_type": "code",
   "execution_count": 21,
   "id": "64e3007d",
   "metadata": {},
   "outputs": [
    {
     "name": "stdout",
     "output_type": "stream",
     "text": [
      "\n",
      "Updated DataFrame with 'type_soins':\n"
     ]
    },
    {
     "data": {
      "text/html": [
       "<div>\n",
       "<style scoped>\n",
       "    .dataframe tbody tr th:only-of-type {\n",
       "        vertical-align: middle;\n",
       "    }\n",
       "\n",
       "    .dataframe tbody tr th {\n",
       "        vertical-align: top;\n",
       "    }\n",
       "\n",
       "    .dataframe thead th {\n",
       "        text-align: right;\n",
       "    }\n",
       "</style>\n",
       "<table border=\"1\" class=\"dataframe\">\n",
       "  <thead>\n",
       "    <tr style=\"text-align: right;\">\n",
       "      <th></th>\n",
       "      <th>patientsid</th>\n",
       "      <th>activitydatetime</th>\n",
       "      <th>sta3n</th>\n",
       "      <th>stopcode</th>\n",
       "      <th>dta</th>\n",
       "      <th>dts</th>\n",
       "      <th>dtc</th>\n",
       "      <th>non_va</th>\n",
       "      <th>zip</th>\n",
       "      <th>state</th>\n",
       "      <th>AdministrativeFlag</th>\n",
       "      <th>NoShow</th>\n",
       "      <th>discontinued</th>\n",
       "      <th>typecare</th>\n",
       "    </tr>\n",
       "  </thead>\n",
       "  <tbody>\n",
       "    <tr>\n",
       "      <th>6</th>\n",
       "      <td>9204541</td>\n",
       "      <td>2020-06-29 12:56:56</td>\n",
       "      <td>573</td>\n",
       "      <td>502</td>\n",
       "      <td>4.0</td>\n",
       "      <td>1</td>\n",
       "      <td>9</td>\n",
       "      <td>1</td>\n",
       "      <td>315.0</td>\n",
       "      <td>GEORGIA</td>\n",
       "      <td>Y</td>\n",
       "      <td>0</td>\n",
       "      <td>0</td>\n",
       "      <td>1</td>\n",
       "    </tr>\n",
       "    <tr>\n",
       "      <th>9</th>\n",
       "      <td>9204549</td>\n",
       "      <td>2023-07-03 15:04:38</td>\n",
       "      <td>573</td>\n",
       "      <td>180</td>\n",
       "      <td>2.0</td>\n",
       "      <td>53</td>\n",
       "      <td>70</td>\n",
       "      <td>1</td>\n",
       "      <td>322.0</td>\n",
       "      <td>FLORIDA</td>\n",
       "      <td>Y</td>\n",
       "      <td>0</td>\n",
       "      <td>0</td>\n",
       "      <td>1</td>\n",
       "    </tr>\n",
       "    <tr>\n",
       "      <th>14</th>\n",
       "      <td>9204549</td>\n",
       "      <td>2023-01-31 08:10:47</td>\n",
       "      <td>573</td>\n",
       "      <td>436</td>\n",
       "      <td>0.0</td>\n",
       "      <td>0</td>\n",
       "      <td>130</td>\n",
       "      <td>0</td>\n",
       "      <td>322.0</td>\n",
       "      <td>FLORIDA</td>\n",
       "      <td>NaN</td>\n",
       "      <td>0</td>\n",
       "      <td>0</td>\n",
       "      <td>1</td>\n",
       "    </tr>\n",
       "    <tr>\n",
       "      <th>15</th>\n",
       "      <td>9204549</td>\n",
       "      <td>2021-03-18 16:43:02</td>\n",
       "      <td>573</td>\n",
       "      <td>502</td>\n",
       "      <td>3.0</td>\n",
       "      <td>81</td>\n",
       "      <td>116</td>\n",
       "      <td>0</td>\n",
       "      <td>322.0</td>\n",
       "      <td>FLORIDA</td>\n",
       "      <td>NaN</td>\n",
       "      <td>0</td>\n",
       "      <td>0</td>\n",
       "      <td>1</td>\n",
       "    </tr>\n",
       "    <tr>\n",
       "      <th>20</th>\n",
       "      <td>9204559</td>\n",
       "      <td>2017-06-26 14:06:11</td>\n",
       "      <td>573</td>\n",
       "      <td>307</td>\n",
       "      <td>1.0</td>\n",
       "      <td>1</td>\n",
       "      <td>34</td>\n",
       "      <td>0</td>\n",
       "      <td>316.0</td>\n",
       "      <td>GEORGIA</td>\n",
       "      <td>NaN</td>\n",
       "      <td>0</td>\n",
       "      <td>0</td>\n",
       "      <td>1</td>\n",
       "    </tr>\n",
       "    <tr>\n",
       "      <th>...</th>\n",
       "      <td>...</td>\n",
       "      <td>...</td>\n",
       "      <td>...</td>\n",
       "      <td>...</td>\n",
       "      <td>...</td>\n",
       "      <td>...</td>\n",
       "      <td>...</td>\n",
       "      <td>...</td>\n",
       "      <td>...</td>\n",
       "      <td>...</td>\n",
       "      <td>...</td>\n",
       "      <td>...</td>\n",
       "      <td>...</td>\n",
       "      <td>...</td>\n",
       "    </tr>\n",
       "    <tr>\n",
       "      <th>51861040</th>\n",
       "      <td>7941828</td>\n",
       "      <td>2023-04-20 09:47:27</td>\n",
       "      <td>557</td>\n",
       "      <td>391</td>\n",
       "      <td>0.0</td>\n",
       "      <td>4</td>\n",
       "      <td>14</td>\n",
       "      <td>0</td>\n",
       "      <td>312.0</td>\n",
       "      <td>GEORGIA</td>\n",
       "      <td>NaN</td>\n",
       "      <td>0</td>\n",
       "      <td>0</td>\n",
       "      <td>1</td>\n",
       "    </tr>\n",
       "    <tr>\n",
       "      <th>51861050</th>\n",
       "      <td>7949492</td>\n",
       "      <td>2020-07-10 09:49:45</td>\n",
       "      <td>557</td>\n",
       "      <td>180</td>\n",
       "      <td>0.0</td>\n",
       "      <td>7</td>\n",
       "      <td>12</td>\n",
       "      <td>1</td>\n",
       "      <td>310.0</td>\n",
       "      <td>GEORGIA</td>\n",
       "      <td>Y</td>\n",
       "      <td>0</td>\n",
       "      <td>0</td>\n",
       "      <td>1</td>\n",
       "    </tr>\n",
       "    <tr>\n",
       "      <th>51861052</th>\n",
       "      <td>7949492</td>\n",
       "      <td>2022-05-16 10:58:36</td>\n",
       "      <td>557</td>\n",
       "      <td>303</td>\n",
       "      <td>0.0</td>\n",
       "      <td>10</td>\n",
       "      <td>15</td>\n",
       "      <td>0</td>\n",
       "      <td>310.0</td>\n",
       "      <td>GEORGIA</td>\n",
       "      <td>NaN</td>\n",
       "      <td>0</td>\n",
       "      <td>0</td>\n",
       "      <td>1</td>\n",
       "    </tr>\n",
       "    <tr>\n",
       "      <th>51861053</th>\n",
       "      <td>7949492</td>\n",
       "      <td>2014-10-01 13:14:59</td>\n",
       "      <td>557</td>\n",
       "      <td>307</td>\n",
       "      <td>3.0</td>\n",
       "      <td>35</td>\n",
       "      <td>44</td>\n",
       "      <td>0</td>\n",
       "      <td>310.0</td>\n",
       "      <td>GEORGIA</td>\n",
       "      <td>NaN</td>\n",
       "      <td>0</td>\n",
       "      <td>0</td>\n",
       "      <td>1</td>\n",
       "    </tr>\n",
       "    <tr>\n",
       "      <th>51861061</th>\n",
       "      <td>7949492</td>\n",
       "      <td>2022-02-18 16:06:23</td>\n",
       "      <td>557</td>\n",
       "      <td>502</td>\n",
       "      <td>13.0</td>\n",
       "      <td>27</td>\n",
       "      <td>26</td>\n",
       "      <td>1</td>\n",
       "      <td>310.0</td>\n",
       "      <td>GEORGIA</td>\n",
       "      <td>Y</td>\n",
       "      <td>1</td>\n",
       "      <td>0</td>\n",
       "      <td>1</td>\n",
       "    </tr>\n",
       "  </tbody>\n",
       "</table>\n",
       "<p>13507630 rows × 14 columns</p>\n",
       "</div>"
      ],
      "text/plain": [
       "          patientsid    activitydatetime sta3n stopcode   dta  dts  dtc  \\\n",
       "6            9204541 2020-06-29 12:56:56   573      502   4.0    1    9   \n",
       "9            9204549 2023-07-03 15:04:38   573      180   2.0   53   70   \n",
       "14           9204549 2023-01-31 08:10:47   573      436   0.0    0  130   \n",
       "15           9204549 2021-03-18 16:43:02   573      502   3.0   81  116   \n",
       "20           9204559 2017-06-26 14:06:11   573      307   1.0    1   34   \n",
       "...              ...                 ...   ...      ...   ...  ...  ...   \n",
       "51861040     7941828 2023-04-20 09:47:27   557      391   0.0    4   14   \n",
       "51861050     7949492 2020-07-10 09:49:45   557      180   0.0    7   12   \n",
       "51861052     7949492 2022-05-16 10:58:36   557      303   0.0   10   15   \n",
       "51861053     7949492 2014-10-01 13:14:59   557      307   3.0   35   44   \n",
       "51861061     7949492 2022-02-18 16:06:23   557      502  13.0   27   26   \n",
       "\n",
       "         non_va    zip    state AdministrativeFlag  NoShow  discontinued  \\\n",
       "6             1  315.0  GEORGIA                  Y       0             0   \n",
       "9             1  322.0  FLORIDA                  Y       0             0   \n",
       "14            0  322.0  FLORIDA                NaN       0             0   \n",
       "15            0  322.0  FLORIDA                NaN       0             0   \n",
       "20            0  316.0  GEORGIA                NaN       0             0   \n",
       "...         ...    ...      ...                ...     ...           ...   \n",
       "51861040      0  312.0  GEORGIA                NaN       0             0   \n",
       "51861050      1  310.0  GEORGIA                  Y       0             0   \n",
       "51861052      0  310.0  GEORGIA                NaN       0             0   \n",
       "51861053      0  310.0  GEORGIA                NaN       0             0   \n",
       "51861061      1  310.0  GEORGIA                  Y       1             0   \n",
       "\n",
       "          typecare  \n",
       "6                1  \n",
       "9                1  \n",
       "14               1  \n",
       "15               1  \n",
       "20               1  \n",
       "...            ...  \n",
       "51861040         1  \n",
       "51861050         1  \n",
       "51861052         1  \n",
       "51861053         1  \n",
       "51861061         1  \n",
       "\n",
       "[13507630 rows x 14 columns]"
      ]
     },
     "execution_count": 21,
     "metadata": {},
     "output_type": "execute_result"
    }
   ],
   "source": [
    "# Add the binary variable \"type_soins\"\n",
    "data = add_type_soins(data, primary_care_codes)\n",
    "print(\"\\nUpdated DataFrame with 'type_soins':\")\n",
    "data[data['typecare']==1]"
   ]
  },
  {
   "cell_type": "code",
   "execution_count": 22,
   "id": "f204a8ec",
   "metadata": {},
   "outputs": [
    {
     "data": {
      "text/plain": [
       "(14691060, 14)"
      ]
     },
     "execution_count": 22,
     "metadata": {},
     "output_type": "execute_result"
    }
   ],
   "source": [
    "data.shape"
   ]
  },
  {
   "cell_type": "code",
   "execution_count": 23,
   "id": "a53aae56",
   "metadata": {},
   "outputs": [
    {
     "data": {
      "image/png": "[encoded data removed]",
      "text/plain": [
       "<Figure size 640x480 with 1 Axes>"
      ]
     },
     "metadata": {},
     "output_type": "display_data"
    }
   ],
   "source": [
    "# Convert 'activitydatetime' to datetime type if not already done\n",
    "data['activitydatetime'] = pd.to_datetime(data['activitydatetime'])\n",
    "\n",
    "# Create a daily time series of the no-show rate\n",
    "daily_no_show = data.groupby(data['activitydatetime'].dt.date)['NoShow'].mean()\n",
    "\n",
    "# Display time series\n",
    "daily_no_show.plot(title='Daily No-Show Rate')\n",
    "plt.ylabel('No-Show Rate')\n",
    "plt.show()"
   ]
  },
  {
   "cell_type": "markdown",
   "id": "256a03d4-abd2-4d85-986e-6e08a2c419c7",
   "metadata": {},
   "source": [
    "There was a high peak in 2014, with almost 50% of NoShows. This can be explained by the fact that the VCP (Veteran Choice Program) was launched in the same year in response to the waiting times experienced by veterans. It is clear that waiting times lead to NoShows (at the time of the visit or at future visits). The significant and rapid reduction after 2014 demonstrates the relevance of this programme. Other sporadic peaks in subsequent years suggest one-off events such as weather problems."
   ]
  },
  {
   "cell_type": "code",
   "execution_count": 24,
   "id": "0049b7be",
   "metadata": {},
   "outputs": [
    {
     "data": {
      "image/png": "[encoded data removed]",
      "text/plain": [
       "<Figure size 640x480 with 4 Axes>"
      ]
     },
     "metadata": {},
     "output_type": "display_data"
    }
   ],
   "source": [
    "from statsmodels.tsa.seasonal import seasonal_decompose\n",
    "daily_no_show.index = pd.to_datetime(daily_no_show.index)\n",
    "\n",
    "# Seasonal decomposition with specified period\n",
    "result = seasonal_decompose(daily_no_show, model='additive', period=7)\n",
    "result.plot()\n",
    "plt.show()"
   ]
  },
  {
   "cell_type": "code",
   "execution_count": 25,
   "id": "319b6be6",
   "metadata": {},
   "outputs": [],
   "source": [
    "#data[(data['dtc'] <= data['dts'])]"
   ]
  },
  {
   "cell_type": "code",
   "execution_count": 26,
   "id": "2f6aee5a",
   "metadata": {},
   "outputs": [
    {
     "name": "stdout",
     "output_type": "stream",
     "text": [
      "The most recent date is: 2023-08-30 23:57:09\n",
      "The oldest is: 2014-01-02 11:48:13\n"
     ]
    }
   ],
   "source": [
    "# Find the last date in the 'activitydatetime' column\n",
    "last_date = data['activitydatetime'].max()\n",
    "first_date = data['activitydatetime'].min()\n",
    "print(\"The most recent date is:\", last_date)\n",
    "print(\"The oldest is:\", first_date)"
   ]
  },
  {
   "cell_type": "markdown",
   "id": "beb13018",
   "metadata": {},
   "source": [
    "### Filtrage données"
   ]
  },
  {
   "cell_type": "code",
   "execution_count": 27,
   "id": "ac694354",
   "metadata": {},
   "outputs": [
    {
     "name": "stdout",
     "output_type": "stream",
     "text": [
      "(12158668, 14)\n"
     ]
    },
    {
     "data": {
      "image/png": "[encoded data removed]",
      "text/plain": [
       "<Figure size 288x288 with 1 Axes>"
      ]
     },
     "metadata": {},
     "output_type": "display_data"
    }
   ],
   "source": [
    "data = filter_dates_after(data, 'activitydatetime', '2016-08-30 00:00:00')\n",
    "print(data.shape)\n",
    "# Plotting the number of consultations per category\n",
    "plot_consultation_counts(data)"
   ]
  },
  {
   "cell_type": "code",
   "execution_count": 28,
   "id": "9fab66c5",
   "metadata": {},
   "outputs": [
    {
     "data": {
      "text/plain": [
       "(12158668, 18)"
      ]
     },
     "execution_count": 28,
     "metadata": {},
     "output_type": "execute_result"
    }
   ],
   "source": [
    "data = add_temporal_features(data, 'activitydatetime')\n",
    "data.shape"
   ]
  },
  {
   "cell_type": "code",
   "execution_count": 29,
   "id": "ec75962a",
   "metadata": {
    "scrolled": true
   },
   "outputs": [],
   "source": [
    "#plot_no_show_comparaison(data)"
   ]
  },
  {
   "cell_type": "code",
   "execution_count": 30,
   "id": "bcc287f7",
   "metadata": {},
   "outputs": [
    {
     "data": {
      "image/png": "[encoded data removed]",
      "text/plain": [
       "<Figure size 432x288 with 1 Axes>"
      ]
     },
     "metadata": {},
     "output_type": "display_data"
    },
    {
     "data": {
      "image/png": "[encoded data removed]",
      "text/plain": [
       "<Figure size 432x288 with 1 Axes>"
      ]
     },
     "metadata": {},
     "output_type": "display_data"
    },
    {
     "data": {
      "image/png": "[encoded data removed]",
      "text/plain": [
       "<Figure size 432x288 with 1 Axes>"
      ]
     },
     "metadata": {},
     "output_type": "display_data"
    }
   ],
   "source": [
    "plot_patient_flow(data, 'NoShow')"
   ]
  },
  {
   "cell_type": "code",
   "execution_count": 31,
   "id": "961b1e62",
   "metadata": {
    "scrolled": true
   },
   "outputs": [
    {
     "data": {
      "image/png": "[encoded data removed]",
      "text/plain": [
       "<Figure size 432x288 with 1 Axes>"
      ]
     },
     "metadata": {},
     "output_type": "display_data"
    }
   ],
   "source": [
    "plot_patient_flow_segmented(data, 'NoShow')"
   ]
  },
  {
   "cell_type": "code",
   "execution_count": 32,
   "id": "5e91bb2f",
   "metadata": {},
   "outputs": [
    {
     "data": {
      "image/png": "[encoded data removed]",
      "text/plain": [
       "<Figure size 432x288 with 1 Axes>"
      ]
     },
     "metadata": {},
     "output_type": "display_data"
    }
   ],
   "source": [
    "plot_patient_flow_segmented(data, 'NoShow', estimator=np.median)"
   ]
  },
  {
   "cell_type": "markdown",
   "id": "eb6a56d5",
   "metadata": {
    "id": "eb6a56d5"
   },
   "source": [
    "<a name=\"3\"></a>\n",
    "## 3 - Data Preparation\n",
    "<a name=\"3.1\"></a>\n",
    "### 3.1 - Data Cleaning"
   ]
  },
  {
   "cell_type": "markdown",
   "id": "931a5cf9",
   "metadata": {
    "id": "931a5cf9"
   },
   "source": [
    "<a name=\"3.1.1\"></a>\n",
    "3.1.1 - Missing Values"
   ]
  },
  {
   "cell_type": "code",
   "execution_count": 33,
   "id": "dd70139f",
   "metadata": {
    "colab": {
     "base_uri": "https://localhost:8080/",
     "height": 932
    },
    "id": "dd70139f",
    "outputId": "b996bb55-248e-47a5-e466-f75323692bcd"
   },
   "outputs": [],
   "source": [
    "#plt.figure(figsize = (20, 10))\n",
    "#sns.heatmap(data.isna())"
   ]
  },
  {
   "cell_type": "code",
   "execution_count": 34,
   "id": "270f97dc",
   "metadata": {
    "colab": {
     "base_uri": "https://localhost:8080/",
     "height": 313
    },
    "id": "270f97dc",
    "outputId": "6b904202-464b-427b-da88-f3bfd4dd61b1"
   },
   "outputs": [
    {
     "name": "stdout",
     "output_type": "stream",
     "text": [
      "Percentage of missing values per column:\n"
     ]
    },
    {
     "data": {
      "text/plain": [
       "patientsid              0.000000\n",
       "activitydatetime        0.000000\n",
       "sta3n                   0.000000\n",
       "stopcode                0.000000\n",
       "dta                     0.000000\n",
       "dts                     0.000000\n",
       "dtc                     0.000000\n",
       "non_va                  0.000000\n",
       "zip                     0.001719\n",
       "state                   0.001324\n",
       "AdministrativeFlag     56.864568\n",
       "NoShow                  0.000000\n",
       "discontinued            0.000000\n",
       "typecare                0.000000\n",
       "day_of_week             0.000000\n",
       "day_of_month            0.000000\n",
       "month                   0.000000\n",
       "hour                    0.000000\n",
       "week_segment            0.000000\n",
       "day_in_week_segment     0.000000\n",
       "dtype: float64"
      ]
     },
     "execution_count": 34,
     "metadata": {},
     "output_type": "execute_result"
    }
   ],
   "source": [
    "display_missing_values(data)"
   ]
  },
  {
   "cell_type": "code",
   "execution_count": 35,
   "id": "be8fe805",
   "metadata": {},
   "outputs": [
    {
     "data": {
      "text/plain": [
       "6             Y\n",
       "23166054      Y\n",
       "23166183    NaN\n",
       "23166184    NaN\n",
       "23166187    NaN\n",
       "           ... \n",
       "2849089       Y\n",
       "16381857      Y\n",
       "44860591      Y\n",
       "16381557    NaN\n",
       "35848576    NaN\n",
       "Name: AdministrativeFlag, Length: 12158668, dtype: category\n",
       "Categories (2, object): ['N', 'Y']"
      ]
     },
     "execution_count": 35,
     "metadata": {},
     "output_type": "execute_result"
    }
   ],
   "source": [
    "data['AdministrativeFlag']"
   ]
  },
  {
   "cell_type": "code",
   "execution_count": 36,
   "id": "a4806550",
   "metadata": {},
   "outputs": [
    {
     "data": {
      "text/html": [
       "<div>\n",
       "<style scoped>\n",
       "    .dataframe tbody tr th:only-of-type {\n",
       "        vertical-align: middle;\n",
       "    }\n",
       "\n",
       "    .dataframe tbody tr th {\n",
       "        vertical-align: top;\n",
       "    }\n",
       "\n",
       "    .dataframe thead th {\n",
       "        text-align: right;\n",
       "    }\n",
       "</style>\n",
       "<table border=\"1\" class=\"dataframe\">\n",
       "  <thead>\n",
       "    <tr style=\"text-align: right;\">\n",
       "      <th></th>\n",
       "      <th>patientsid</th>\n",
       "      <th>activitydatetime</th>\n",
       "      <th>sta3n</th>\n",
       "      <th>stopcode</th>\n",
       "      <th>dta</th>\n",
       "      <th>dts</th>\n",
       "      <th>dtc</th>\n",
       "      <th>non_va</th>\n",
       "      <th>zip</th>\n",
       "      <th>state</th>\n",
       "      <th>AdministrativeFlag</th>\n",
       "      <th>NoShow</th>\n",
       "      <th>discontinued</th>\n",
       "      <th>typecare</th>\n",
       "      <th>day_of_week</th>\n",
       "      <th>day_of_month</th>\n",
       "      <th>month</th>\n",
       "      <th>hour</th>\n",
       "      <th>week_segment</th>\n",
       "      <th>day_in_week_segment</th>\n",
       "    </tr>\n",
       "  </thead>\n",
       "  <tbody>\n",
       "    <tr>\n",
       "      <th>23166183</th>\n",
       "      <td>1001289482</td>\n",
       "      <td>2022-06-06 09:20:20</td>\n",
       "      <td>629</td>\n",
       "      <td>303</td>\n",
       "      <td>0.0</td>\n",
       "      <td>6</td>\n",
       "      <td>24</td>\n",
       "      <td>0</td>\n",
       "      <td>700.0</td>\n",
       "      <td>LOUISIANA</td>\n",
       "      <td>NaN</td>\n",
       "      <td>0</td>\n",
       "      <td>0</td>\n",
       "      <td>1</td>\n",
       "      <td>0</td>\n",
       "      <td>6</td>\n",
       "      <td>6</td>\n",
       "      <td>9</td>\n",
       "      <td>1</td>\n",
       "      <td>6</td>\n",
       "    </tr>\n",
       "    <tr>\n",
       "      <th>23166184</th>\n",
       "      <td>1001289482</td>\n",
       "      <td>2019-04-22 16:12:55</td>\n",
       "      <td>629</td>\n",
       "      <td>305</td>\n",
       "      <td>1.0</td>\n",
       "      <td>3</td>\n",
       "      <td>45</td>\n",
       "      <td>0</td>\n",
       "      <td>700.0</td>\n",
       "      <td>LOUISIANA</td>\n",
       "      <td>NaN</td>\n",
       "      <td>0</td>\n",
       "      <td>0</td>\n",
       "      <td>1</td>\n",
       "      <td>0</td>\n",
       "      <td>22</td>\n",
       "      <td>4</td>\n",
       "      <td>16</td>\n",
       "      <td>4</td>\n",
       "      <td>1</td>\n",
       "    </tr>\n",
       "    <tr>\n",
       "      <th>23166187</th>\n",
       "      <td>1000663151</td>\n",
       "      <td>2023-07-31 11:05:01</td>\n",
       "      <td>564</td>\n",
       "      <td>303</td>\n",
       "      <td>30.0</td>\n",
       "      <td>0</td>\n",
       "      <td>42</td>\n",
       "      <td>0</td>\n",
       "      <td>655.0</td>\n",
       "      <td>MISSOURI</td>\n",
       "      <td>NaN</td>\n",
       "      <td>1</td>\n",
       "      <td>0</td>\n",
       "      <td>1</td>\n",
       "      <td>0</td>\n",
       "      <td>31</td>\n",
       "      <td>7</td>\n",
       "      <td>11</td>\n",
       "      <td>5</td>\n",
       "      <td>3</td>\n",
       "    </tr>\n",
       "    <tr>\n",
       "      <th>23166223</th>\n",
       "      <td>1001913008</td>\n",
       "      <td>2023-07-17 11:07:57</td>\n",
       "      <td>740</td>\n",
       "      <td>502</td>\n",
       "      <td>0.0</td>\n",
       "      <td>21</td>\n",
       "      <td>42</td>\n",
       "      <td>0</td>\n",
       "      <td>784.0</td>\n",
       "      <td>TEXAS</td>\n",
       "      <td>NaN</td>\n",
       "      <td>0</td>\n",
       "      <td>0</td>\n",
       "      <td>1</td>\n",
       "      <td>0</td>\n",
       "      <td>17</td>\n",
       "      <td>7</td>\n",
       "      <td>11</td>\n",
       "      <td>3</td>\n",
       "      <td>3</td>\n",
       "    </tr>\n",
       "    <tr>\n",
       "      <th>23166243</th>\n",
       "      <td>1001913014</td>\n",
       "      <td>2016-10-24 15:16:36</td>\n",
       "      <td>740</td>\n",
       "      <td>502</td>\n",
       "      <td>2.0</td>\n",
       "      <td>1</td>\n",
       "      <td>18</td>\n",
       "      <td>0</td>\n",
       "      <td>785.0</td>\n",
       "      <td>TEXAS</td>\n",
       "      <td>NaN</td>\n",
       "      <td>0</td>\n",
       "      <td>0</td>\n",
       "      <td>1</td>\n",
       "      <td>0</td>\n",
       "      <td>24</td>\n",
       "      <td>10</td>\n",
       "      <td>15</td>\n",
       "      <td>4</td>\n",
       "      <td>3</td>\n",
       "    </tr>\n",
       "  </tbody>\n",
       "</table>\n",
       "</div>"
      ],
      "text/plain": [
       "          patientsid    activitydatetime sta3n stopcode   dta  dts  dtc  \\\n",
       "23166183  1001289482 2022-06-06 09:20:20   629      303   0.0    6   24   \n",
       "23166184  1001289482 2019-04-22 16:12:55   629      305   1.0    3   45   \n",
       "23166187  1000663151 2023-07-31 11:05:01   564      303  30.0    0   42   \n",
       "23166223  1001913008 2023-07-17 11:07:57   740      502   0.0   21   42   \n",
       "23166243  1001913014 2016-10-24 15:16:36   740      502   2.0    1   18   \n",
       "\n",
       "         non_va    zip      state AdministrativeFlag  NoShow  discontinued  \\\n",
       "23166183      0  700.0  LOUISIANA                NaN       0             0   \n",
       "23166184      0  700.0  LOUISIANA                NaN       0             0   \n",
       "23166187      0  655.0   MISSOURI                NaN       1             0   \n",
       "23166223      0  784.0      TEXAS                NaN       0             0   \n",
       "23166243      0  785.0      TEXAS                NaN       0             0   \n",
       "\n",
       "          typecare  day_of_week  day_of_month  month  hour  week_segment  \\\n",
       "23166183         1            0             6      6     9             1   \n",
       "23166184         1            0            22      4    16             4   \n",
       "23166187         1            0            31      7    11             5   \n",
       "23166223         1            0            17      7    11             3   \n",
       "23166243         1            0            24     10    15             4   \n",
       "\n",
       "          day_in_week_segment  \n",
       "23166183                    6  \n",
       "23166184                    1  \n",
       "23166187                    3  \n",
       "23166223                    3  \n",
       "23166243                    3  "
      ]
     },
     "execution_count": 36,
     "metadata": {},
     "output_type": "execute_result"
    }
   ],
   "source": [
    "data[data['AdministrativeFlag'].isna()].head()"
   ]
  },
  {
   "cell_type": "markdown",
   "id": "0e6925fb",
   "metadata": {
    "id": "0e6925fb"
   },
   "source": [
    "Given the high volume of missing data and its MCAR (Missing Completely At Random) nature, and we assume AdministrativeFlag is not critical to analysis, considering its removal could streamline the dataset and focus efforts on more reliable variables."
   ]
  },
  {
   "cell_type": "markdown",
   "id": "97599610",
   "metadata": {
    "id": "97599610"
   },
   "source": [
    "*Missing value prepocessing*"
   ]
  },
  {
   "cell_type": "code",
   "execution_count": 37,
   "id": "a90dcaff",
   "metadata": {
    "id": "a90dcaff",
    "scrolled": true
   },
   "outputs": [],
   "source": [
    "data.drop('AdministrativeFlag', axis=1, inplace=True)"
   ]
  },
  {
   "cell_type": "markdown",
   "id": "dd8aaa17",
   "metadata": {
    "id": "dd8aaa17"
   },
   "source": [
    "Given our large dataset and the small proportion represented by the maquante values of `zip` and `state`, we used the listwiseDeletion method for the methods. This simple method consists of deleting the rows where there are maquante values linked to these two columns."
   ]
  },
  {
   "cell_type": "code",
   "execution_count": 38,
   "id": "e5898bff",
   "metadata": {
    "id": "e5898bff"
   },
   "outputs": [
    {
     "name": "stdout",
     "output_type": "stream",
     "text": [
      "(12158459, 19)\n"
     ]
    }
   ],
   "source": [
    "# Identify line indices where 'zip' is NaN or 'state' is '*Missing*'.\n",
    "missing_zip_index = data[data['zip'].isnull()].index\n",
    "missing_state_index = data[data['state'] == '*Missing*'].index\n",
    "\n",
    "# Combine indices in a single set to ensure uniqueness\n",
    "all_missing_indices = missing_zip_index.union(missing_state_index)\n",
    "\n",
    "# Delete lines with combined indices in a single operation\n",
    "data.drop(index=all_missing_indices, inplace=True)\n",
    "print(data.shape)"
   ]
  },
  {
   "cell_type": "markdown",
   "id": "49cd2d50",
   "metadata": {
    "id": "49cd2d50"
   },
   "source": [
    "<a name=\"3.1.2\"></a>\n",
    "3.1.2 - Outliers"
   ]
  },
  {
   "cell_type": "markdown",
   "id": "e8430ad1",
   "metadata": {
    "id": "e8430ad1"
   },
   "source": [
    "Traitement des outliers"
   ]
  },
  {
   "cell_type": "markdown",
   "id": "7586a749",
   "metadata": {
    "id": "7586a749"
   },
   "source": [
    "In the outliers section, we began by looking for schelduling dates that are more recent than their completion date.  \n",
    "Note that the order of outlier processing (as with most other processing) is guided by the resource complexity of the operation. Given the robust size of our data, performing certain operations first would be very costly, if not impossible (crashing)."
   ]
  },
  {
   "cell_type": "code",
   "execution_count": 39,
   "id": "5735f86a",
   "metadata": {
    "id": "5735f86a"
   },
   "outputs": [
    {
     "name": "stdout",
     "output_type": "stream",
     "text": [
      "Number of Rows where 'dts' is greater than 'dtc': 815809\n"
     ]
    }
   ],
   "source": [
    "# Find and display rows where 'dts' is greater than 'dtc'\n",
    "len_out_dtc = len(data[data['dts'] > data['dtc']])\n",
    "print(\"Number of Rows where 'dts' is greater than 'dtc':\", len_out_dtc)"
   ]
  },
  {
   "cell_type": "code",
   "execution_count": 40,
   "id": "ec42a845",
   "metadata": {
    "id": "ec42a845",
    "scrolled": true
   },
   "outputs": [
    {
     "name": "stdout",
     "output_type": "stream",
     "text": [
      "New data shape after outlier removal: (11342650, 19)\n"
     ]
    },
    {
     "data": {
      "image/png": "[encoded data removed]",
      "text/plain": [
       "<Figure size 288x288 with 1 Axes>"
      ]
     },
     "metadata": {},
     "output_type": "display_data"
    }
   ],
   "source": [
    "# Filter the data to remove rows where 'dts' is greater than 'dtc'\n",
    "data = data[data['dts'] <= data['dtc']]\n",
    "\n",
    "# Display new data shape after removing erroneous entries\n",
    "print(\"New data shape after outlier removal:\", data.shape)\n",
    "plot_consultation_counts(data)"
   ]
  },
  {
   "cell_type": "code",
   "execution_count": 41,
   "id": "81c34d86",
   "metadata": {},
   "outputs": [
    {
     "data": {
      "text/html": [
       "<div>\n",
       "<style scoped>\n",
       "    .dataframe tbody tr th:only-of-type {\n",
       "        vertical-align: middle;\n",
       "    }\n",
       "\n",
       "    .dataframe tbody tr th {\n",
       "        vertical-align: top;\n",
       "    }\n",
       "\n",
       "    .dataframe thead th {\n",
       "        text-align: right;\n",
       "    }\n",
       "</style>\n",
       "<table border=\"1\" class=\"dataframe\">\n",
       "  <thead>\n",
       "    <tr style=\"text-align: right;\">\n",
       "      <th>typecare</th>\n",
       "      <th>0</th>\n",
       "      <th>1</th>\n",
       "    </tr>\n",
       "    <tr>\n",
       "      <th>NoShow</th>\n",
       "      <th></th>\n",
       "      <th></th>\n",
       "    </tr>\n",
       "  </thead>\n",
       "  <tbody>\n",
       "    <tr>\n",
       "      <th>0</th>\n",
       "      <td>63292</td>\n",
       "      <td>726890</td>\n",
       "    </tr>\n",
       "    <tr>\n",
       "      <th>1</th>\n",
       "      <td>3443</td>\n",
       "      <td>21151</td>\n",
       "    </tr>\n",
       "  </tbody>\n",
       "</table>\n",
       "</div>"
      ],
      "text/plain": [
       "typecare      0       1\n",
       "NoShow                 \n",
       "0         63292  726890\n",
       "1          3443   21151"
      ]
     },
     "execution_count": 41,
     "metadata": {},
     "output_type": "execute_result"
    }
   ],
   "source": [
    "pd.crosstab(data[(data['dtc'] == data['dts'])]['NoShow'], data[(data['dtc'] == data['dts'])]['typecare'])"
   ]
  },
  {
   "cell_type": "code",
   "execution_count": 42,
   "id": "20cd0b2e",
   "metadata": {
    "scrolled": true
   },
   "outputs": [
    {
     "name": "stdout",
     "output_type": "stream",
     "text": [
      "327776\n"
     ]
    }
   ],
   "source": [
    "# Define the condition for invalid rows\n",
    "logic_st_ns = (data['NoShow'] == 1) & (data['dts'] != data['dtc'])\n",
    "    \n",
    "# Count the number of invalid rows\n",
    "invalid_rows_count = data[logic_st_ns].shape[0]\n",
    "    \n",
    "# Remove invalid rows\n",
    "#data = data[~logic_st_ns]\n",
    "\n",
    "print(invalid_rows_count)"
   ]
  },
  {
   "cell_type": "code",
   "execution_count": 43,
   "id": "9caa89a7",
   "metadata": {},
   "outputs": [
    {
     "data": {
      "text/html": [
       "<div>\n",
       "<style scoped>\n",
       "    .dataframe tbody tr th:only-of-type {\n",
       "        vertical-align: middle;\n",
       "    }\n",
       "\n",
       "    .dataframe tbody tr th {\n",
       "        vertical-align: top;\n",
       "    }\n",
       "\n",
       "    .dataframe thead th {\n",
       "        text-align: right;\n",
       "    }\n",
       "</style>\n",
       "<table border=\"1\" class=\"dataframe\">\n",
       "  <thead>\n",
       "    <tr style=\"text-align: right;\">\n",
       "      <th>NoShow</th>\n",
       "      <th>0</th>\n",
       "      <th>1</th>\n",
       "    </tr>\n",
       "    <tr>\n",
       "      <th>dts</th>\n",
       "      <th></th>\n",
       "      <th></th>\n",
       "    </tr>\n",
       "  </thead>\n",
       "  <tbody>\n",
       "    <tr>\n",
       "      <th>0</th>\n",
       "      <td>338236</td>\n",
       "      <td>8516</td>\n",
       "    </tr>\n",
       "    <tr>\n",
       "      <th>1</th>\n",
       "      <td>64411</td>\n",
       "      <td>1543</td>\n",
       "    </tr>\n",
       "    <tr>\n",
       "      <th>2</th>\n",
       "      <td>21705</td>\n",
       "      <td>644</td>\n",
       "    </tr>\n",
       "    <tr>\n",
       "      <th>3</th>\n",
       "      <td>20518</td>\n",
       "      <td>642</td>\n",
       "    </tr>\n",
       "    <tr>\n",
       "      <th>4</th>\n",
       "      <td>17238</td>\n",
       "      <td>584</td>\n",
       "    </tr>\n",
       "    <tr>\n",
       "      <th>...</th>\n",
       "      <td>...</td>\n",
       "      <td>...</td>\n",
       "    </tr>\n",
       "    <tr>\n",
       "      <th>361</th>\n",
       "      <td>3</td>\n",
       "      <td>0</td>\n",
       "    </tr>\n",
       "    <tr>\n",
       "      <th>362</th>\n",
       "      <td>4</td>\n",
       "      <td>0</td>\n",
       "    </tr>\n",
       "    <tr>\n",
       "      <th>363</th>\n",
       "      <td>9</td>\n",
       "      <td>0</td>\n",
       "    </tr>\n",
       "    <tr>\n",
       "      <th>364</th>\n",
       "      <td>14</td>\n",
       "      <td>1</td>\n",
       "    </tr>\n",
       "    <tr>\n",
       "      <th>365</th>\n",
       "      <td>6</td>\n",
       "      <td>0</td>\n",
       "    </tr>\n",
       "  </tbody>\n",
       "</table>\n",
       "<p>364 rows × 2 columns</p>\n",
       "</div>"
      ],
      "text/plain": [
       "NoShow       0     1\n",
       "dts                 \n",
       "0       338236  8516\n",
       "1        64411  1543\n",
       "2        21705   644\n",
       "3        20518   642\n",
       "4        17238   584\n",
       "..         ...   ...\n",
       "361          3     0\n",
       "362          4     0\n",
       "363          9     0\n",
       "364         14     1\n",
       "365          6     0\n",
       "\n",
       "[364 rows x 2 columns]"
      ]
     },
     "execution_count": 43,
     "metadata": {},
     "output_type": "execute_result"
    }
   ],
   "source": [
    "pd.crosstab(data[(data['dtc'] == data['dts'])]['dts'], data[(data['dtc'] == data['dts'])]['NoShow'])"
   ]
  },
  {
   "cell_type": "code",
   "execution_count": 44,
   "id": "c70c17c1",
   "metadata": {
    "id": "c70c17c1"
   },
   "outputs": [],
   "source": [
    "#remove_outliers_from_dataframe(data)"
   ]
  },
  {
   "cell_type": "markdown",
   "id": "6a388589",
   "metadata": {
    "id": "6a388589"
   },
   "source": [
    "#### Outlier Detection in Categorical Variables\n",
    "For categorical variables, We assume that any anomalies or irregular entries were controlled during data entry, often through enforced choices like dropdown menus or checklists.\n"
   ]
  },
  {
   "cell_type": "markdown",
   "id": "c6b403d5",
   "metadata": {
    "id": "c6b403d5"
   },
   "source": [
    "<a name=\"3.1.3\"></a>\n",
    "3.1.3 - Duplicated Values"
   ]
  },
  {
   "cell_type": "code",
   "execution_count": 45,
   "id": "f1267684",
   "metadata": {
    "id": "f1267684"
   },
   "outputs": [
    {
     "name": "stdout",
     "output_type": "stream",
     "text": [
      "Number of deleted duplicates: 37\n"
     ]
    }
   ],
   "source": [
    "initial_count = len(data)\n",
    "data.drop_duplicates(inplace=True)\n",
    "duplicates_removed = initial_count - len(data)\n",
    "print(f'Number of deleted duplicates: {duplicates_removed}')"
   ]
  },
  {
   "cell_type": "code",
   "execution_count": 46,
   "id": "62622e0d",
   "metadata": {
    "id": "62622e0d"
   },
   "outputs": [
    {
     "name": "stdout",
     "output_type": "stream",
     "text": [
      "(11342613, 19)\n"
     ]
    }
   ],
   "source": [
    "print(data.shape)"
   ]
  },
  {
   "cell_type": "markdown",
   "id": "d6afd49d",
   "metadata": {
    "id": "d6afd49d"
   },
   "source": [
    "<a name=\"3.2\"></a>\n",
    "3.2 - Data Transformation"
   ]
  },
  {
   "cell_type": "code",
   "execution_count": 47,
   "id": "59f60977",
   "metadata": {
    "id": "59f60977"
   },
   "outputs": [
    {
     "data": {
      "text/html": [
       "<div>\n",
       "<style scoped>\n",
       "    .dataframe tbody tr th:only-of-type {\n",
       "        vertical-align: middle;\n",
       "    }\n",
       "\n",
       "    .dataframe tbody tr th {\n",
       "        vertical-align: top;\n",
       "    }\n",
       "\n",
       "    .dataframe thead th {\n",
       "        text-align: right;\n",
       "    }\n",
       "</style>\n",
       "<table border=\"1\" class=\"dataframe\">\n",
       "  <thead>\n",
       "    <tr style=\"text-align: right;\">\n",
       "      <th></th>\n",
       "      <th>patientsid</th>\n",
       "      <th>activitydatetime</th>\n",
       "      <th>sta3n</th>\n",
       "      <th>stopcode</th>\n",
       "      <th>dta</th>\n",
       "      <th>dts</th>\n",
       "      <th>dtc</th>\n",
       "      <th>non_va</th>\n",
       "      <th>zip</th>\n",
       "      <th>state</th>\n",
       "      <th>NoShow</th>\n",
       "      <th>discontinued</th>\n",
       "      <th>typecare</th>\n",
       "      <th>day_of_week</th>\n",
       "      <th>day_of_month</th>\n",
       "      <th>month</th>\n",
       "      <th>hour</th>\n",
       "      <th>week_segment</th>\n",
       "      <th>day_in_week_segment</th>\n",
       "    </tr>\n",
       "  </thead>\n",
       "  <tbody>\n",
       "    <tr>\n",
       "      <th>6</th>\n",
       "      <td>9204541</td>\n",
       "      <td>2020-06-29 12:56:56</td>\n",
       "      <td>573</td>\n",
       "      <td>502</td>\n",
       "      <td>4.0</td>\n",
       "      <td>1</td>\n",
       "      <td>9</td>\n",
       "      <td>1</td>\n",
       "      <td>315.0</td>\n",
       "      <td>GEORGIA</td>\n",
       "      <td>0</td>\n",
       "      <td>0</td>\n",
       "      <td>1</td>\n",
       "      <td>0</td>\n",
       "      <td>29</td>\n",
       "      <td>6</td>\n",
       "      <td>12</td>\n",
       "      <td>5</td>\n",
       "      <td>1</td>\n",
       "    </tr>\n",
       "    <tr>\n",
       "      <th>23166183</th>\n",
       "      <td>1001289482</td>\n",
       "      <td>2022-06-06 09:20:20</td>\n",
       "      <td>629</td>\n",
       "      <td>303</td>\n",
       "      <td>0.0</td>\n",
       "      <td>6</td>\n",
       "      <td>24</td>\n",
       "      <td>0</td>\n",
       "      <td>700.0</td>\n",
       "      <td>LOUISIANA</td>\n",
       "      <td>0</td>\n",
       "      <td>0</td>\n",
       "      <td>1</td>\n",
       "      <td>0</td>\n",
       "      <td>6</td>\n",
       "      <td>6</td>\n",
       "      <td>9</td>\n",
       "      <td>1</td>\n",
       "      <td>6</td>\n",
       "    </tr>\n",
       "    <tr>\n",
       "      <th>23166184</th>\n",
       "      <td>1001289482</td>\n",
       "      <td>2019-04-22 16:12:55</td>\n",
       "      <td>629</td>\n",
       "      <td>305</td>\n",
       "      <td>1.0</td>\n",
       "      <td>3</td>\n",
       "      <td>45</td>\n",
       "      <td>0</td>\n",
       "      <td>700.0</td>\n",
       "      <td>LOUISIANA</td>\n",
       "      <td>0</td>\n",
       "      <td>0</td>\n",
       "      <td>1</td>\n",
       "      <td>0</td>\n",
       "      <td>22</td>\n",
       "      <td>4</td>\n",
       "      <td>16</td>\n",
       "      <td>4</td>\n",
       "      <td>1</td>\n",
       "    </tr>\n",
       "    <tr>\n",
       "      <th>23166187</th>\n",
       "      <td>1000663151</td>\n",
       "      <td>2023-07-31 11:05:01</td>\n",
       "      <td>564</td>\n",
       "      <td>303</td>\n",
       "      <td>30.0</td>\n",
       "      <td>0</td>\n",
       "      <td>42</td>\n",
       "      <td>0</td>\n",
       "      <td>655.0</td>\n",
       "      <td>MISSOURI</td>\n",
       "      <td>1</td>\n",
       "      <td>0</td>\n",
       "      <td>1</td>\n",
       "      <td>0</td>\n",
       "      <td>31</td>\n",
       "      <td>7</td>\n",
       "      <td>11</td>\n",
       "      <td>5</td>\n",
       "      <td>3</td>\n",
       "    </tr>\n",
       "    <tr>\n",
       "      <th>23166207</th>\n",
       "      <td>1001912997</td>\n",
       "      <td>2020-09-28 12:11:59</td>\n",
       "      <td>740</td>\n",
       "      <td>303</td>\n",
       "      <td>1.0</td>\n",
       "      <td>26</td>\n",
       "      <td>39</td>\n",
       "      <td>1</td>\n",
       "      <td>784.0</td>\n",
       "      <td>TEXAS</td>\n",
       "      <td>0</td>\n",
       "      <td>0</td>\n",
       "      <td>1</td>\n",
       "      <td>0</td>\n",
       "      <td>28</td>\n",
       "      <td>9</td>\n",
       "      <td>12</td>\n",
       "      <td>4</td>\n",
       "      <td>7</td>\n",
       "    </tr>\n",
       "  </tbody>\n",
       "</table>\n",
       "</div>"
      ],
      "text/plain": [
       "          patientsid    activitydatetime sta3n stopcode   dta  dts  dtc  \\\n",
       "6            9204541 2020-06-29 12:56:56   573      502   4.0    1    9   \n",
       "23166183  1001289482 2022-06-06 09:20:20   629      303   0.0    6   24   \n",
       "23166184  1001289482 2019-04-22 16:12:55   629      305   1.0    3   45   \n",
       "23166187  1000663151 2023-07-31 11:05:01   564      303  30.0    0   42   \n",
       "23166207  1001912997 2020-09-28 12:11:59   740      303   1.0   26   39   \n",
       "\n",
       "         non_va    zip      state  NoShow  discontinued  typecare  \\\n",
       "6             1  315.0    GEORGIA       0             0         1   \n",
       "23166183      0  700.0  LOUISIANA       0             0         1   \n",
       "23166184      0  700.0  LOUISIANA       0             0         1   \n",
       "23166187      0  655.0   MISSOURI       1             0         1   \n",
       "23166207      1  784.0      TEXAS       0             0         1   \n",
       "\n",
       "          day_of_week  day_of_month  month  hour  week_segment  \\\n",
       "6                   0            29      6    12             5   \n",
       "23166183            0             6      6     9             1   \n",
       "23166184            0            22      4    16             4   \n",
       "23166187            0            31      7    11             5   \n",
       "23166207            0            28      9    12             4   \n",
       "\n",
       "          day_in_week_segment  \n",
       "6                           1  \n",
       "23166183                    6  \n",
       "23166184                    1  \n",
       "23166187                    3  \n",
       "23166207                    7  "
      ]
     },
     "execution_count": 47,
     "metadata": {},
     "output_type": "execute_result"
    }
   ],
   "source": [
    "data.head()"
   ]
  },
  {
   "cell_type": "code",
   "execution_count": 48,
   "id": "44907bb0",
   "metadata": {
    "id": "44907bb0"
   },
   "outputs": [
    {
     "data": {
      "image/png": "[encoded data removed]",
      "text/plain": [
       "<Figure size 432x288 with 1 Axes>"
      ]
     },
     "metadata": {},
     "output_type": "display_data"
    }
   ],
   "source": [
    "plot_no_show_rate_by_typecare(data)"
   ]
  },
  {
   "cell_type": "markdown",
   "id": "fdc3b918",
   "metadata": {
    "id": "fdc3b918"
   },
   "source": [
    "<a name=\"3.2.2\"></a>\n",
    "3.2.1 - Feature engeneering"
   ]
  },
  {
   "cell_type": "markdown",
   "id": "03016053",
   "metadata": {
    "id": "03016053"
   },
   "source": [
    "##### Summarizing Scheduling and Completion Durations\n",
    "\n",
    "In this step, we summarize the information on scheduling duration (`dts`) and completion duration (`dtc`) into a single column `ts`, where `ts` = `dtc` - `dts`.\n",
    "\n",
    "We have demonstrated the potential relationship between these two variables, confirmed by a collinearity test showing they are positively correlated. Moreover, `ts` contains positive values, as we have observed outliers where `dts` is greater than `dtc`."
   ]
  },
  {
   "cell_type": "code",
   "execution_count": 49,
   "id": "cb9cd02f",
   "metadata": {},
   "outputs": [
    {
     "name": "stdout",
     "output_type": "stream",
     "text": [
      "Data after adding 'service_time' dropping and 'dtc':\n"
     ]
    },
    {
     "data": {
      "text/html": [
       "<div>\n",
       "<style scoped>\n",
       "    .dataframe tbody tr th:only-of-type {\n",
       "        vertical-align: middle;\n",
       "    }\n",
       "\n",
       "    .dataframe tbody tr th {\n",
       "        vertical-align: top;\n",
       "    }\n",
       "\n",
       "    .dataframe thead th {\n",
       "        text-align: right;\n",
       "    }\n",
       "</style>\n",
       "<table border=\"1\" class=\"dataframe\">\n",
       "  <thead>\n",
       "    <tr style=\"text-align: right;\">\n",
       "      <th></th>\n",
       "      <th>patientsid</th>\n",
       "      <th>activitydatetime</th>\n",
       "      <th>sta3n</th>\n",
       "      <th>stopcode</th>\n",
       "      <th>dta</th>\n",
       "      <th>dts</th>\n",
       "      <th>non_va</th>\n",
       "      <th>zip</th>\n",
       "      <th>state</th>\n",
       "      <th>NoShow</th>\n",
       "      <th>discontinued</th>\n",
       "      <th>typecare</th>\n",
       "      <th>day_of_week</th>\n",
       "      <th>day_of_month</th>\n",
       "      <th>month</th>\n",
       "      <th>hour</th>\n",
       "      <th>week_segment</th>\n",
       "      <th>day_in_week_segment</th>\n",
       "      <th>service_time</th>\n",
       "    </tr>\n",
       "  </thead>\n",
       "  <tbody>\n",
       "    <tr>\n",
       "      <th>6</th>\n",
       "      <td>9204541</td>\n",
       "      <td>2020-06-29 12:56:56</td>\n",
       "      <td>573</td>\n",
       "      <td>502</td>\n",
       "      <td>4.0</td>\n",
       "      <td>1</td>\n",
       "      <td>1</td>\n",
       "      <td>315.0</td>\n",
       "      <td>GEORGIA</td>\n",
       "      <td>0</td>\n",
       "      <td>0</td>\n",
       "      <td>1</td>\n",
       "      <td>0</td>\n",
       "      <td>29</td>\n",
       "      <td>6</td>\n",
       "      <td>12</td>\n",
       "      <td>5</td>\n",
       "      <td>1</td>\n",
       "      <td>8</td>\n",
       "    </tr>\n",
       "    <tr>\n",
       "      <th>23166183</th>\n",
       "      <td>1001289482</td>\n",
       "      <td>2022-06-06 09:20:20</td>\n",
       "      <td>629</td>\n",
       "      <td>303</td>\n",
       "      <td>0.0</td>\n",
       "      <td>6</td>\n",
       "      <td>0</td>\n",
       "      <td>700.0</td>\n",
       "      <td>LOUISIANA</td>\n",
       "      <td>0</td>\n",
       "      <td>0</td>\n",
       "      <td>1</td>\n",
       "      <td>0</td>\n",
       "      <td>6</td>\n",
       "      <td>6</td>\n",
       "      <td>9</td>\n",
       "      <td>1</td>\n",
       "      <td>6</td>\n",
       "      <td>18</td>\n",
       "    </tr>\n",
       "    <tr>\n",
       "      <th>23166184</th>\n",
       "      <td>1001289482</td>\n",
       "      <td>2019-04-22 16:12:55</td>\n",
       "      <td>629</td>\n",
       "      <td>305</td>\n",
       "      <td>1.0</td>\n",
       "      <td>3</td>\n",
       "      <td>0</td>\n",
       "      <td>700.0</td>\n",
       "      <td>LOUISIANA</td>\n",
       "      <td>0</td>\n",
       "      <td>0</td>\n",
       "      <td>1</td>\n",
       "      <td>0</td>\n",
       "      <td>22</td>\n",
       "      <td>4</td>\n",
       "      <td>16</td>\n",
       "      <td>4</td>\n",
       "      <td>1</td>\n",
       "      <td>42</td>\n",
       "    </tr>\n",
       "    <tr>\n",
       "      <th>23166187</th>\n",
       "      <td>1000663151</td>\n",
       "      <td>2023-07-31 11:05:01</td>\n",
       "      <td>564</td>\n",
       "      <td>303</td>\n",
       "      <td>30.0</td>\n",
       "      <td>0</td>\n",
       "      <td>0</td>\n",
       "      <td>655.0</td>\n",
       "      <td>MISSOURI</td>\n",
       "      <td>1</td>\n",
       "      <td>0</td>\n",
       "      <td>1</td>\n",
       "      <td>0</td>\n",
       "      <td>31</td>\n",
       "      <td>7</td>\n",
       "      <td>11</td>\n",
       "      <td>5</td>\n",
       "      <td>3</td>\n",
       "      <td>42</td>\n",
       "    </tr>\n",
       "    <tr>\n",
       "      <th>23166207</th>\n",
       "      <td>1001912997</td>\n",
       "      <td>2020-09-28 12:11:59</td>\n",
       "      <td>740</td>\n",
       "      <td>303</td>\n",
       "      <td>1.0</td>\n",
       "      <td>26</td>\n",
       "      <td>1</td>\n",
       "      <td>784.0</td>\n",
       "      <td>TEXAS</td>\n",
       "      <td>0</td>\n",
       "      <td>0</td>\n",
       "      <td>1</td>\n",
       "      <td>0</td>\n",
       "      <td>28</td>\n",
       "      <td>9</td>\n",
       "      <td>12</td>\n",
       "      <td>4</td>\n",
       "      <td>7</td>\n",
       "      <td>13</td>\n",
       "    </tr>\n",
       "  </tbody>\n",
       "</table>\n",
       "</div>"
      ],
      "text/plain": [
       "          patientsid    activitydatetime sta3n stopcode   dta  dts non_va  \\\n",
       "6            9204541 2020-06-29 12:56:56   573      502   4.0    1      1   \n",
       "23166183  1001289482 2022-06-06 09:20:20   629      303   0.0    6      0   \n",
       "23166184  1001289482 2019-04-22 16:12:55   629      305   1.0    3      0   \n",
       "23166187  1000663151 2023-07-31 11:05:01   564      303  30.0    0      0   \n",
       "23166207  1001912997 2020-09-28 12:11:59   740      303   1.0   26      1   \n",
       "\n",
       "            zip      state  NoShow  discontinued  typecare  day_of_week  \\\n",
       "6         315.0    GEORGIA       0             0         1            0   \n",
       "23166183  700.0  LOUISIANA       0             0         1            0   \n",
       "23166184  700.0  LOUISIANA       0             0         1            0   \n",
       "23166187  655.0   MISSOURI       1             0         1            0   \n",
       "23166207  784.0      TEXAS       0             0         1            0   \n",
       "\n",
       "          day_of_month  month  hour  week_segment  day_in_week_segment  \\\n",
       "6                   29      6    12             5                    1   \n",
       "23166183             6      6     9             1                    6   \n",
       "23166184            22      4    16             4                    1   \n",
       "23166187            31      7    11             5                    3   \n",
       "23166207            28      9    12             4                    7   \n",
       "\n",
       "          service_time  \n",
       "6                    8  \n",
       "23166183            18  \n",
       "23166184            42  \n",
       "23166187            42  \n",
       "23166207            13  "
      ]
     },
     "execution_count": 49,
     "metadata": {},
     "output_type": "execute_result"
    }
   ],
   "source": [
    "# Add the new column 'service_time' by subtracting 'dts' from 'dtc'\n",
    "data['service_time'] = data['dtc'] - data['dts']\n",
    "# drop the dtc column \n",
    "data.drop(['dtc'], axis=1, inplace=True)\n",
    "\n",
    "print(\"Data after adding 'service_time' dropping and 'dtc':\")\n",
    "\n",
    "data.head()"
   ]
  },
  {
   "cell_type": "markdown",
   "id": "7849b863-110f-4fa6-8546-c485631ae10e",
   "metadata": {},
   "source": [
    "servvice time by hour and weekday in VHA & CC"
   ]
  },
  {
   "cell_type": "code",
   "execution_count": 50,
   "id": "a00eceed",
   "metadata": {},
   "outputs": [
    {
     "data": {
      "image/png": "[encoded data removed]",
      "text/plain": [
       "<Figure size 576x288 with 2 Axes>"
      ]
     },
     "metadata": {},
     "output_type": "display_data"
    }
   ],
   "source": [
    "plot_service_time_by_hour_and_weekday_vha(data)"
   ]
  },
  {
   "cell_type": "markdown",
   "id": "4555a682-fc64-4106-b9b2-58d6c5d0da94",
   "metadata": {},
   "source": [
    "servvice time by hour and weekday in primary & speciality care"
   ]
  },
  {
   "cell_type": "code",
   "execution_count": 51,
   "id": "3de37d9e-216d-4a90-a448-203401645252",
   "metadata": {},
   "outputs": [
    {
     "data": {
      "image/png": "[encoded data removed]",
      "text/plain": [
       "<Figure size 576x288 with 2 Axes>"
      ]
     },
     "metadata": {},
     "output_type": "display_data"
    }
   ],
   "source": [
    "plot_service_time_by_hour_and_weekday_type_care(data)"
   ]
  },
  {
   "cell_type": "code",
   "execution_count": 52,
   "id": "dda92eb8",
   "metadata": {
    "id": "dda92eb8"
   },
   "outputs": [],
   "source": [
    "#remove_outliers_from_column(data, [\"service_time\", \"dta\", \"dtc\"])"
   ]
  },
  {
   "cell_type": "code",
   "execution_count": 53,
   "id": "3b09d74c",
   "metadata": {},
   "outputs": [
    {
     "data": {
      "text/plain": [
       "18483"
      ]
     },
     "execution_count": 53,
     "metadata": {},
     "output_type": "execute_result"
    }
   ],
   "source": [
    "len(data[(data['NoShow'] == 1) & (data['service_time'] == 1)])"
   ]
  },
  {
   "cell_type": "code",
   "execution_count": 54,
   "id": "f5f357d4",
   "metadata": {},
   "outputs": [
    {
     "data": {
      "text/plain": [
       "(11342613, 18)"
      ]
     },
     "execution_count": 54,
     "metadata": {},
     "output_type": "execute_result"
    }
   ],
   "source": [
    "data.shape"
   ]
  },
  {
   "cell_type": "code",
   "execution_count": 55,
   "id": "0697c1a8",
   "metadata": {
    "id": "0697c1a8",
    "outputId": "e874717a-d8c0-41ab-dad7-8d2a50e568ce"
   },
   "outputs": [
    {
     "data": {
      "text/html": [
       "<div>\n",
       "<style scoped>\n",
       "    .dataframe tbody tr th:only-of-type {\n",
       "        vertical-align: middle;\n",
       "    }\n",
       "\n",
       "    .dataframe tbody tr th {\n",
       "        vertical-align: top;\n",
       "    }\n",
       "\n",
       "    .dataframe thead th {\n",
       "        text-align: right;\n",
       "    }\n",
       "</style>\n",
       "<table border=\"1\" class=\"dataframe\">\n",
       "  <thead>\n",
       "    <tr style=\"text-align: right;\">\n",
       "      <th></th>\n",
       "      <th>patientsid</th>\n",
       "      <th>activitydatetime</th>\n",
       "      <th>sta3n</th>\n",
       "      <th>stopcode</th>\n",
       "      <th>dta</th>\n",
       "      <th>dts</th>\n",
       "      <th>non_va</th>\n",
       "      <th>zip</th>\n",
       "      <th>state</th>\n",
       "      <th>NoShow</th>\n",
       "      <th>discontinued</th>\n",
       "      <th>typecare</th>\n",
       "      <th>day_of_week</th>\n",
       "      <th>day_of_month</th>\n",
       "      <th>month</th>\n",
       "      <th>week_segment</th>\n",
       "      <th>day_in_week_segment</th>\n",
       "      <th>service_time</th>\n",
       "    </tr>\n",
       "  </thead>\n",
       "  <tbody>\n",
       "    <tr>\n",
       "      <th>6</th>\n",
       "      <td>9204541</td>\n",
       "      <td>2020-06-29 12:56:56</td>\n",
       "      <td>573</td>\n",
       "      <td>502</td>\n",
       "      <td>4.0</td>\n",
       "      <td>1</td>\n",
       "      <td>1</td>\n",
       "      <td>315.0</td>\n",
       "      <td>GEORGIA</td>\n",
       "      <td>0</td>\n",
       "      <td>0</td>\n",
       "      <td>1</td>\n",
       "      <td>0</td>\n",
       "      <td>29</td>\n",
       "      <td>6</td>\n",
       "      <td>5</td>\n",
       "      <td>1</td>\n",
       "      <td>8</td>\n",
       "    </tr>\n",
       "    <tr>\n",
       "      <th>23166183</th>\n",
       "      <td>1001289482</td>\n",
       "      <td>2022-06-06 09:20:20</td>\n",
       "      <td>629</td>\n",
       "      <td>303</td>\n",
       "      <td>0.0</td>\n",
       "      <td>6</td>\n",
       "      <td>0</td>\n",
       "      <td>700.0</td>\n",
       "      <td>LOUISIANA</td>\n",
       "      <td>0</td>\n",
       "      <td>0</td>\n",
       "      <td>1</td>\n",
       "      <td>0</td>\n",
       "      <td>6</td>\n",
       "      <td>6</td>\n",
       "      <td>1</td>\n",
       "      <td>6</td>\n",
       "      <td>18</td>\n",
       "    </tr>\n",
       "    <tr>\n",
       "      <th>23166184</th>\n",
       "      <td>1001289482</td>\n",
       "      <td>2019-04-22 16:12:55</td>\n",
       "      <td>629</td>\n",
       "      <td>305</td>\n",
       "      <td>1.0</td>\n",
       "      <td>3</td>\n",
       "      <td>0</td>\n",
       "      <td>700.0</td>\n",
       "      <td>LOUISIANA</td>\n",
       "      <td>0</td>\n",
       "      <td>0</td>\n",
       "      <td>1</td>\n",
       "      <td>0</td>\n",
       "      <td>22</td>\n",
       "      <td>4</td>\n",
       "      <td>4</td>\n",
       "      <td>1</td>\n",
       "      <td>42</td>\n",
       "    </tr>\n",
       "    <tr>\n",
       "      <th>23166187</th>\n",
       "      <td>1000663151</td>\n",
       "      <td>2023-07-31 11:05:01</td>\n",
       "      <td>564</td>\n",
       "      <td>303</td>\n",
       "      <td>30.0</td>\n",
       "      <td>0</td>\n",
       "      <td>0</td>\n",
       "      <td>655.0</td>\n",
       "      <td>MISSOURI</td>\n",
       "      <td>1</td>\n",
       "      <td>0</td>\n",
       "      <td>1</td>\n",
       "      <td>0</td>\n",
       "      <td>31</td>\n",
       "      <td>7</td>\n",
       "      <td>5</td>\n",
       "      <td>3</td>\n",
       "      <td>42</td>\n",
       "    </tr>\n",
       "    <tr>\n",
       "      <th>23166207</th>\n",
       "      <td>1001912997</td>\n",
       "      <td>2020-09-28 12:11:59</td>\n",
       "      <td>740</td>\n",
       "      <td>303</td>\n",
       "      <td>1.0</td>\n",
       "      <td>26</td>\n",
       "      <td>1</td>\n",
       "      <td>784.0</td>\n",
       "      <td>TEXAS</td>\n",
       "      <td>0</td>\n",
       "      <td>0</td>\n",
       "      <td>1</td>\n",
       "      <td>0</td>\n",
       "      <td>28</td>\n",
       "      <td>9</td>\n",
       "      <td>4</td>\n",
       "      <td>7</td>\n",
       "      <td>13</td>\n",
       "    </tr>\n",
       "  </tbody>\n",
       "</table>\n",
       "</div>"
      ],
      "text/plain": [
       "          patientsid    activitydatetime sta3n stopcode   dta  dts non_va  \\\n",
       "6            9204541 2020-06-29 12:56:56   573      502   4.0    1      1   \n",
       "23166183  1001289482 2022-06-06 09:20:20   629      303   0.0    6      0   \n",
       "23166184  1001289482 2019-04-22 16:12:55   629      305   1.0    3      0   \n",
       "23166187  1000663151 2023-07-31 11:05:01   564      303  30.0    0      0   \n",
       "23166207  1001912997 2020-09-28 12:11:59   740      303   1.0   26      1   \n",
       "\n",
       "            zip      state  NoShow  discontinued  typecare  day_of_week  \\\n",
       "6         315.0    GEORGIA       0             0         1            0   \n",
       "23166183  700.0  LOUISIANA       0             0         1            0   \n",
       "23166184  700.0  LOUISIANA       0             0         1            0   \n",
       "23166187  655.0   MISSOURI       1             0         1            0   \n",
       "23166207  784.0      TEXAS       0             0         1            0   \n",
       "\n",
       "          day_of_month  month  week_segment  day_in_week_segment  service_time  \n",
       "6                   29      6             5                    1             8  \n",
       "23166183             6      6             1                    6            18  \n",
       "23166184            22      4             4                    1            42  \n",
       "23166187            31      7             5                    3            42  \n",
       "23166207            28      9             4                    7            13  "
      ]
     },
     "execution_count": 55,
     "metadata": {},
     "output_type": "execute_result"
    }
   ],
   "source": [
    "data.head()"
   ]
  },
  {
   "cell_type": "code",
   "execution_count": 56,
   "id": "9d8b804e-5c59-421b-a4b9-16e636c8f7a8",
   "metadata": {},
   "outputs": [
    {
     "data": {
      "text/plain": [
       "{'Community Care (CC) Consultations': 3349206, 'VHA Consultations': 7993407}"
      ]
     },
     "execution_count": 56,
     "metadata": {},
     "output_type": "execute_result"
    }
   ],
   "source": [
    "count_consultations(data)"
   ]
  },
  {
   "cell_type": "code",
   "execution_count": 57,
   "id": "b9cd69bb",
   "metadata": {
    "id": "b9cd69bb",
    "outputId": "d1c92167-d0b9-4eb7-c78b-351c43cb2280"
   },
   "outputs": [
    {
     "data": {
      "image/png": "[encoded data removed]",
      "text/plain": [
       "<Figure size 432x288 with 1 Axes>"
      ]
     },
     "metadata": {},
     "output_type": "display_data"
    }
   ],
   "source": [
    "plot_no_show_rate_comparaison(data)"
   ]
  },
  {
   "cell_type": "code",
   "execution_count": 58,
   "id": "2dbb2d1a-a476-48ec-895a-a65cc2de8363",
   "metadata": {
    "id": "2dbb2d1a-a476-48ec-895a-a65cc2de8363",
    "outputId": "feffa6c7-970f-4d29-975f-1d0afddce63b"
   },
   "outputs": [
    {
     "data": {
      "text/html": [
       "<div>\n",
       "<style scoped>\n",
       "    .dataframe tbody tr th:only-of-type {\n",
       "        vertical-align: middle;\n",
       "    }\n",
       "\n",
       "    .dataframe tbody tr th {\n",
       "        vertical-align: top;\n",
       "    }\n",
       "\n",
       "    .dataframe thead th {\n",
       "        text-align: right;\n",
       "    }\n",
       "</style>\n",
       "<table border=\"1\" class=\"dataframe\">\n",
       "  <thead>\n",
       "    <tr style=\"text-align: right;\">\n",
       "      <th></th>\n",
       "      <th>patientsid</th>\n",
       "      <th>activitydatetime</th>\n",
       "      <th>sta3n</th>\n",
       "      <th>stopcode</th>\n",
       "      <th>dta</th>\n",
       "      <th>dts</th>\n",
       "      <th>non_va</th>\n",
       "      <th>zip</th>\n",
       "      <th>state</th>\n",
       "      <th>NoShow</th>\n",
       "      <th>discontinued</th>\n",
       "      <th>typecare</th>\n",
       "      <th>day_of_week</th>\n",
       "      <th>day_of_month</th>\n",
       "      <th>month</th>\n",
       "      <th>week_segment</th>\n",
       "      <th>day_in_week_segment</th>\n",
       "      <th>service_time</th>\n",
       "    </tr>\n",
       "  </thead>\n",
       "  <tbody>\n",
       "    <tr>\n",
       "      <th>6</th>\n",
       "      <td>9204541</td>\n",
       "      <td>2020-06-29 12:56:56</td>\n",
       "      <td>573</td>\n",
       "      <td>502</td>\n",
       "      <td>4.0</td>\n",
       "      <td>1</td>\n",
       "      <td>1</td>\n",
       "      <td>315.0</td>\n",
       "      <td>GEORGIA</td>\n",
       "      <td>0</td>\n",
       "      <td>0</td>\n",
       "      <td>1</td>\n",
       "      <td>0</td>\n",
       "      <td>29</td>\n",
       "      <td>6</td>\n",
       "      <td>5</td>\n",
       "      <td>1</td>\n",
       "      <td>8</td>\n",
       "    </tr>\n",
       "    <tr>\n",
       "      <th>23166183</th>\n",
       "      <td>1001289482</td>\n",
       "      <td>2022-06-06 09:20:20</td>\n",
       "      <td>629</td>\n",
       "      <td>303</td>\n",
       "      <td>0.0</td>\n",
       "      <td>6</td>\n",
       "      <td>0</td>\n",
       "      <td>700.0</td>\n",
       "      <td>LOUISIANA</td>\n",
       "      <td>0</td>\n",
       "      <td>0</td>\n",
       "      <td>1</td>\n",
       "      <td>0</td>\n",
       "      <td>6</td>\n",
       "      <td>6</td>\n",
       "      <td>1</td>\n",
       "      <td>6</td>\n",
       "      <td>18</td>\n",
       "    </tr>\n",
       "    <tr>\n",
       "      <th>23166184</th>\n",
       "      <td>1001289482</td>\n",
       "      <td>2019-04-22 16:12:55</td>\n",
       "      <td>629</td>\n",
       "      <td>305</td>\n",
       "      <td>1.0</td>\n",
       "      <td>3</td>\n",
       "      <td>0</td>\n",
       "      <td>700.0</td>\n",
       "      <td>LOUISIANA</td>\n",
       "      <td>0</td>\n",
       "      <td>0</td>\n",
       "      <td>1</td>\n",
       "      <td>0</td>\n",
       "      <td>22</td>\n",
       "      <td>4</td>\n",
       "      <td>4</td>\n",
       "      <td>1</td>\n",
       "      <td>42</td>\n",
       "    </tr>\n",
       "    <tr>\n",
       "      <th>23166187</th>\n",
       "      <td>1000663151</td>\n",
       "      <td>2023-07-31 11:05:01</td>\n",
       "      <td>564</td>\n",
       "      <td>303</td>\n",
       "      <td>30.0</td>\n",
       "      <td>0</td>\n",
       "      <td>0</td>\n",
       "      <td>655.0</td>\n",
       "      <td>MISSOURI</td>\n",
       "      <td>1</td>\n",
       "      <td>0</td>\n",
       "      <td>1</td>\n",
       "      <td>0</td>\n",
       "      <td>31</td>\n",
       "      <td>7</td>\n",
       "      <td>5</td>\n",
       "      <td>3</td>\n",
       "      <td>42</td>\n",
       "    </tr>\n",
       "    <tr>\n",
       "      <th>23166207</th>\n",
       "      <td>1001912997</td>\n",
       "      <td>2020-09-28 12:11:59</td>\n",
       "      <td>740</td>\n",
       "      <td>303</td>\n",
       "      <td>1.0</td>\n",
       "      <td>26</td>\n",
       "      <td>1</td>\n",
       "      <td>784.0</td>\n",
       "      <td>TEXAS</td>\n",
       "      <td>0</td>\n",
       "      <td>0</td>\n",
       "      <td>1</td>\n",
       "      <td>0</td>\n",
       "      <td>28</td>\n",
       "      <td>9</td>\n",
       "      <td>4</td>\n",
       "      <td>7</td>\n",
       "      <td>13</td>\n",
       "    </tr>\n",
       "  </tbody>\n",
       "</table>\n",
       "</div>"
      ],
      "text/plain": [
       "          patientsid    activitydatetime sta3n stopcode   dta  dts non_va  \\\n",
       "6            9204541 2020-06-29 12:56:56   573      502   4.0    1      1   \n",
       "23166183  1001289482 2022-06-06 09:20:20   629      303   0.0    6      0   \n",
       "23166184  1001289482 2019-04-22 16:12:55   629      305   1.0    3      0   \n",
       "23166187  1000663151 2023-07-31 11:05:01   564      303  30.0    0      0   \n",
       "23166207  1001912997 2020-09-28 12:11:59   740      303   1.0   26      1   \n",
       "\n",
       "            zip      state  NoShow  discontinued  typecare  day_of_week  \\\n",
       "6         315.0    GEORGIA       0             0         1            0   \n",
       "23166183  700.0  LOUISIANA       0             0         1            0   \n",
       "23166184  700.0  LOUISIANA       0             0         1            0   \n",
       "23166187  655.0   MISSOURI       1             0         1            0   \n",
       "23166207  784.0      TEXAS       0             0         1            0   \n",
       "\n",
       "          day_of_month  month  week_segment  day_in_week_segment  service_time  \n",
       "6                   29      6             5                    1             8  \n",
       "23166183             6      6             1                    6            18  \n",
       "23166184            22      4             4                    1            42  \n",
       "23166187            31      7             5                    3            42  \n",
       "23166207            28      9             4                    7            13  "
      ]
     },
     "execution_count": 58,
     "metadata": {},
     "output_type": "execute_result"
    }
   ],
   "source": [
    "data.head()"
   ]
  },
  {
   "cell_type": "code",
   "execution_count": 59,
   "id": "73b0ab77",
   "metadata": {
    "id": "73b0ab77",
    "outputId": "0d29f35f-b5f9-4977-c701-184f0f546b44"
   },
   "outputs": [
    {
     "name": "stdout",
     "output_type": "stream",
     "text": [
      "sta3n\n",
      "756    11169\n",
      "626     9699\n",
      "663     9125\n",
      "520     8217\n",
      "528     7626\n",
      "       ...  \n",
      "526      384\n",
      "692      357\n",
      "666      347\n",
      "620      271\n",
      "358        0\n",
      "Name: count, Length: 130, dtype: int64\n"
     ]
    }
   ],
   "source": [
    "no_shows_count = count_no_shows_by_establishment(data)\n",
    "print(no_shows_count)"
   ]
  },
  {
   "cell_type": "code",
   "execution_count": 60,
   "id": "b3d46139",
   "metadata": {
    "id": "b3d46139",
    "outputId": "d73069a0-c20a-4619-aa0d-4a36f5eaaa71",
    "scrolled": true
   },
   "outputs": [
    {
     "name": "stdout",
     "output_type": "stream",
     "text": [
      "\n",
      "Nombre de lignes avec des stopcodes ayant des no-shows : 11342613\n",
      "Liste des stopcodes without no-shows : [], Categories (365, int64): [102, 103, 104, 105, ..., 903, 904, 907, 999]\n",
      "Lignes avec des stopcodes n'ayant pas de no-shows : 0\n"
     ]
    },
    {
     "data": {
      "text/html": [
       "<div>\n",
       "<style scoped>\n",
       "    .dataframe tbody tr th:only-of-type {\n",
       "        vertical-align: middle;\n",
       "    }\n",
       "\n",
       "    .dataframe tbody tr th {\n",
       "        vertical-align: top;\n",
       "    }\n",
       "\n",
       "    .dataframe thead th {\n",
       "        text-align: right;\n",
       "    }\n",
       "</style>\n",
       "<table border=\"1\" class=\"dataframe\">\n",
       "  <thead>\n",
       "    <tr style=\"text-align: right;\">\n",
       "      <th></th>\n",
       "      <th>patientsid</th>\n",
       "      <th>activitydatetime</th>\n",
       "      <th>sta3n</th>\n",
       "      <th>stopcode</th>\n",
       "      <th>dta</th>\n",
       "      <th>dts</th>\n",
       "      <th>non_va</th>\n",
       "      <th>zip</th>\n",
       "      <th>state</th>\n",
       "      <th>NoShow</th>\n",
       "      <th>discontinued</th>\n",
       "      <th>typecare</th>\n",
       "      <th>day_of_week</th>\n",
       "      <th>day_of_month</th>\n",
       "      <th>month</th>\n",
       "      <th>week_segment</th>\n",
       "      <th>day_in_week_segment</th>\n",
       "      <th>service_time</th>\n",
       "    </tr>\n",
       "  </thead>\n",
       "  <tbody>\n",
       "    <tr>\n",
       "      <th>6</th>\n",
       "      <td>9204541</td>\n",
       "      <td>2020-06-29 12:56:56</td>\n",
       "      <td>573</td>\n",
       "      <td>502</td>\n",
       "      <td>4.0</td>\n",
       "      <td>1</td>\n",
       "      <td>1</td>\n",
       "      <td>315.0</td>\n",
       "      <td>GEORGIA</td>\n",
       "      <td>0</td>\n",
       "      <td>0</td>\n",
       "      <td>1</td>\n",
       "      <td>0</td>\n",
       "      <td>29</td>\n",
       "      <td>6</td>\n",
       "      <td>5</td>\n",
       "      <td>1</td>\n",
       "      <td>8</td>\n",
       "    </tr>\n",
       "    <tr>\n",
       "      <th>23166183</th>\n",
       "      <td>1001289482</td>\n",
       "      <td>2022-06-06 09:20:20</td>\n",
       "      <td>629</td>\n",
       "      <td>303</td>\n",
       "      <td>0.0</td>\n",
       "      <td>6</td>\n",
       "      <td>0</td>\n",
       "      <td>700.0</td>\n",
       "      <td>LOUISIANA</td>\n",
       "      <td>0</td>\n",
       "      <td>0</td>\n",
       "      <td>1</td>\n",
       "      <td>0</td>\n",
       "      <td>6</td>\n",
       "      <td>6</td>\n",
       "      <td>1</td>\n",
       "      <td>6</td>\n",
       "      <td>18</td>\n",
       "    </tr>\n",
       "    <tr>\n",
       "      <th>23166184</th>\n",
       "      <td>1001289482</td>\n",
       "      <td>2019-04-22 16:12:55</td>\n",
       "      <td>629</td>\n",
       "      <td>305</td>\n",
       "      <td>1.0</td>\n",
       "      <td>3</td>\n",
       "      <td>0</td>\n",
       "      <td>700.0</td>\n",
       "      <td>LOUISIANA</td>\n",
       "      <td>0</td>\n",
       "      <td>0</td>\n",
       "      <td>1</td>\n",
       "      <td>0</td>\n",
       "      <td>22</td>\n",
       "      <td>4</td>\n",
       "      <td>4</td>\n",
       "      <td>1</td>\n",
       "      <td>42</td>\n",
       "    </tr>\n",
       "    <tr>\n",
       "      <th>23166187</th>\n",
       "      <td>1000663151</td>\n",
       "      <td>2023-07-31 11:05:01</td>\n",
       "      <td>564</td>\n",
       "      <td>303</td>\n",
       "      <td>30.0</td>\n",
       "      <td>0</td>\n",
       "      <td>0</td>\n",
       "      <td>655.0</td>\n",
       "      <td>MISSOURI</td>\n",
       "      <td>1</td>\n",
       "      <td>0</td>\n",
       "      <td>1</td>\n",
       "      <td>0</td>\n",
       "      <td>31</td>\n",
       "      <td>7</td>\n",
       "      <td>5</td>\n",
       "      <td>3</td>\n",
       "      <td>42</td>\n",
       "    </tr>\n",
       "    <tr>\n",
       "      <th>23166207</th>\n",
       "      <td>1001912997</td>\n",
       "      <td>2020-09-28 12:11:59</td>\n",
       "      <td>740</td>\n",
       "      <td>303</td>\n",
       "      <td>1.0</td>\n",
       "      <td>26</td>\n",
       "      <td>1</td>\n",
       "      <td>784.0</td>\n",
       "      <td>TEXAS</td>\n",
       "      <td>0</td>\n",
       "      <td>0</td>\n",
       "      <td>1</td>\n",
       "      <td>0</td>\n",
       "      <td>28</td>\n",
       "      <td>9</td>\n",
       "      <td>4</td>\n",
       "      <td>7</td>\n",
       "      <td>13</td>\n",
       "    </tr>\n",
       "  </tbody>\n",
       "</table>\n",
       "</div>"
      ],
      "text/plain": [
       "          patientsid    activitydatetime sta3n stopcode   dta  dts non_va  \\\n",
       "6            9204541 2020-06-29 12:56:56   573      502   4.0    1      1   \n",
       "23166183  1001289482 2022-06-06 09:20:20   629      303   0.0    6      0   \n",
       "23166184  1001289482 2019-04-22 16:12:55   629      305   1.0    3      0   \n",
       "23166187  1000663151 2023-07-31 11:05:01   564      303  30.0    0      0   \n",
       "23166207  1001912997 2020-09-28 12:11:59   740      303   1.0   26      1   \n",
       "\n",
       "            zip      state  NoShow  discontinued  typecare  day_of_week  \\\n",
       "6         315.0    GEORGIA       0             0         1            0   \n",
       "23166183  700.0  LOUISIANA       0             0         1            0   \n",
       "23166184  700.0  LOUISIANA       0             0         1            0   \n",
       "23166187  655.0   MISSOURI       1             0         1            0   \n",
       "23166207  784.0      TEXAS       0             0         1            0   \n",
       "\n",
       "          day_of_month  month  week_segment  day_in_week_segment  service_time  \n",
       "6                   29      6             5                    1             8  \n",
       "23166183             6      6             1                    6            18  \n",
       "23166184            22      4             4                    1            42  \n",
       "23166187            31      7             5                    3            42  \n",
       "23166207            28      9             4                    7            13  "
      ]
     },
     "execution_count": 60,
     "metadata": {},
     "output_type": "execute_result"
    }
   ],
   "source": [
    "data, data_without_no_shows, stopcodes_without_no_shows = separate_stopcodes_by_no_show(data)\n",
    "print(\"\\nNombre de lignes avec des stopcodes ayant des no-shows :\", len(data))\n",
    "print(\"Liste des stopcodes without no-shows :\", stopcodes_without_no_shows)\n",
    "print(\"Lignes avec des stopcodes n'ayant pas de no-shows :\", len(data_without_no_shows))\n",
    "\n",
    "data.head()"
   ]
  },
  {
   "cell_type": "code",
   "execution_count": 61,
   "id": "5c3a9187",
   "metadata": {
    "id": "5c3a9187",
    "outputId": "b6a5a9d6-ef28-432a-f43c-0e0b0c689429",
    "scrolled": true
   },
   "outputs": [
    {
     "name": "stdout",
     "output_type": "stream",
     "text": [
      "\n",
      " Number of lines with stopcodes that have no no-shows : 0\n"
     ]
    },
    {
     "data": {
      "text/html": [
       "<div>\n",
       "<style scoped>\n",
       "    .dataframe tbody tr th:only-of-type {\n",
       "        vertical-align: middle;\n",
       "    }\n",
       "\n",
       "    .dataframe tbody tr th {\n",
       "        vertical-align: top;\n",
       "    }\n",
       "\n",
       "    .dataframe thead th {\n",
       "        text-align: right;\n",
       "    }\n",
       "</style>\n",
       "<table border=\"1\" class=\"dataframe\">\n",
       "  <thead>\n",
       "    <tr style=\"text-align: right;\">\n",
       "      <th></th>\n",
       "      <th>patientsid</th>\n",
       "      <th>activitydatetime</th>\n",
       "      <th>sta3n</th>\n",
       "      <th>stopcode</th>\n",
       "      <th>dta</th>\n",
       "      <th>dts</th>\n",
       "      <th>non_va</th>\n",
       "      <th>zip</th>\n",
       "      <th>state</th>\n",
       "      <th>NoShow</th>\n",
       "      <th>discontinued</th>\n",
       "      <th>typecare</th>\n",
       "      <th>day_of_week</th>\n",
       "      <th>day_of_month</th>\n",
       "      <th>month</th>\n",
       "      <th>week_segment</th>\n",
       "      <th>day_in_week_segment</th>\n",
       "      <th>service_time</th>\n",
       "    </tr>\n",
       "  </thead>\n",
       "  <tbody>\n",
       "  </tbody>\n",
       "</table>\n",
       "</div>"
      ],
      "text/plain": [
       "Empty DataFrame\n",
       "Columns: [patientsid, activitydatetime, sta3n, stopcode, dta, dts, non_va, zip, state, NoShow, discontinued, typecare, day_of_week, day_of_month, month, week_segment, day_in_week_segment, service_time]\n",
       "Index: []"
      ]
     },
     "execution_count": 61,
     "metadata": {},
     "output_type": "execute_result"
    }
   ],
   "source": [
    "print(\"\\n Number of lines with stopcodes that have no no-shows :\", len(data_without_no_shows))\n",
    "data_without_no_shows.head(20)"
   ]
  },
  {
   "cell_type": "code",
   "execution_count": 62,
   "id": "4c82cadc",
   "metadata": {
    "id": "4c82cadc",
    "outputId": "a9ae1065-a9f8-4847-8d97-6b364c47fe9b"
   },
   "outputs": [
    {
     "name": "stdout",
     "output_type": "stream",
     "text": [
      "The stopCode without No-show\n"
     ]
    },
    {
     "data": {
      "text/plain": [
       "[], Categories (365, int64): [102, 103, 104, 105, ..., 903, 904, 907, 999]"
      ]
     },
     "execution_count": 62,
     "metadata": {},
     "output_type": "execute_result"
    }
   ],
   "source": [
    "print(\"The stopCode without No-show\")\n",
    "data_without_no_shows['stopcode'].unique()"
   ]
  },
  {
   "cell_type": "code",
   "execution_count": 63,
   "id": "24183c89",
   "metadata": {},
   "outputs": [
    {
     "data": {
      "text/plain": [
       "(11342613, 18)"
      ]
     },
     "execution_count": 63,
     "metadata": {},
     "output_type": "execute_result"
    }
   ],
   "source": [
    "data.shape"
   ]
  },
  {
   "cell_type": "code",
   "execution_count": 64,
   "id": "84ecd411",
   "metadata": {},
   "outputs": [],
   "source": [
    "# Convert activitydatetime to datetime type if not already done\n",
    "data['activitydatetime'] = pd.to_datetime(data['activitydatetime'])\n",
    "# Sort data by patientsid, stopcode and activitydatetime to facilitate calculations\n",
    "data = data.sort_values(by=['patientsid', 'activitydatetime'])"
   ]
  },
  {
   "cell_type": "code",
   "execution_count": 65,
   "id": "d0c4ba69",
   "metadata": {},
   "outputs": [
    {
     "data": {
      "text/html": [
       "<div>\n",
       "<style scoped>\n",
       "    .dataframe tbody tr th:only-of-type {\n",
       "        vertical-align: middle;\n",
       "    }\n",
       "\n",
       "    .dataframe tbody tr th {\n",
       "        vertical-align: top;\n",
       "    }\n",
       "\n",
       "    .dataframe thead th {\n",
       "        text-align: right;\n",
       "    }\n",
       "</style>\n",
       "<table border=\"1\" class=\"dataframe\">\n",
       "  <thead>\n",
       "    <tr style=\"text-align: right;\">\n",
       "      <th></th>\n",
       "      <th>patientsid</th>\n",
       "      <th>activitydatetime</th>\n",
       "      <th>sta3n</th>\n",
       "      <th>stopcode</th>\n",
       "      <th>dta</th>\n",
       "      <th>dts</th>\n",
       "      <th>non_va</th>\n",
       "      <th>zip</th>\n",
       "      <th>state</th>\n",
       "      <th>NoShow</th>\n",
       "      <th>discontinued</th>\n",
       "      <th>typecare</th>\n",
       "      <th>day_of_week</th>\n",
       "      <th>day_of_month</th>\n",
       "      <th>month</th>\n",
       "      <th>week_segment</th>\n",
       "      <th>day_in_week_segment</th>\n",
       "      <th>service_time</th>\n",
       "      <th>prior_noShow_rate</th>\n",
       "    </tr>\n",
       "  </thead>\n",
       "  <tbody>\n",
       "    <tr>\n",
       "      <th>24781417</th>\n",
       "      <td>1957</td>\n",
       "      <td>2017-06-20 09:30:04</td>\n",
       "      <td>358</td>\n",
       "      <td>203</td>\n",
       "      <td>1.0</td>\n",
       "      <td>75</td>\n",
       "      <td>0</td>\n",
       "      <td>234.0</td>\n",
       "      <td>VIRGINIA</td>\n",
       "      <td>0</td>\n",
       "      <td>0</td>\n",
       "      <td>1</td>\n",
       "      <td>1</td>\n",
       "      <td>20</td>\n",
       "      <td>6</td>\n",
       "      <td>3</td>\n",
       "      <td>6</td>\n",
       "      <td>19</td>\n",
       "      <td>0.0</td>\n",
       "    </tr>\n",
       "    <tr>\n",
       "      <th>24781424</th>\n",
       "      <td>2577</td>\n",
       "      <td>2021-11-03 08:39:33</td>\n",
       "      <td>358</td>\n",
       "      <td>303</td>\n",
       "      <td>0.0</td>\n",
       "      <td>0</td>\n",
       "      <td>0</td>\n",
       "      <td>969.0</td>\n",
       "      <td>GUAM</td>\n",
       "      <td>0</td>\n",
       "      <td>0</td>\n",
       "      <td>1</td>\n",
       "      <td>2</td>\n",
       "      <td>3</td>\n",
       "      <td>11</td>\n",
       "      <td>1</td>\n",
       "      <td>3</td>\n",
       "      <td>132</td>\n",
       "      <td>0.0</td>\n",
       "    </tr>\n",
       "    <tr>\n",
       "      <th>24781427</th>\n",
       "      <td>3280</td>\n",
       "      <td>2019-12-06 09:41:52</td>\n",
       "      <td>358</td>\n",
       "      <td>303</td>\n",
       "      <td>0.0</td>\n",
       "      <td>4</td>\n",
       "      <td>0</td>\n",
       "      <td>921.0</td>\n",
       "      <td>CALIFORNIA</td>\n",
       "      <td>0</td>\n",
       "      <td>0</td>\n",
       "      <td>1</td>\n",
       "      <td>4</td>\n",
       "      <td>6</td>\n",
       "      <td>12</td>\n",
       "      <td>1</td>\n",
       "      <td>6</td>\n",
       "      <td>273</td>\n",
       "      <td>0.0</td>\n",
       "    </tr>\n",
       "    <tr>\n",
       "      <th>24781430</th>\n",
       "      <td>3590</td>\n",
       "      <td>2021-05-17 10:01:06</td>\n",
       "      <td>358</td>\n",
       "      <td>303</td>\n",
       "      <td>1.0</td>\n",
       "      <td>0</td>\n",
       "      <td>0</td>\n",
       "      <td>965.0</td>\n",
       "      <td>ARMED FORCES PACIFIC</td>\n",
       "      <td>0</td>\n",
       "      <td>0</td>\n",
       "      <td>1</td>\n",
       "      <td>0</td>\n",
       "      <td>17</td>\n",
       "      <td>5</td>\n",
       "      <td>3</td>\n",
       "      <td>3</td>\n",
       "      <td>6</td>\n",
       "      <td>0.0</td>\n",
       "    </tr>\n",
       "    <tr>\n",
       "      <th>24781434</th>\n",
       "      <td>3786</td>\n",
       "      <td>2019-07-12 10:28:53</td>\n",
       "      <td>358</td>\n",
       "      <td>203</td>\n",
       "      <td>0.0</td>\n",
       "      <td>0</td>\n",
       "      <td>0</td>\n",
       "      <td>891.0</td>\n",
       "      <td>NEVADA</td>\n",
       "      <td>0</td>\n",
       "      <td>0</td>\n",
       "      <td>1</td>\n",
       "      <td>4</td>\n",
       "      <td>12</td>\n",
       "      <td>7</td>\n",
       "      <td>2</td>\n",
       "      <td>5</td>\n",
       "      <td>0</td>\n",
       "      <td>0.0</td>\n",
       "    </tr>\n",
       "  </tbody>\n",
       "</table>\n",
       "</div>"
      ],
      "text/plain": [
       "          patientsid    activitydatetime sta3n stopcode  dta  dts non_va  \\\n",
       "24781417        1957 2017-06-20 09:30:04   358      203  1.0   75      0   \n",
       "24781424        2577 2021-11-03 08:39:33   358      303  0.0    0      0   \n",
       "24781427        3280 2019-12-06 09:41:52   358      303  0.0    4      0   \n",
       "24781430        3590 2021-05-17 10:01:06   358      303  1.0    0      0   \n",
       "24781434        3786 2019-07-12 10:28:53   358      203  0.0    0      0   \n",
       "\n",
       "            zip                 state  NoShow  discontinued  typecare  \\\n",
       "24781417  234.0              VIRGINIA       0             0         1   \n",
       "24781424  969.0                  GUAM       0             0         1   \n",
       "24781427  921.0            CALIFORNIA       0             0         1   \n",
       "24781430  965.0  ARMED FORCES PACIFIC       0             0         1   \n",
       "24781434  891.0                NEVADA       0             0         1   \n",
       "\n",
       "          day_of_week  day_of_month  month  week_segment  day_in_week_segment  \\\n",
       "24781417            1            20      6             3                    6   \n",
       "24781424            2             3     11             1                    3   \n",
       "24781427            4             6     12             1                    6   \n",
       "24781430            0            17      5             3                    3   \n",
       "24781434            4            12      7             2                    5   \n",
       "\n",
       "          service_time  prior_noShow_rate  \n",
       "24781417            19                0.0  \n",
       "24781424           132                0.0  \n",
       "24781427           273                0.0  \n",
       "24781430             6                0.0  \n",
       "24781434             0                0.0  "
      ]
     },
     "execution_count": 65,
     "metadata": {},
     "output_type": "execute_result"
    }
   ],
   "source": [
    "# Calculate cumulative absences and consultations for each patient\n",
    "data['cumulative_NoShow'] = data.groupby('patientsid')['NoShow'].expanding().sum().reset_index(level=0, drop=True)\n",
    "data['cumulative_visits'] = data.groupby('patientsid')['NoShow'].expanding().count().reset_index(level=0, drop=True)\n",
    "\n",
    "# Calculate the previous absence rate\n",
    "data['prior_noShow_rate'] = data['cumulative_NoShow'] / data['cumulative_visits']\n",
    "\n",
    "# Move the rate so that it represents the rate before the current consultation\n",
    "data['prior_noShow_rate'] = data.groupby('patientsid')['prior_noShow_rate'].shift(1).fillna(0)\n",
    "\n",
    "# Delete temporary columns\n",
    "data = data.drop(columns=['cumulative_NoShow', 'cumulative_visits'])\n",
    "# Display the first lines for verification\n",
    "data.head()"
   ]
  },
  {
   "cell_type": "code",
   "execution_count": 66,
   "id": "e94ab5d5",
   "metadata": {
    "scrolled": true
   },
   "outputs": [
    {
     "data": {
      "text/html": [
       "<div>\n",
       "<style scoped>\n",
       "    .dataframe tbody tr th:only-of-type {\n",
       "        vertical-align: middle;\n",
       "    }\n",
       "\n",
       "    .dataframe tbody tr th {\n",
       "        vertical-align: top;\n",
       "    }\n",
       "\n",
       "    .dataframe thead th {\n",
       "        text-align: right;\n",
       "    }\n",
       "</style>\n",
       "<table border=\"1\" class=\"dataframe\">\n",
       "  <thead>\n",
       "    <tr style=\"text-align: right;\">\n",
       "      <th></th>\n",
       "      <th>patientsid</th>\n",
       "      <th>activitydatetime</th>\n",
       "      <th>sta3n</th>\n",
       "      <th>stopcode</th>\n",
       "      <th>dta</th>\n",
       "      <th>dts</th>\n",
       "      <th>non_va</th>\n",
       "      <th>zip</th>\n",
       "      <th>state</th>\n",
       "      <th>NoShow</th>\n",
       "      <th>discontinued</th>\n",
       "      <th>typecare</th>\n",
       "      <th>day_of_week</th>\n",
       "      <th>day_of_month</th>\n",
       "      <th>month</th>\n",
       "      <th>week_segment</th>\n",
       "      <th>day_in_week_segment</th>\n",
       "      <th>service_time</th>\n",
       "      <th>prior_noShow_rate</th>\n",
       "      <th>prior_service_time_avg</th>\n",
       "    </tr>\n",
       "  </thead>\n",
       "  <tbody>\n",
       "    <tr>\n",
       "      <th>24781417</th>\n",
       "      <td>1957</td>\n",
       "      <td>2017-06-20 09:30:04</td>\n",
       "      <td>358</td>\n",
       "      <td>203</td>\n",
       "      <td>1.0</td>\n",
       "      <td>75</td>\n",
       "      <td>0</td>\n",
       "      <td>234.0</td>\n",
       "      <td>VIRGINIA</td>\n",
       "      <td>0</td>\n",
       "      <td>0</td>\n",
       "      <td>1</td>\n",
       "      <td>1</td>\n",
       "      <td>20</td>\n",
       "      <td>6</td>\n",
       "      <td>3</td>\n",
       "      <td>6</td>\n",
       "      <td>19</td>\n",
       "      <td>0.0</td>\n",
       "      <td>0.0</td>\n",
       "    </tr>\n",
       "    <tr>\n",
       "      <th>24781424</th>\n",
       "      <td>2577</td>\n",
       "      <td>2021-11-03 08:39:33</td>\n",
       "      <td>358</td>\n",
       "      <td>303</td>\n",
       "      <td>0.0</td>\n",
       "      <td>0</td>\n",
       "      <td>0</td>\n",
       "      <td>969.0</td>\n",
       "      <td>GUAM</td>\n",
       "      <td>0</td>\n",
       "      <td>0</td>\n",
       "      <td>1</td>\n",
       "      <td>2</td>\n",
       "      <td>3</td>\n",
       "      <td>11</td>\n",
       "      <td>1</td>\n",
       "      <td>3</td>\n",
       "      <td>132</td>\n",
       "      <td>0.0</td>\n",
       "      <td>0.0</td>\n",
       "    </tr>\n",
       "    <tr>\n",
       "      <th>24781427</th>\n",
       "      <td>3280</td>\n",
       "      <td>2019-12-06 09:41:52</td>\n",
       "      <td>358</td>\n",
       "      <td>303</td>\n",
       "      <td>0.0</td>\n",
       "      <td>4</td>\n",
       "      <td>0</td>\n",
       "      <td>921.0</td>\n",
       "      <td>CALIFORNIA</td>\n",
       "      <td>0</td>\n",
       "      <td>0</td>\n",
       "      <td>1</td>\n",
       "      <td>4</td>\n",
       "      <td>6</td>\n",
       "      <td>12</td>\n",
       "      <td>1</td>\n",
       "      <td>6</td>\n",
       "      <td>273</td>\n",
       "      <td>0.0</td>\n",
       "      <td>0.0</td>\n",
       "    </tr>\n",
       "    <tr>\n",
       "      <th>24781430</th>\n",
       "      <td>3590</td>\n",
       "      <td>2021-05-17 10:01:06</td>\n",
       "      <td>358</td>\n",
       "      <td>303</td>\n",
       "      <td>1.0</td>\n",
       "      <td>0</td>\n",
       "      <td>0</td>\n",
       "      <td>965.0</td>\n",
       "      <td>ARMED FORCES PACIFIC</td>\n",
       "      <td>0</td>\n",
       "      <td>0</td>\n",
       "      <td>1</td>\n",
       "      <td>0</td>\n",
       "      <td>17</td>\n",
       "      <td>5</td>\n",
       "      <td>3</td>\n",
       "      <td>3</td>\n",
       "      <td>6</td>\n",
       "      <td>0.0</td>\n",
       "      <td>0.0</td>\n",
       "    </tr>\n",
       "    <tr>\n",
       "      <th>24781434</th>\n",
       "      <td>3786</td>\n",
       "      <td>2019-07-12 10:28:53</td>\n",
       "      <td>358</td>\n",
       "      <td>203</td>\n",
       "      <td>0.0</td>\n",
       "      <td>0</td>\n",
       "      <td>0</td>\n",
       "      <td>891.0</td>\n",
       "      <td>NEVADA</td>\n",
       "      <td>0</td>\n",
       "      <td>0</td>\n",
       "      <td>1</td>\n",
       "      <td>4</td>\n",
       "      <td>12</td>\n",
       "      <td>7</td>\n",
       "      <td>2</td>\n",
       "      <td>5</td>\n",
       "      <td>0</td>\n",
       "      <td>0.0</td>\n",
       "      <td>0.0</td>\n",
       "    </tr>\n",
       "  </tbody>\n",
       "</table>\n",
       "</div>"
      ],
      "text/plain": [
       "          patientsid    activitydatetime sta3n stopcode  dta  dts non_va  \\\n",
       "24781417        1957 2017-06-20 09:30:04   358      203  1.0   75      0   \n",
       "24781424        2577 2021-11-03 08:39:33   358      303  0.0    0      0   \n",
       "24781427        3280 2019-12-06 09:41:52   358      303  0.0    4      0   \n",
       "24781430        3590 2021-05-17 10:01:06   358      303  1.0    0      0   \n",
       "24781434        3786 2019-07-12 10:28:53   358      203  0.0    0      0   \n",
       "\n",
       "            zip                 state  NoShow  discontinued  typecare  \\\n",
       "24781417  234.0              VIRGINIA       0             0         1   \n",
       "24781424  969.0                  GUAM       0             0         1   \n",
       "24781427  921.0            CALIFORNIA       0             0         1   \n",
       "24781430  965.0  ARMED FORCES PACIFIC       0             0         1   \n",
       "24781434  891.0                NEVADA       0             0         1   \n",
       "\n",
       "          day_of_week  day_of_month  month  week_segment  day_in_week_segment  \\\n",
       "24781417            1            20      6             3                    6   \n",
       "24781424            2             3     11             1                    3   \n",
       "24781427            4             6     12             1                    6   \n",
       "24781430            0            17      5             3                    3   \n",
       "24781434            4            12      7             2                    5   \n",
       "\n",
       "          service_time  prior_noShow_rate  prior_service_time_avg  \n",
       "24781417            19                0.0                     0.0  \n",
       "24781424           132                0.0                     0.0  \n",
       "24781427           273                0.0                     0.0  \n",
       "24781430             6                0.0                     0.0  \n",
       "24781434             0                0.0                     0.0  "
      ]
     },
     "execution_count": 66,
     "metadata": {},
     "output_type": "execute_result"
    }
   ],
   "source": [
    "# Calculer la somme cumulée et le nombre cumulatif des service_time pour chaque patient\n",
    "data['cumulative_service_time_sum'] = data.groupby('patientsid')['service_time'].expanding().sum().reset_index(level=0, drop=True)\n",
    "data['cumulative_service_time_count'] = data.groupby('patientsid')['service_time'].expanding().count().reset_index(level=0, drop=True)\n",
    "\n",
    "# Calculer la moyenne du service_time précédent\n",
    "data['prior_service_time_avg'] = data['cumulative_service_time_sum'] / data['cumulative_service_time_count']\n",
    "\n",
    "# Déplacer la moyenne pour qu'elle représente la moyenne avant la consultation actuelle\n",
    "data['prior_service_time_avg'] = data.groupby('patientsid')['prior_service_time_avg'].shift(1).fillna(0)\n",
    "\n",
    "# Supprimer les colonnes temporaires\n",
    "data = data.drop(columns=['cumulative_service_time_sum', 'cumulative_service_time_count'])\n",
    "data.head()"
   ]
  },
  {
   "cell_type": "markdown",
   "id": "de789269",
   "metadata": {
    "id": "de789269"
   },
   "source": [
    "<a name=\"3.2.2\"></a>\n",
    "3.2.2 - Feature Selection"
   ]
  },
  {
   "cell_type": "code",
   "execution_count": 67,
   "id": "7b98b6ca",
   "metadata": {
    "id": "7b98b6ca"
   },
   "outputs": [],
   "source": [
    "data.drop('activitydatetime', axis=1, inplace=True)\n",
    "#del daily_no_show"
   ]
  },
  {
   "cell_type": "code",
   "execution_count": 68,
   "id": "eb683bfb",
   "metadata": {
    "id": "eb683bfb"
   },
   "outputs": [],
   "source": [
    "data.drop(['patientsid'], axis = True, inplace=True)"
   ]
  },
  {
   "cell_type": "markdown",
   "id": "4a37a42c",
   "metadata": {
    "id": "4a37a42c"
   },
   "source": [
    "<a name=\"3.2.3\"></a>\n",
    "3.2.3 - Data Standardization/normalisation"
   ]
  },
  {
   "cell_type": "code",
   "execution_count": 11,
   "id": "b2d89179",
   "metadata": {},
   "outputs": [],
   "source": [
    "save_dataframe(data, 'data_st')"
   ]
  }
 ],
 "metadata": {
  "colab": {
   "provenance": []
  },
  "kernelspec": {
   "display_name": "Python 3 (ipykernel)",
   "language": "python",
   "name": "python3"
  },
  "language_info": {
   "codemirror_mode": {
    "name": "ipython",
    "version": 3
   },
   "file_extension": ".py",
   "mimetype": "text/x-python",
   "name": "python",
   "nbconvert_exporter": "python",
   "pygments_lexer": "ipython3",
   "version": "3.9.19"
  }
 },
 "nbformat": 4,
 "nbformat_minor": 5
}
